{
 "cells": [
  {
   "cell_type": "code",
   "execution_count": null,
   "metadata": {},
   "outputs": [],
   "source": [
    "import os\n",
    "from connection_complexity.data.raw_data.EDF.edf_helpers import read_edf\n",
    "import connection_complexity.data.rereference_helpers as reref_helpers\n",
    "from tqdm.notebook import tqdm\n",
    "\n",
    "from mne import make_fixed_length_epochs\n",
    "import pandas as pd\n",
    "import numpy as np"
   ]
  },
  {
   "cell_type": "code",
   "execution_count": 4,
   "metadata": {},
   "outputs": [],
   "source": [
    "project_path = \"/home/dan/data/connectivity/pyspi_testing\""
   ]
  },
  {
   "cell_type": "code",
   "execution_count": 5,
   "metadata": {},
   "outputs": [
    {
     "data": {
      "text/plain": [
       "array([102, 435])"
      ]
     },
     "execution_count": 5,
     "metadata": {},
     "output_type": "execute_result"
    }
   ],
   "source": [
    "# set random seed\n",
    "np.random.seed(42)\n",
    "\n",
    "# set random epoch indices\n",
    "random_epoch_idx = np.random.randint(0,500+1,size=2)\n",
    "random_epoch_idx\n"
   ]
  },
  {
   "cell_type": "code",
   "execution_count": 6,
   "metadata": {},
   "outputs": [],
   "source": [
    "pids = []\n",
    "\n",
    "for file in os.listdir(\"/media/dan/Data/data/baseline_patients/baseline_edfs\"):\n",
    "    if file.endswith(\".EDF\"):\n",
    "        pids.append(file.split(\"_\")[0])\n",
    "\n",
    "pids = list(set(pids))\n",
    "pids = sorted([int(pid) for pid in pids])"
   ]
  },
  {
   "cell_type": "code",
   "execution_count": null,
   "metadata": {},
   "outputs": [],
   "source": [
    "100.102.168.79"
   ]
  },
  {
   "cell_type": "code",
   "execution_count": 7,
   "metadata": {},
   "outputs": [],
   "source": [
    "bad_channels_path = \"/media/dan/Big/manuiscript_0001_hfo_rates/data/bad_ch_review.xlsx\"\n",
    "\n",
    "\n",
    "bad_channels = pd.read_excel(bad_channels_path)\n",
    "bad_channels[\"ch\"] = bad_channels[\"ch\"].apply(lambda x: x.replace(\" \", \"\"))\n",
    "bad_channels[\"ch\"] = bad_channels[\"ch\"].apply(lambda x: x.replace(\"-\", \"~\"))\n",
    "bad_channels[\"use\"] = bad_channels[\"use\"].fillna(1)\n",
    "bad_channels[\"use2\"] = bad_channels[\"use2\"].fillna(1)\n",
    "bad_channels[\"use\"] = bad_channels[\"use\"].astype(bool)\n",
    "bad_channels[\"use2\"] = bad_channels[\"use2\"].astype(bool)\n",
    "\n",
    "# OR bad_channel columns\n",
    "bad_channels[\"bad_channel\"] = ~(bad_channels[\"use\"] & bad_channels[\"use2\"])"
   ]
  },
  {
   "cell_type": "code",
   "execution_count": 10,
   "metadata": {},
   "outputs": [
    {
     "name": "stdout",
     "output_type": "stream",
     "text": [
      "/media/dan/Data/data/baseline_patients/baseline_edfs/014_Baseline.EDF\n"
     ]
    }
   ],
   "source": [
    "npy_output_path = f\"/media/dan/Data/git/ubiquitous-spork/common_average_reref/two_epochs/run_data\"\n",
    "\n",
    "pid = 14\n",
    "file = f\"/media/dan/Data/data/baseline_patients/baseline_edfs/{pid:03}_Baseline.EDF\"\n",
    "print(file)\n",
    "raw = read_edf(file, preload=True)\n",
    "\n",
    "# drop bad channels\n",
    "try:\n",
    "    raw = raw.drop_channels(bad_channels[(bad_channels[\"bad_channel\"] == 1) & (bad_channels[\"pid\"] == pid)][\"ch\"].values)\n",
    "except:\n",
    "    bc = bad_channels[(bad_channels[\"bad_channel\"] == 1) & (bad_channels[\"pid\"] == pid)][\"ch\"]\n",
    "    for b in bc:\n",
    "        try:\n",
    "            raw = raw.drop_channels(b)\n",
    "        except:\n",
    "            pass\n",
    "\n",
    "# # filter\n",
    "sfreq = raw.info[\"sfreq\"]\n",
    "# nyq_freq = raw.info[\"sfreq\"] // 2 - 1\n",
    "# line_freq = 60\n",
    "# l_freq = 0.5\n",
    "# h_freq = min(nyq_freq, 300)\n",
    "# raw = raw.filter(l_freq=l_freq, h_freq=h_freq)\n",
    "# freqs = np.arange(line_freq, max(h_freq, nyq_freq), line_freq)\n",
    "# raw = raw.notch_filter(freqs=freqs, method=\"fir\")\n",
    "\n",
    "raw = raw.set_eeg_reference(ref_channels=\"average\", projection=False, verbose=False)\n",
    "\n",
    "# downsample raw to 256 Hz\n",
    "target_sfreq = 256\n",
    "if sfreq != target_sfreq:\n",
    "    raw = raw.resample(target_sfreq, npad=\"auto\")\n",
    "    sfreq = raw.info[\"sfreq\"]\n",
    "\n",
    "# non overlapping epochs\n",
    "dur_sec = .5\n",
    "overlap_sec = 0\n",
    "epochs = make_fixed_length_epochs(raw, duration=dur_sec, overlap=overlap_sec, preload=True)\n",
    "epochs = epochs.get_data()\n",
    "\n",
    "for i, e in zip(random_epoch_idx, epochs): \n",
    "    start_idx = int(sfreq * dur_sec) * i\n",
    "    end_idx = start_idx + int(sfreq * dur_sec)\n",
    "    np.save(os.path.join(npy_output_path, f\"{pid:03}_epoch_{start_idx:010d}-{end_idx:010d}.npy\"), e[:3, :])\n",
    "    break"
   ]
  },
  {
   "cell_type": "code",
   "execution_count": null,
   "metadata": {},
   "outputs": [
    {
     "data": {
      "text/plain": [
       "(3, 1024)"
      ]
     },
     "execution_count": 58,
     "metadata": {},
     "output_type": "execute_result"
    },
    {
     "ename": "",
     "evalue": "",
     "output_type": "error",
     "traceback": [
      "\u001b[1;31mThe Kernel crashed while executing code in the current cell or a previous cell. \n",
      "\u001b[1;31mPlease review the code in the cell(s) to identify a possible cause of the failure. \n",
      "\u001b[1;31mClick <a href='https://aka.ms/vscodeJupyterKernelCrash'>here</a> for more info. \n",
      "\u001b[1;31mView Jupyter <a href='command:jupyter.viewOutput'>log</a> for further details."
     ]
    }
   ],
   "source": [
    "e[:3,:].shape"
   ]
  },
  {
   "cell_type": "code",
   "execution_count": null,
   "metadata": {},
   "outputs": [
    {
     "data": {
      "application/vnd.jupyter.widget-view+json": {
       "model_id": "3ee21cf5e0bd4d85a1d4ab6389e692c5",
       "version_major": 2,
       "version_minor": 0
      },
      "text/plain": [
       "  0%|          | 0/72 [00:00<?, ?it/s]"
      ]
     },
     "metadata": {},
     "output_type": "display_data"
    },
    {
     "name": "stdout",
     "output_type": "stream",
     "text": [
      "/media/dan/Data/data/baseline_patients/baseline_edfs/001_Baseline.EDF\n",
      "/media/dan/Data/data/baseline_patients/baseline_edfs/004_Baseline.EDF\n",
      "/media/dan/Data/data/baseline_patients/baseline_edfs/006_Baseline.EDF\n",
      "/media/dan/Data/data/baseline_patients/baseline_edfs/008_Baseline.EDF\n",
      "/media/dan/Data/data/baseline_patients/baseline_edfs/009_Baseline.EDF\n",
      "/media/dan/Data/data/baseline_patients/baseline_edfs/010_Baseline.EDF\n",
      "/media/dan/Data/data/baseline_patients/baseline_edfs/011_Baseline.EDF\n",
      "/media/dan/Data/data/baseline_patients/baseline_edfs/012_Baseline.EDF\n",
      "/media/dan/Data/data/baseline_patients/baseline_edfs/013_Baseline.EDF\n",
      "/media/dan/Data/data/baseline_patients/baseline_edfs/014_Baseline.EDF\n",
      "/media/dan/Data/data/baseline_patients/baseline_edfs/016_Baseline.EDF\n",
      "/media/dan/Data/data/baseline_patients/baseline_edfs/017_Baseline.EDF\n",
      "/media/dan/Data/data/baseline_patients/baseline_edfs/018_Baseline.EDF\n",
      "/media/dan/Data/data/baseline_patients/baseline_edfs/019_Baseline.EDF\n",
      "/media/dan/Data/data/baseline_patients/baseline_edfs/020_Baseline.EDF\n",
      "/media/dan/Data/data/baseline_patients/baseline_edfs/022_Baseline.EDF\n",
      "/media/dan/Data/data/baseline_patients/baseline_edfs/024_Baseline.EDF\n",
      "/media/dan/Data/data/baseline_patients/baseline_edfs/025_Baseline.EDF\n",
      "/media/dan/Data/data/baseline_patients/baseline_edfs/026_Baseline.EDF\n",
      "/media/dan/Data/data/baseline_patients/baseline_edfs/027_Baseline.EDF\n",
      "/media/dan/Data/data/baseline_patients/baseline_edfs/028_Baseline.EDF\n",
      "/media/dan/Data/data/baseline_patients/baseline_edfs/030_Baseline.EDF\n",
      "/media/dan/Data/data/baseline_patients/baseline_edfs/031_Baseline.EDF\n",
      "/media/dan/Data/data/baseline_patients/baseline_edfs/033_Baseline.EDF\n",
      "/media/dan/Data/data/baseline_patients/baseline_edfs/034_Baseline.EDF\n",
      "/media/dan/Data/data/baseline_patients/baseline_edfs/035_Baseline.EDF\n",
      "/media/dan/Data/data/baseline_patients/baseline_edfs/036_Baseline.EDF\n",
      "/media/dan/Data/data/baseline_patients/baseline_edfs/037_Baseline.EDF\n",
      "/media/dan/Data/data/baseline_patients/baseline_edfs/038_Baseline.EDF\n",
      "/media/dan/Data/data/baseline_patients/baseline_edfs/039_Baseline.EDF\n",
      "/media/dan/Data/data/baseline_patients/baseline_edfs/040_Baseline.EDF\n",
      "/media/dan/Data/data/baseline_patients/baseline_edfs/041_Baseline.EDF\n",
      "/media/dan/Data/data/baseline_patients/baseline_edfs/043_Baseline.EDF\n",
      "/media/dan/Data/data/baseline_patients/baseline_edfs/047_Baseline.EDF\n",
      "/media/dan/Data/data/baseline_patients/baseline_edfs/051_Baseline.EDF\n",
      "/media/dan/Data/data/baseline_patients/baseline_edfs/055_Baseline.EDF\n",
      "/media/dan/Data/data/baseline_patients/baseline_edfs/060_Baseline.EDF\n",
      "/media/dan/Data/data/baseline_patients/baseline_edfs/062_Baseline.EDF\n",
      "/media/dan/Data/data/baseline_patients/baseline_edfs/064_Baseline.EDF\n",
      "/media/dan/Data/data/baseline_patients/baseline_edfs/066_Baseline.EDF\n",
      "/media/dan/Data/data/baseline_patients/baseline_edfs/069_Baseline.EDF\n",
      "/media/dan/Data/data/baseline_patients/baseline_edfs/072_Baseline.EDF\n",
      "/media/dan/Data/data/baseline_patients/baseline_edfs/073_Baseline.EDF\n",
      "/media/dan/Data/data/baseline_patients/baseline_edfs/074_Baseline.EDF\n",
      "/media/dan/Data/data/baseline_patients/baseline_edfs/075_Baseline.EDF\n",
      "/media/dan/Data/data/baseline_patients/baseline_edfs/077_Baseline.EDF\n",
      "/media/dan/Data/data/baseline_patients/baseline_edfs/078_Baseline.EDF\n",
      "/media/dan/Data/data/baseline_patients/baseline_edfs/079_Baseline.EDF\n",
      "/media/dan/Data/data/baseline_patients/baseline_edfs/081_Baseline.EDF\n",
      "/media/dan/Data/data/baseline_patients/baseline_edfs/082_Baseline.EDF\n",
      "/media/dan/Data/data/baseline_patients/baseline_edfs/083_Baseline.EDF\n",
      "/media/dan/Data/data/baseline_patients/baseline_edfs/086_Baseline.EDF\n",
      "/media/dan/Data/data/baseline_patients/baseline_edfs/087_Baseline.EDF\n",
      "/media/dan/Data/data/baseline_patients/baseline_edfs/089_Baseline.EDF\n",
      "/media/dan/Data/data/baseline_patients/baseline_edfs/090_Baseline.EDF\n",
      "/media/dan/Data/data/baseline_patients/baseline_edfs/091_Baseline.EDF\n",
      "/media/dan/Data/data/baseline_patients/baseline_edfs/092_Baseline.EDF\n",
      "/media/dan/Data/data/baseline_patients/baseline_edfs/094_Baseline.EDF\n",
      "/media/dan/Data/data/baseline_patients/baseline_edfs/095_Baseline.EDF\n",
      "/media/dan/Data/data/baseline_patients/baseline_edfs/096_Baseline.EDF\n",
      "/media/dan/Data/data/baseline_patients/baseline_edfs/098_Baseline.EDF\n",
      "/media/dan/Data/data/baseline_patients/baseline_edfs/099_Baseline.EDF\n",
      "/media/dan/Data/data/baseline_patients/baseline_edfs/100_Baseline.EDF\n",
      "/media/dan/Data/data/baseline_patients/baseline_edfs/101_Baseline.EDF\n",
      "/media/dan/Data/data/baseline_patients/baseline_edfs/102_Baseline.EDF\n",
      "/media/dan/Data/data/baseline_patients/baseline_edfs/105_Baseline.EDF\n",
      "/media/dan/Data/data/baseline_patients/baseline_edfs/106_Baseline.EDF\n",
      "/media/dan/Data/data/baseline_patients/baseline_edfs/108_Baseline.EDF\n",
      "/media/dan/Data/data/baseline_patients/baseline_edfs/109_Baseline.EDF\n",
      "/media/dan/Data/data/baseline_patients/baseline_edfs/111_Baseline.EDF\n",
      "/media/dan/Data/data/baseline_patients/baseline_edfs/112_Baseline.EDF\n",
      "/media/dan/Data/data/baseline_patients/baseline_edfs/113_Baseline.EDF\n"
     ]
    }
   ],
   "source": [
    "npy_output_path = f\"/media/dan/Data/git/ubiquitous-spork/common_average_reref/two_epochs/run_data/npy\"\n",
    "contacts_used_output_path = f\"/media/dan/Data/git/ubiquitous-spork/common_average_reref/two_epochs/run_data/contacts_used\"\n",
    "# make output paths\n",
    "if not os.path.exists(npy_output_path):\n",
    "    os.makedirs(npy_output_path)\n",
    "\n",
    "if not os.path.exists(contacts_used_output_path):\n",
    "    os.makedirs(contacts_used_output_path)\n",
    "\n",
    "for pid in tqdm(pids):\n",
    "    file = f\"/media/dan/Data/data/baseline_patients/baseline_edfs/{pid:03}_Baseline.EDF\"\n",
    "    print(file)\n",
    "    raw = read_edf(file, preload=True)\n",
    "\n",
    "    # drop bad channels\n",
    "    try:\n",
    "        raw = raw.drop_channels(bad_channels[(bad_channels[\"bad_channel\"] == 1) & (bad_channels[\"pid\"] == pid)][\"ch\"].values)\n",
    "    except:\n",
    "        bc = bad_channels[(bad_channels[\"bad_channel\"] == 1) & (bad_channels[\"pid\"] == pid)][\"ch\"]\n",
    "        for b in bc:\n",
    "            try:\n",
    "                raw = raw.drop_channels(b)\n",
    "            except:\n",
    "                pass\n",
    "\n",
    "    # filter\n",
    "    sfreq = raw.info[\"sfreq\"]\n",
    "    nyq_freq = raw.info[\"sfreq\"] // 2 - 1\n",
    "    line_freq = 60\n",
    "    l_freq = 0.5\n",
    "    h_freq = min(nyq_freq, 300)\n",
    "    raw = raw.filter(l_freq=l_freq, h_freq=h_freq)\n",
    "    freqs = np.arange(line_freq, max(h_freq, nyq_freq), line_freq)\n",
    "    raw = raw.notch_filter(freqs=freqs, method=\"fir\")\n",
    "\n",
    "    raw = raw.set_eeg_reference(ref_channels=\"average\", projection=False, verbose=False)\n",
    "\n",
    "    data = raw.get_data()\n",
    "\n",
    "    contacts_used = raw.ch_names\n",
    "    # save csv of contacts used\n",
    "    pd.DataFrame(contacts_used, columns=[\"contact\"]).to_csv(os.path.join(contacts_used_output_path, f\"{pid:03}_contacts_used.csv\"), index=False)\n",
    "    \n",
    "    # non overlapping epochs\n",
    "    dur_sec = .5\n",
    "    overlap_sec = 0\n",
    "    epochs = make_fixed_length_epochs(raw, duration=dur_sec,overlap=overlap_sec, preload=True)\n",
    "    epochs = epochs.get_data()\n",
    "\n",
    "    for i, e in zip(random_epoch_idx, epochs): \n",
    "        start_idx = int(sfreq * dur_sec) * i\n",
    "        end_idx = start_idx + int(sfreq * dur_sec)\n",
    "        np.save(os.path.join(npy_output_path, f\"{pid:03}_epoch_{start_idx:010d}-{end_idx:010d}.npy\"), e)\n"
   ]
  },
  {
   "cell_type": "code",
   "execution_count": 35,
   "metadata": {},
   "outputs": [],
   "source": [
    "# define the YAML file location\n",
    "yaml_file = os.path.join(npy_output_path,\"run_config.yaml\")\n",
    "\n",
    "# remove the file if it already exists\n",
    "if os.path.exists(yaml_file):\n",
    "    os.remove(yaml_file)\n",
    "\n",
    "# ps -> rows = processes; columns = time pts.\n",
    "dim_order = \"ps\"\n",
    "\n",
    "\n",
    "import glob\n",
    "files = list(sorted(list(glob.glob(os.path.join(npy_output_path, \"*.npy\")))))\n",
    "\n",
    "for f in sorted(files): # start 1 minute in only use first 5 seconds\n",
    "    # get the epoch number\n",
    "    i = os.path.basename(f).split(\"_\")[-1].split(\".\")[0]\n",
    "\n",
    "    pid = os.path.basename(f).split(\"_\")[0]\n",
    "    # define template string and fill in variables\n",
    "    \n",
    "    lbl = f\"{pid}_epoch_{i}\"\n",
    "    path = os.path.join(npy_output_path, lbl)\n",
    "    yaml_string = \"{{file: {file}.npy, name: {key}, dim_order: {dim_order}, labels: [{key}]}}\\n\"\n",
    "    yaml_string_formatted = f\"- {yaml_string.format(file=path, key=lbl, dim_order=dim_order)}\"\n",
    "\n",
    "    # append line to file\n",
    "    with open(yaml_file, \"a\") as f:\n",
    "        f.write(yaml_string_formatted)"
   ]
  },
  {
   "cell_type": "markdown",
   "metadata": {},
   "source": [
    "# make sure yaml loads"
   ]
  },
  {
   "cell_type": "code",
   "execution_count": 36,
   "metadata": {},
   "outputs": [],
   "source": [
    "import yaml\n",
    "with open(yaml_file) as d:\n",
    "    yf = yaml.load(d,Loader=yaml.FullLoader)"
   ]
  },
  {
   "cell_type": "code",
   "execution_count": null,
   "metadata": {},
   "outputs": [],
   "source": []
  }
 ],
 "metadata": {
  "kernelspec": {
   "display_name": "networks",
   "language": "python",
   "name": "python3"
  },
  "language_info": {
   "codemirror_mode": {
    "name": "ipython",
    "version": 3
   },
   "file_extension": ".py",
   "mimetype": "text/x-python",
   "name": "python",
   "nbconvert_exporter": "python",
   "pygments_lexer": "ipython3",
   "version": "3.12.9"
  }
 },
 "nbformat": 4,
 "nbformat_minor": 2
}
