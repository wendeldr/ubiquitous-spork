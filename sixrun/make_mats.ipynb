{
 "cells": [
  {
   "cell_type": "code",
   "execution_count": 1,
   "metadata": {},
   "outputs": [],
   "source": [
    "import numpy as np\n",
    "from tqdm import tqdm\n",
    "import pandas as pd\n",
    "import scipy.io\n",
    "from tqdm import tqdm\n",
    "\n",
    "import h5py\n",
    "import os\n",
    "import dill"
   ]
  },
  {
   "cell_type": "code",
   "execution_count": 2,
   "metadata": {},
   "outputs": [],
   "source": [
    "# Function to write results to HDF5\n",
    "def save_to_hdf5(path, data, file_path):\n",
    "    if len(data) == 0:\n",
    "        return\n",
    "    with h5py.File(file_path, \"a\") as hdf5_file:\n",
    "        if path not in hdf5_file:\n",
    "            hdf5_file.create_dataset(path, data=data, maxshape=(None,), compression=\"gzip\")\n",
    "        else:\n",
    "            dataset = hdf5_file[path]\n",
    "            dataset.resize(dataset.shape[0] + data.shape[0], axis=0)\n",
    "            dataset[-data.shape[0]:] = data\n",
    "\n",
    "def get_idxs(idxs, soz_idx):\n",
    "    soz_soz = []\n",
    "    soz_non = []\n",
    "    non_soz = []\n",
    "    non_non = []\n",
    "    for x, y in zip(idxs[0], idxs[1]):\n",
    "        if x in soz_idx and y in soz_idx:\n",
    "            soz_soz.append((x, y))\n",
    "        elif x in soz_idx or y in soz_idx:\n",
    "            if x in soz_idx:\n",
    "                soz_non.append((x, y))\n",
    "            else:\n",
    "                non_soz.append((x, y))\n",
    "        else:\n",
    "            non_non.append((x, y))\n",
    "    return np.array(soz_soz), np.array(soz_non), np.array(non_soz), np.array(non_non)\n",
    "\n",
    "def safe_slice_and_flatten(measure, idx_array):\n",
    "    if len(idx_array) == 0:\n",
    "        return np.array([])  # Return empty array if no indices\n",
    "    return measure[:, idx_array[:, 0], idx_array[:, 1]].flatten()\n",
    "\n",
    "output_path = \"/media/dan/Data2/calculations/connectivity/additional_calcs/mats\"\n",
    "mapping_path = \"/media/dan/Big/manuiscript_0001_hfo_rates/data/FULL_composite_patient_info.csv\"  \n",
    "ilae_path = \"/media/dan/Big/manuiscript_0001_hfo_rates/ravi_hfo_numbers~N59+v03.csv\"\n",
    "# calculation_path = \"/media/dan/Big/network_mining/calculations/sixrun/calculations/additional_calculations\"\n",
    "calculation_path = \"/media/dan/Big/network_mining/calculations/sixrun/calculations/six_run\"\n",
    "csv_path = \"/media/dan/Big/network_mining/calculations/electrodes_used\"\n",
    "\n",
    "mappings = pd.read_csv(mapping_path)\n",
    "ilae = pd.read_csv(ilae_path)\n",
    "# for each patient in mappings, find the corresponding ilae number. The patient may not be in the ilae dataset but has a designation of seizureFree or not.\n",
    "# if the patient is not in the ilae dataset, then use the seizureFree column to determine the ilae number where -1 is seizureFree and 100 is not seizureFree\n",
    "ilae_numbers = {}\n",
    "for p in mappings[\"pid\"].unique():\n",
    "    if p in ilae[\"patient\"].values:\n",
    "        ilae_numbers[p] = ilae[ilae[\"patient\"] == p][\"ilae\"].values[0]\n",
    "    else:\n",
    "        if mappings[mappings[\"pid\"] == p][\"seizureFree\"].values[0] == True:\n",
    "            ilae_numbers[p] = -1\n",
    "        else:\n",
    "            ilae_numbers[p] = 100\n",
    "\n",
    "# now we have a dictionary of ilae numbers for each patient. Fill in the mappings dataframe with these numbers which has multiple rows for each patient\n",
    "ilae_list = []\n",
    "for p in mappings[\"pid\"]:\n",
    "    ilae_list.append(ilae_numbers[p])\n",
    "mappings[\"ilae\"] = ilae_list\n"
   ]
  },
  {
   "cell_type": "code",
   "execution_count": 3,
   "metadata": {},
   "outputs": [],
   "source": [
    "files = list(sorted(os.listdir(calculation_path)))"
   ]
  },
  {
   "cell_type": "code",
   "execution_count": 9,
   "metadata": {},
   "outputs": [],
   "source": [
    "columns = None\n",
    "with open(os.path.join(calculation_path, files[5], 'calc.pkl'), \"rb\") as f:\n",
    "   columns = dill.load(f)\n",
    "columns = columns.columns.levels[0].unique()"
   ]
  },
  {
   "cell_type": "code",
   "execution_count": 4,
   "metadata": {},
   "outputs": [],
   "source": [
    "pids = list(sorted(set([int(f.split(\"_\")[0]) for f in files])))"
   ]
  },
  {
   "cell_type": "code",
   "execution_count": 11,
   "metadata": {},
   "outputs": [
    {
     "name": "stderr",
     "output_type": "stream",
     "text": [
      "Patients:  96%|█████████▌| 69/72 [2:16:06<06:07, 122.38s/it]  "
     ]
    },
    {
     "name": "stdout",
     "output_type": "stream",
     "text": [
      "Error loading cohmag_multitaper_mean_fs-1_fmin-0-000488_fmax-0-00195 for 111\n",
      "Error loading cohmag_multitaper_mean_fs-1_fmin-0-000488_fmax-0-00195 for 111\n"
     ]
    },
    {
     "name": "stderr",
     "output_type": "stream",
     "text": []
    },
    {
     "name": "stdout",
     "output_type": "stream",
     "text": [
      "Error loading cohmag_multitaper_mean_fs-1_fmin-0-000488_fmax-0-0342 for 111\n",
      "Error loading cohmag_multitaper_mean_fs-1_fmin-0-000488_fmax-0-0342 for 111\n"
     ]
    },
    {
     "name": "stderr",
     "output_type": "stream",
     "text": []
    },
    {
     "name": "stdout",
     "output_type": "stream",
     "text": [
      "Error loading cohmag_multitaper_mean_fs-1_fmin-0-000488_fmax-0-122 for 111\n",
      "Error loading cohmag_multitaper_mean_fs-1_fmin-0-000488_fmax-0-122 for 111\n"
     ]
    },
    {
     "name": "stderr",
     "output_type": "stream",
     "text": []
    },
    {
     "name": "stdout",
     "output_type": "stream",
     "text": [
      "Error loading cohmag_multitaper_mean_fs-1_fmin-0-00195_fmax-0-00391 for 111\n",
      "Error loading cohmag_multitaper_mean_fs-1_fmin-0-00195_fmax-0-00391 for 111\n"
     ]
    },
    {
     "name": "stderr",
     "output_type": "stream",
     "text": []
    },
    {
     "name": "stdout",
     "output_type": "stream",
     "text": [
      "Error loading cohmag_multitaper_mean_fs-1_fmin-0-00391_fmax-0-00586 for 111\n",
      "Error loading cohmag_multitaper_mean_fs-1_fmin-0-00391_fmax-0-00586 for 111\n"
     ]
    },
    {
     "name": "stderr",
     "output_type": "stream",
     "text": []
    },
    {
     "name": "stdout",
     "output_type": "stream",
     "text": [
      "Error loading cohmag_multitaper_mean_fs-1_fmin-0-00586_fmax-0-0146 for 111\n",
      "Error loading cohmag_multitaper_mean_fs-1_fmin-0-00586_fmax-0-0146 for 111\n"
     ]
    },
    {
     "name": "stderr",
     "output_type": "stream",
     "text": []
    },
    {
     "name": "stdout",
     "output_type": "stream",
     "text": [
      "Error loading cohmag_multitaper_mean_fs-1_fmin-0-0146_fmax-0-0342 for 111\n",
      "Error loading cohmag_multitaper_mean_fs-1_fmin-0-0146_fmax-0-0342 for 111\n"
     ]
    },
    {
     "name": "stderr",
     "output_type": "stream",
     "text": []
    },
    {
     "name": "stdout",
     "output_type": "stream",
     "text": [
      "Error loading cohmag_multitaper_mean_fs-1_fmin-0-0342_fmax-0-0732 for 111\n",
      "Error loading cohmag_multitaper_mean_fs-1_fmin-0-0342_fmax-0-0732 for 111\n"
     ]
    },
    {
     "name": "stderr",
     "output_type": "stream",
     "text": []
    },
    {
     "name": "stdout",
     "output_type": "stream",
     "text": [
      "Error loading cohmag_multitaper_mean_fs-1_fmin-0-0342_fmax-0-122 for 111\n",
      "Error loading cohmag_multitaper_mean_fs-1_fmin-0-0342_fmax-0-122 for 111\n"
     ]
    },
    {
     "name": "stderr",
     "output_type": "stream",
     "text": []
    },
    {
     "name": "stdout",
     "output_type": "stream",
     "text": [
      "Error loading cohmag_multitaper_mean_fs-1_fmin-0-0732_fmax-0-122 for 111\n",
      "Error loading cohmag_multitaper_mean_fs-1_fmin-0-0732_fmax-0-122 for 111\n"
     ]
    },
    {
     "name": "stderr",
     "output_type": "stream",
     "text": []
    },
    {
     "name": "stdout",
     "output_type": "stream",
     "text": [
      "Error loading cohmag_multitaper_mean_fs-1_fmin-0_fmax-0-5 for 111\n",
      "Error loading cohmag_multitaper_mean_fs-1_fmin-0_fmax-0-5 for 111\n"
     ]
    },
    {
     "name": "stderr",
     "output_type": "stream",
     "text": []
    },
    {
     "name": "stdout",
     "output_type": "stream",
     "text": [
      "Error loading gc_gaussian_k-1_kt-1_l-1_lt-1 for 111\n",
      "Error loading gc_gaussian_k-1_kt-1_l-1_lt-1 for 111\n"
     ]
    },
    {
     "name": "stderr",
     "output_type": "stream",
     "text": []
    },
    {
     "name": "stdout",
     "output_type": "stream",
     "text": [
      "Error loading icoh_multitaper_mean_fs-1_fmin-0-000488_fmax-0-00195 for 111\n",
      "Error loading icoh_multitaper_mean_fs-1_fmin-0-000488_fmax-0-00195 for 111\n"
     ]
    },
    {
     "name": "stderr",
     "output_type": "stream",
     "text": []
    },
    {
     "name": "stdout",
     "output_type": "stream",
     "text": [
      "Error loading icoh_multitaper_mean_fs-1_fmin-0-000488_fmax-0-0342 for 111\n",
      "Error loading icoh_multitaper_mean_fs-1_fmin-0-000488_fmax-0-0342 for 111\n"
     ]
    },
    {
     "name": "stderr",
     "output_type": "stream",
     "text": []
    },
    {
     "name": "stdout",
     "output_type": "stream",
     "text": [
      "Error loading icoh_multitaper_mean_fs-1_fmin-0-000488_fmax-0-122 for 111\n",
      "Error loading icoh_multitaper_mean_fs-1_fmin-0-000488_fmax-0-122 for 111\n"
     ]
    },
    {
     "name": "stderr",
     "output_type": "stream",
     "text": []
    },
    {
     "name": "stdout",
     "output_type": "stream",
     "text": [
      "Error loading icoh_multitaper_mean_fs-1_fmin-0-00195_fmax-0-00391 for 111\n",
      "Error loading icoh_multitaper_mean_fs-1_fmin-0-00195_fmax-0-00391 for 111\n"
     ]
    },
    {
     "name": "stderr",
     "output_type": "stream",
     "text": []
    },
    {
     "name": "stdout",
     "output_type": "stream",
     "text": [
      "Error loading icoh_multitaper_mean_fs-1_fmin-0-00391_fmax-0-00586 for 111\n",
      "Error loading icoh_multitaper_mean_fs-1_fmin-0-00391_fmax-0-00586 for 111\n"
     ]
    },
    {
     "name": "stderr",
     "output_type": "stream",
     "text": []
    },
    {
     "name": "stdout",
     "output_type": "stream",
     "text": [
      "Error loading icoh_multitaper_mean_fs-1_fmin-0-00586_fmax-0-0146 for 111\n",
      "Error loading icoh_multitaper_mean_fs-1_fmin-0-00586_fmax-0-0146 for 111\n"
     ]
    },
    {
     "name": "stderr",
     "output_type": "stream",
     "text": []
    },
    {
     "name": "stdout",
     "output_type": "stream",
     "text": [
      "Error loading icoh_multitaper_mean_fs-1_fmin-0-0146_fmax-0-0342 for 111\n",
      "Error loading icoh_multitaper_mean_fs-1_fmin-0-0146_fmax-0-0342 for 111\n"
     ]
    },
    {
     "name": "stderr",
     "output_type": "stream",
     "text": []
    },
    {
     "name": "stdout",
     "output_type": "stream",
     "text": [
      "Error loading icoh_multitaper_mean_fs-1_fmin-0-0342_fmax-0-0732 for 111\n",
      "Error loading icoh_multitaper_mean_fs-1_fmin-0-0342_fmax-0-0732 for 111\n"
     ]
    },
    {
     "name": "stderr",
     "output_type": "stream",
     "text": []
    },
    {
     "name": "stdout",
     "output_type": "stream",
     "text": [
      "Error loading icoh_multitaper_mean_fs-1_fmin-0-0342_fmax-0-122 for 111\n",
      "Error loading icoh_multitaper_mean_fs-1_fmin-0-0342_fmax-0-122 for 111\n"
     ]
    },
    {
     "name": "stderr",
     "output_type": "stream",
     "text": []
    },
    {
     "name": "stdout",
     "output_type": "stream",
     "text": [
      "Error loading icoh_multitaper_mean_fs-1_fmin-0-0732_fmax-0-122 for 111\n",
      "Error loading icoh_multitaper_mean_fs-1_fmin-0-0732_fmax-0-122 for 111\n"
     ]
    },
    {
     "name": "stderr",
     "output_type": "stream",
     "text": []
    },
    {
     "name": "stdout",
     "output_type": "stream",
     "text": [
      "Error loading icoh_multitaper_mean_fs-1_fmin-0_fmax-0-5 for 111\n",
      "Error loading icoh_multitaper_mean_fs-1_fmin-0_fmax-0-5 for 111\n"
     ]
    },
    {
     "name": "stderr",
     "output_type": "stream",
     "text": []
    },
    {
     "name": "stdout",
     "output_type": "stream",
     "text": [
      "Error loading pdist_euclidean for 111\n",
      "Error loading pdist_euclidean for 111\n"
     ]
    },
    {
     "name": "stderr",
     "output_type": "stream",
     "text": []
    },
    {
     "name": "stdout",
     "output_type": "stream",
     "text": [
      "Error loading pli_multitaper_mean_fs-1_fmin-0-000488_fmax-0-00195 for 111\n",
      "Error loading pli_multitaper_mean_fs-1_fmin-0-000488_fmax-0-00195 for 111\n"
     ]
    },
    {
     "name": "stderr",
     "output_type": "stream",
     "text": []
    },
    {
     "name": "stdout",
     "output_type": "stream",
     "text": [
      "Error loading pli_multitaper_mean_fs-1_fmin-0-000488_fmax-0-0342 for 111\n",
      "Error loading pli_multitaper_mean_fs-1_fmin-0-000488_fmax-0-0342 for 111\n"
     ]
    },
    {
     "name": "stderr",
     "output_type": "stream",
     "text": []
    },
    {
     "name": "stdout",
     "output_type": "stream",
     "text": [
      "Error loading pli_multitaper_mean_fs-1_fmin-0-000488_fmax-0-122 for 111\n",
      "Error loading pli_multitaper_mean_fs-1_fmin-0-000488_fmax-0-122 for 111\n"
     ]
    },
    {
     "name": "stderr",
     "output_type": "stream",
     "text": []
    },
    {
     "name": "stdout",
     "output_type": "stream",
     "text": [
      "Error loading pli_multitaper_mean_fs-1_fmin-0-00195_fmax-0-00391 for 111\n",
      "Error loading pli_multitaper_mean_fs-1_fmin-0-00195_fmax-0-00391 for 111\n"
     ]
    },
    {
     "name": "stderr",
     "output_type": "stream",
     "text": []
    },
    {
     "name": "stdout",
     "output_type": "stream",
     "text": [
      "Error loading pli_multitaper_mean_fs-1_fmin-0-00391_fmax-0-00586 for 111\n",
      "Error loading pli_multitaper_mean_fs-1_fmin-0-00391_fmax-0-00586 for 111\n"
     ]
    },
    {
     "name": "stderr",
     "output_type": "stream",
     "text": []
    },
    {
     "name": "stdout",
     "output_type": "stream",
     "text": [
      "Error loading pli_multitaper_mean_fs-1_fmin-0-00586_fmax-0-0146 for 111\n",
      "Error loading pli_multitaper_mean_fs-1_fmin-0-00586_fmax-0-0146 for 111\n"
     ]
    },
    {
     "name": "stderr",
     "output_type": "stream",
     "text": []
    },
    {
     "name": "stdout",
     "output_type": "stream",
     "text": [
      "Error loading pli_multitaper_mean_fs-1_fmin-0-0146_fmax-0-0342 for 111\n",
      "Error loading pli_multitaper_mean_fs-1_fmin-0-0146_fmax-0-0342 for 111\n"
     ]
    },
    {
     "name": "stderr",
     "output_type": "stream",
     "text": []
    },
    {
     "name": "stdout",
     "output_type": "stream",
     "text": [
      "Error loading pli_multitaper_mean_fs-1_fmin-0-0342_fmax-0-0732 for 111\n",
      "Error loading pli_multitaper_mean_fs-1_fmin-0-0342_fmax-0-0732 for 111\n"
     ]
    },
    {
     "name": "stderr",
     "output_type": "stream",
     "text": []
    },
    {
     "name": "stdout",
     "output_type": "stream",
     "text": [
      "Error loading pli_multitaper_mean_fs-1_fmin-0-0342_fmax-0-122 for 111\n",
      "Error loading pli_multitaper_mean_fs-1_fmin-0-0342_fmax-0-122 for 111\n"
     ]
    },
    {
     "name": "stderr",
     "output_type": "stream",
     "text": []
    },
    {
     "name": "stdout",
     "output_type": "stream",
     "text": [
      "Error loading pli_multitaper_mean_fs-1_fmin-0-0732_fmax-0-122 for 111\n",
      "Error loading pli_multitaper_mean_fs-1_fmin-0-0732_fmax-0-122 for 111\n"
     ]
    },
    {
     "name": "stderr",
     "output_type": "stream",
     "text": []
    },
    {
     "name": "stdout",
     "output_type": "stream",
     "text": [
      "Error loading pli_multitaper_mean_fs-1_fmin-0_fmax-0-5 for 111\n",
      "Error loading pli_multitaper_mean_fs-1_fmin-0_fmax-0-5 for 111\n"
     ]
    },
    {
     "name": "stderr",
     "output_type": "stream",
     "text": []
    },
    {
     "name": "stdout",
     "output_type": "stream",
     "text": [
      "Error loading plv_multitaper_mean_fs-1_fmin-0-000488_fmax-0-00195 for 111\n",
      "Error loading plv_multitaper_mean_fs-1_fmin-0-000488_fmax-0-00195 for 111\n"
     ]
    },
    {
     "name": "stderr",
     "output_type": "stream",
     "text": []
    },
    {
     "name": "stdout",
     "output_type": "stream",
     "text": [
      "Error loading plv_multitaper_mean_fs-1_fmin-0-000488_fmax-0-0342 for 111\n",
      "Error loading plv_multitaper_mean_fs-1_fmin-0-000488_fmax-0-0342 for 111\n"
     ]
    },
    {
     "name": "stderr",
     "output_type": "stream",
     "text": []
    },
    {
     "name": "stdout",
     "output_type": "stream",
     "text": [
      "Error loading plv_multitaper_mean_fs-1_fmin-0-000488_fmax-0-122 for 111\n",
      "Error loading plv_multitaper_mean_fs-1_fmin-0-000488_fmax-0-122 for 111\n"
     ]
    },
    {
     "name": "stderr",
     "output_type": "stream",
     "text": []
    },
    {
     "name": "stdout",
     "output_type": "stream",
     "text": [
      "Error loading plv_multitaper_mean_fs-1_fmin-0-00195_fmax-0-00391 for 111\n",
      "Error loading plv_multitaper_mean_fs-1_fmin-0-00195_fmax-0-00391 for 111\n"
     ]
    },
    {
     "name": "stderr",
     "output_type": "stream",
     "text": []
    },
    {
     "name": "stdout",
     "output_type": "stream",
     "text": [
      "Error loading plv_multitaper_mean_fs-1_fmin-0-00391_fmax-0-00586 for 111\n",
      "Error loading plv_multitaper_mean_fs-1_fmin-0-00391_fmax-0-00586 for 111\n"
     ]
    },
    {
     "name": "stderr",
     "output_type": "stream",
     "text": []
    },
    {
     "name": "stdout",
     "output_type": "stream",
     "text": [
      "Error loading plv_multitaper_mean_fs-1_fmin-0-00586_fmax-0-0146 for 111\n",
      "Error loading plv_multitaper_mean_fs-1_fmin-0-00586_fmax-0-0146 for 111\n"
     ]
    },
    {
     "name": "stderr",
     "output_type": "stream",
     "text": []
    },
    {
     "name": "stdout",
     "output_type": "stream",
     "text": [
      "Error loading plv_multitaper_mean_fs-1_fmin-0-0146_fmax-0-0342 for 111\n",
      "Error loading plv_multitaper_mean_fs-1_fmin-0-0146_fmax-0-0342 for 111\n"
     ]
    },
    {
     "name": "stderr",
     "output_type": "stream",
     "text": []
    },
    {
     "name": "stdout",
     "output_type": "stream",
     "text": [
      "Error loading plv_multitaper_mean_fs-1_fmin-0-0342_fmax-0-0732 for 111\n",
      "Error loading plv_multitaper_mean_fs-1_fmin-0-0342_fmax-0-0732 for 111\n"
     ]
    },
    {
     "name": "stderr",
     "output_type": "stream",
     "text": []
    },
    {
     "name": "stdout",
     "output_type": "stream",
     "text": [
      "Error loading plv_multitaper_mean_fs-1_fmin-0-0342_fmax-0-122 for 111\n",
      "Error loading plv_multitaper_mean_fs-1_fmin-0-0342_fmax-0-122 for 111\n"
     ]
    },
    {
     "name": "stderr",
     "output_type": "stream",
     "text": []
    },
    {
     "name": "stdout",
     "output_type": "stream",
     "text": [
      "Error loading plv_multitaper_mean_fs-1_fmin-0-0732_fmax-0-122 for 111\n",
      "Error loading plv_multitaper_mean_fs-1_fmin-0-0732_fmax-0-122 for 111\n"
     ]
    },
    {
     "name": "stderr",
     "output_type": "stream",
     "text": []
    },
    {
     "name": "stdout",
     "output_type": "stream",
     "text": [
      "Error loading plv_multitaper_mean_fs-1_fmin-0_fmax-0-5 for 111\n",
      "Error loading plv_multitaper_mean_fs-1_fmin-0_fmax-0-5 for 111\n"
     ]
    },
    {
     "name": "stderr",
     "output_type": "stream",
     "text": []
    },
    {
     "name": "stdout",
     "output_type": "stream",
     "text": [
      "Error loading xcorr-sq_max_sig-False for 111\n",
      "Error loading xcorr-sq_max_sig-False for 111\n"
     ]
    },
    {
     "name": "stderr",
     "output_type": "stream",
     "text": []
    },
    {
     "name": "stdout",
     "output_type": "stream",
     "text": [
      "Error loading xcorr-sq_mean_sig-False for 111\n",
      "Error loading xcorr-sq_mean_sig-False for 111\n"
     ]
    },
    {
     "name": "stderr",
     "output_type": "stream",
     "text": []
    },
    {
     "name": "stdout",
     "output_type": "stream",
     "text": [
      "Error loading xcorr_max_sig-False for 111\n",
      "Error loading xcorr_max_sig-False for 111\n"
     ]
    },
    {
     "name": "stderr",
     "output_type": "stream",
     "text": []
    },
    {
     "name": "stdout",
     "output_type": "stream",
     "text": [
      "Error loading xcorr_mean_sig-False for 111\n",
      "Error loading xcorr_mean_sig-False for 111\n"
     ]
    },
    {
     "name": "stderr",
     "output_type": "stream",
     "text": [
      "Patients: 100%|██████████| 72/72 [2:28:15<00:00, 123.55s/it]\n"
     ]
    }
   ],
   "source": [
    "for pid in tqdm(pids, desc=\"Patients\", leave=True):\n",
    "    pid_files = list(sorted([f for f in files if f.startswith(f\"{pid:03}\")]))\n",
    "    try:\n",
    "        chnames_idx = pid_files.index(f\"{pid:03}_chnames.csv\")\n",
    "        chnames = pd.read_csv(os.path.join(csv_path, pid_files[chnames_idx]))['0'].values\n",
    "        pid_files.pop(chnames_idx)\n",
    "    except:\n",
    "        try:\n",
    "            chnames = pd.read_csv(os.path.join(csv_path, f\"{pid:03}_chnames.csv\"))['0'].values\n",
    "        except:\n",
    "            print(f\"No chnames file for {pid}\")\n",
    "            continue\n",
    "\n",
    "    pid_mappings = mappings[mappings[\"pid\"] == pid]\n",
    "    pid_mappings = pid_mappings[pid_mappings[\"electrode\"].isin(chnames)]\n",
    "    pid_mappings = pid_mappings.set_index(\"electrode\").reindex(chnames).reset_index()\n",
    "\n",
    "    soz_idx = pid_mappings.index[pid_mappings[\"soz\"] == 1].values\n",
    "    ilae_group = pid_mappings[\"ilae\"].iloc[0]\n",
    "\n",
    "    if len(soz_idx) == 0:\n",
    "        continue\n",
    "\n",
    "    data = []\n",
    "    skip = False\n",
    "    for file in pid_files:\n",
    "        with open(os.path.join(calculation_path, file, 'calc.pkl'), \"rb\") as f:\n",
    "            try:\n",
    "                data.append(dill.load(f))\n",
    "            except:\n",
    "                print(f\"Error loading {file}\")\n",
    "                skip = True\n",
    "                break\n",
    "    if skip:\n",
    "        continue\n",
    "    \n",
    "\n",
    "    for col in tqdm(columns, desc=f\"Columns for {pid}\", leave=False):\n",
    "        measure = []\n",
    "        for r in data:\n",
    "            try:\n",
    "                full = r[col].values\n",
    "                measure.append(full)\n",
    "            except:\n",
    "                print(f\"Error loading {col} for {pid}\")\n",
    "                continue\n",
    "        measure = np.array(measure)\n",
    "\n",
    "        if len(measure) == 0:\n",
    "            continue\n",
    "        \n",
    "        # make directory at output_path if it doesn't exist\n",
    "        os.makedirs(output_path, exist_ok=True)\n",
    "        os.makedirs(os.path.join(output_path, col), exist_ok=True)\n",
    "\n",
    "        # save to matlab\n",
    "        scipy.io.savemat(os.path.join(output_path, col, f\"{col}~{pid:03}.mat\"), {\"measure\": measure, \"soz\": pid_mappings[\"soz\"]})\n",
    "    "
   ]
  },
  {
   "cell_type": "code",
   "execution_count": null,
   "metadata": {},
   "outputs": [],
   "source": []
  }
 ],
 "metadata": {
  "kernelspec": {
   "display_name": "pyspicalc",
   "language": "python",
   "name": "python3"
  },
  "language_info": {
   "codemirror_mode": {
    "name": "ipython",
    "version": 3
   },
   "file_extension": ".py",
   "mimetype": "text/x-python",
   "name": "python",
   "nbconvert_exporter": "python",
   "pygments_lexer": "ipython3",
   "version": "3.12.2"
  }
 },
 "nbformat": 4,
 "nbformat_minor": 2
}
