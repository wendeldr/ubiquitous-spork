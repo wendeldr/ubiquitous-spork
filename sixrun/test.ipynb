{
 "cells": [
  {
   "cell_type": "code",
   "execution_count": 2,
   "metadata": {},
   "outputs": [],
   "source": [
    "import h5py\n",
    "import os\n",
    "import numpy as np\n",
    "import glob"
   ]
  },
  {
   "cell_type": "code",
   "execution_count": 3,
   "metadata": {},
   "outputs": [
    {
     "name": "stdout",
     "output_type": "stream",
     "text": [
      "<KeysViewHDF5 ['cov-sq_GraphicalLasso']>\n"
     ]
    }
   ],
   "source": [
    "folder = \"/media/dan/Big/network_mining/calculations/additional\"\n",
    "files = glob.glob(os.path.join(folder, \"*.h5\"))\n",
    "\n",
    "for file in files:\n",
    "    try:\n",
    "        print(file)\n",
    "        with h5py.File(file, \"r\") as f:\n",
    "            print(f.keys())\n",
    "    except Exception as e:\n",
    "        print(f\"Error processing {file}: {e}\")\n",
    "    "
   ]
  },
  {
   "cell_type": "code",
   "execution_count": null,
   "metadata": {},
   "outputs": [],
   "source": [
    "# 981.9"
   ]
  },
  {
   "cell_type": "code",
   "execution_count": 3,
   "metadata": {},
   "outputs": [
    {
     "name": "stdout",
     "output_type": "stream",
     "text": [
      "<KeysViewHDF5 ['cohmag_multitaper_mean_fs-1_fmin-0-000488_fmax-0-00195', 'cohmag_multitaper_mean_fs-1_fmin-0-000488_fmax-0-0342', 'cohmag_multitaper_mean_fs-1_fmin-0-000488_fmax-0-122', 'cohmag_multitaper_mean_fs-1_fmin-0-00195_fmax-0-00391', 'cohmag_multitaper_mean_fs-1_fmin-0-00391_fmax-0-00586', 'cohmag_multitaper_mean_fs-1_fmin-0-00586_fmax-0-0146', 'cohmag_multitaper_mean_fs-1_fmin-0-0146_fmax-0-0342', 'cohmag_multitaper_mean_fs-1_fmin-0-0342_fmax-0-0732', 'cohmag_multitaper_mean_fs-1_fmin-0-0342_fmax-0-122', 'cohmag_multitaper_mean_fs-1_fmin-0-0732_fmax-0-122', 'cohmag_multitaper_mean_fs-1_fmin-0_fmax-0-5', 'gc_gaussian_k-1_kt-1_l-1_lt-1', 'icoh_multitaper_mean_fs-1_fmin-0-000488_fmax-0-00195', 'icoh_multitaper_mean_fs-1_fmin-0-000488_fmax-0-0342', 'icoh_multitaper_mean_fs-1_fmin-0-000488_fmax-0-122', 'icoh_multitaper_mean_fs-1_fmin-0-00195_fmax-0-00391', 'icoh_multitaper_mean_fs-1_fmin-0-00391_fmax-0-00586', 'icoh_multitaper_mean_fs-1_fmin-0-00586_fmax-0-0146', 'icoh_multitaper_mean_fs-1_fmin-0-0146_fmax-0-0342', 'icoh_multitaper_mean_fs-1_fmin-0-0342_fmax-0-0732', 'icoh_multitaper_mean_fs-1_fmin-0-0342_fmax-0-122', 'icoh_multitaper_mean_fs-1_fmin-0-0732_fmax-0-122', 'icoh_multitaper_mean_fs-1_fmin-0_fmax-0-5', 'pdist_euclidean', 'pli_multitaper_mean_fs-1_fmin-0-000488_fmax-0-00195', 'pli_multitaper_mean_fs-1_fmin-0-000488_fmax-0-0342', 'pli_multitaper_mean_fs-1_fmin-0-000488_fmax-0-122', 'pli_multitaper_mean_fs-1_fmin-0-00195_fmax-0-00391', 'pli_multitaper_mean_fs-1_fmin-0-00391_fmax-0-00586', 'pli_multitaper_mean_fs-1_fmin-0-00586_fmax-0-0146', 'pli_multitaper_mean_fs-1_fmin-0-0146_fmax-0-0342', 'pli_multitaper_mean_fs-1_fmin-0-0342_fmax-0-0732', 'pli_multitaper_mean_fs-1_fmin-0-0342_fmax-0-122', 'pli_multitaper_mean_fs-1_fmin-0-0732_fmax-0-122', 'pli_multitaper_mean_fs-1_fmin-0_fmax-0-5', 'plv_multitaper_mean_fs-1_fmin-0-000488_fmax-0-00195', 'plv_multitaper_mean_fs-1_fmin-0-000488_fmax-0-0342', 'plv_multitaper_mean_fs-1_fmin-0-000488_fmax-0-122', 'plv_multitaper_mean_fs-1_fmin-0-00195_fmax-0-00391', 'plv_multitaper_mean_fs-1_fmin-0-00391_fmax-0-00586', 'plv_multitaper_mean_fs-1_fmin-0-00586_fmax-0-0146', 'plv_multitaper_mean_fs-1_fmin-0-0146_fmax-0-0342', 'plv_multitaper_mean_fs-1_fmin-0-0342_fmax-0-0732', 'plv_multitaper_mean_fs-1_fmin-0-0342_fmax-0-122', 'plv_multitaper_mean_fs-1_fmin-0-0732_fmax-0-122', 'plv_multitaper_mean_fs-1_fmin-0_fmax-0-5', 'xcorr-sq_max_sig-False', 'xcorr-sq_mean_sig-False', 'xcorr_max_sig-False', 'xcorr_mean_sig-False']>\n"
     ]
    }
   ],
   "source": [
    "file = \"/media/dan/Data2/six_columns/columns.h5\"\n",
    "with h5py.File(file, \"r\") as f:\n",
    "    print(f.keys())\n"
   ]
  },
  {
   "cell_type": "code",
   "execution_count": 1,
   "metadata": {},
   "outputs": [],
   "source": [
    "\n",
    "\n",
    "\n",
    "def get_idxs(idxs, soz_idx):\n",
    "    soz_soz = []\n",
    "    soz_non = []\n",
    "    non_soz = []\n",
    "    non_non = []\n",
    "    for x, y in zip(idxs[0], idxs[1]):\n",
    "        if x in soz_idx and y in soz_idx:\n",
    "            soz_soz.append((x, y))\n",
    "        elif x in soz_idx or y in soz_idx:\n",
    "            if x in soz_idx:\n",
    "                soz_non.append((x, y))\n",
    "            else:\n",
    "                non_soz.append((x, y))\n",
    "        else:\n",
    "            non_non.append((x, y))\n",
    "    return np.array(soz_soz), np.array(soz_non), np.array(non_soz), np.array(non_non)\n",
    "\n",
    "def safe_slice_and_flatten(measure, idx_array):\n",
    "    if len(idx_array) == 0:\n",
    "        return np.array([])  # Return empty array if no indices\n",
    "    return measure[:, idx_array[:, 0], idx_array[:, 1]].flatten()\n",
    "\n"
   ]
  },
  {
   "cell_type": "code",
   "execution_count": null,
   "metadata": {},
   "outputs": [],
   "source": [
    "/home/dan/data/connectivity/pyspi_testing/sixrun/ilae_organize.py"
   ]
  },
  {
   "cell_type": "code",
   "execution_count": 2,
   "metadata": {},
   "outputs": [],
   "source": [
    "\n",
    "\n",
    "output_path = \"/media/dan/Big/network_mining/calculations/additional\"\n",
    "\n",
    "patient_hdf5_path = os.path.join(output_path, \"patients.h5\")\n",
    "ilae_hdf5_path = os.path.join(output_path, \"ilae.h5\")\n",
    "columns_hdf5_path = os.path.join(output_path, \"columns.h5\")\n"
   ]
  },
  {
   "cell_type": "code",
   "execution_count": 5,
   "metadata": {},
   "outputs": [
    {
     "ename": "RuntimeError",
     "evalue": "Unable to synchronously check link existence (incorrect metadata checksum after all read attempts)",
     "output_type": "error",
     "traceback": [
      "\u001b[0;31m---------------------------------------------------------------------------\u001b[0m",
      "\u001b[0;31mRuntimeError\u001b[0m                              Traceback (most recent call last)",
      "Cell \u001b[0;32mIn[5], line 4\u001b[0m\n\u001b[1;32m      1\u001b[0m \u001b[38;5;28;01mwith\u001b[39;00m h5py\u001b[38;5;241m.\u001b[39mFile(columns_hdf5_path, \u001b[38;5;124m\"\u001b[39m\u001b[38;5;124ma\u001b[39m\u001b[38;5;124m\"\u001b[39m, libver\u001b[38;5;241m=\u001b[39m\u001b[38;5;124m\"\u001b[39m\u001b[38;5;124mlatest\u001b[39m\u001b[38;5;124m\"\u001b[39m) \u001b[38;5;28;01mas\u001b[39;00m columns_hdf5_file:\n\u001b[1;32m      2\u001b[0m     path \u001b[38;5;241m=\u001b[39m \u001b[38;5;124m\"\u001b[39m\u001b[38;5;124mcov-sq_OAS\u001b[39m\u001b[38;5;124m\"\u001b[39m\n\u001b[0;32m----> 4\u001b[0m     \u001b[38;5;28mprint\u001b[39m(\u001b[43mpath\u001b[49m\u001b[43m \u001b[49m\u001b[38;5;129;43;01min\u001b[39;49;00m\u001b[43m \u001b[49m\u001b[43mcolumns_hdf5_file\u001b[49m)\n",
      "File \u001b[0;32mh5py/_objects.pyx:54\u001b[0m, in \u001b[0;36mh5py._objects.with_phil.wrapper\u001b[0;34m()\u001b[0m\n",
      "File \u001b[0;32mh5py/_objects.pyx:55\u001b[0m, in \u001b[0;36mh5py._objects.with_phil.wrapper\u001b[0;34m()\u001b[0m\n",
      "File \u001b[0;32m~/miniconda3/envs/pyspicalc/lib/python3.12/site-packages/h5py/_hl/group.py:514\u001b[0m, in \u001b[0;36mGroup.__contains__\u001b[0;34m(self, name)\u001b[0m\n\u001b[1;32m    512\u001b[0m     \u001b[38;5;28;01mif\u001b[39;00m \u001b[38;5;129;01mnot\u001b[39;00m \u001b[38;5;28mself\u001b[39m\u001b[38;5;241m.\u001b[39mid:\n\u001b[1;32m    513\u001b[0m         \u001b[38;5;28;01mreturn\u001b[39;00m \u001b[38;5;28;01mFalse\u001b[39;00m\n\u001b[0;32m--> 514\u001b[0m     \u001b[38;5;28;01mreturn\u001b[39;00m \u001b[43mh5g\u001b[49m\u001b[38;5;241;43m.\u001b[39;49m\u001b[43m_path_valid\u001b[49m\u001b[43m(\u001b[49m\u001b[38;5;28;43mself\u001b[39;49m\u001b[38;5;241;43m.\u001b[39;49m\u001b[43mid\u001b[49m\u001b[43m,\u001b[49m\u001b[43m \u001b[49m\u001b[38;5;28;43mself\u001b[39;49m\u001b[38;5;241;43m.\u001b[39;49m\u001b[43m_e\u001b[49m\u001b[43m(\u001b[49m\u001b[43mname\u001b[49m\u001b[43m)\u001b[49m\u001b[43m,\u001b[49m\u001b[43m \u001b[49m\u001b[38;5;28;43mself\u001b[39;49m\u001b[38;5;241;43m.\u001b[39;49m\u001b[43m_lapl\u001b[49m\u001b[43m)\u001b[49m\n\u001b[1;32m    515\u001b[0m \u001b[38;5;28;01mreturn\u001b[39;00m \u001b[38;5;28mself\u001b[39m\u001b[38;5;241m.\u001b[39m_e(name) \u001b[38;5;129;01min\u001b[39;00m \u001b[38;5;28mself\u001b[39m\u001b[38;5;241m.\u001b[39mid\n",
      "File \u001b[0;32mh5py/_objects.pyx:54\u001b[0m, in \u001b[0;36mh5py._objects.with_phil.wrapper\u001b[0;34m()\u001b[0m\n",
      "File \u001b[0;32mh5py/_objects.pyx:55\u001b[0m, in \u001b[0;36mh5py._objects.with_phil.wrapper\u001b[0;34m()\u001b[0m\n",
      "File \u001b[0;32mh5py/h5g.pyx:541\u001b[0m, in \u001b[0;36mh5py.h5g._path_valid\u001b[0;34m()\u001b[0m\n",
      "File \u001b[0;32mh5py/_objects.pyx:54\u001b[0m, in \u001b[0;36mh5py._objects.with_phil.wrapper\u001b[0;34m()\u001b[0m\n",
      "File \u001b[0;32mh5py/_objects.pyx:55\u001b[0m, in \u001b[0;36mh5py._objects.with_phil.wrapper\u001b[0;34m()\u001b[0m\n",
      "File \u001b[0;32mh5py/h5l.pyx:216\u001b[0m, in \u001b[0;36mh5py.h5l.LinkProxy.exists\u001b[0;34m()\u001b[0m\n",
      "\u001b[0;31mRuntimeError\u001b[0m: Unable to synchronously check link existence (incorrect metadata checksum after all read attempts)"
     ]
    }
   ],
   "source": [
    "\n",
    "with h5py.File(columns_hdf5_path, \"a\", libver=\"latest\") as columns_hdf5_file:\n",
    "    path = \"cov-sq_OAS\"\n",
    "    \n",
    "    print(path in columns_hdf5_file)"
   ]
  }
 ],
 "metadata": {
  "kernelspec": {
   "display_name": "pyspicalc",
   "language": "python",
   "name": "python3"
  },
  "language_info": {
   "codemirror_mode": {
    "name": "ipython",
    "version": 3
   },
   "file_extension": ".py",
   "mimetype": "text/x-python",
   "name": "python",
   "nbconvert_exporter": "python",
   "pygments_lexer": "ipython3",
   "version": "3.12.2"
  }
 },
 "nbformat": 4,
 "nbformat_minor": 2
}
