{
 "cells": [
  {
   "cell_type": "code",
   "execution_count": 1,
   "metadata": {},
   "outputs": [
    {
     "name": "stdout",
     "output_type": "stream",
     "text": [
      "Filtering raw data in 1 contiguous segment\n",
      "Setting up band-pass filter from 0.5 - 3e+02 Hz\n",
      "\n",
      "FIR filter parameters\n",
      "---------------------\n",
      "Designing a one-pass, zero-phase, non-causal bandpass filter:\n",
      "- Windowed time-domain design (firwin) method\n",
      "- Hamming window with 0.0194 passband ripple and 53 dB stopband attenuation\n",
      "- Lower passband edge: 0.50\n",
      "- Lower transition bandwidth: 0.50 Hz (-6 dB cutoff frequency: 0.25 Hz)\n",
      "- Upper passband edge: 300.00 Hz\n",
      "- Upper transition bandwidth: 75.00 Hz (-6 dB cutoff frequency: 337.50 Hz)\n",
      "- Filter length: 13517 samples (6.600 s)\n",
      "\n"
     ]
    },
    {
     "name": "stderr",
     "output_type": "stream",
     "text": [
      "[Parallel(n_jobs=1)]: Done  17 tasks      | elapsed:    0.2s\n",
      "[Parallel(n_jobs=1)]: Done  71 tasks      | elapsed:    1.0s\n"
     ]
    },
    {
     "name": "stdout",
     "output_type": "stream",
     "text": [
      "Filtering raw data in 1 contiguous segment\n",
      "Setting up band-stop filter\n",
      "\n",
      "FIR filter parameters\n",
      "---------------------\n",
      "Designing a one-pass, zero-phase, non-causal bandstop filter:\n",
      "- Windowed time-domain design (firwin) method\n",
      "- Hamming window with 0.0194 passband ripple and 53 dB stopband attenuation\n",
      "- Lower transition bandwidth: 0.50 Hz\n",
      "- Upper transition bandwidth: 0.50 Hz\n",
      "- Filter length: 13517 samples (6.600 s)\n",
      "\n"
     ]
    },
    {
     "name": "stderr",
     "output_type": "stream",
     "text": [
      "[Parallel(n_jobs=1)]: Done  17 tasks      | elapsed:    0.2s\n",
      "[Parallel(n_jobs=1)]: Done  71 tasks      | elapsed:    0.9s\n"
     ]
    },
    {
     "name": "stdout",
     "output_type": "stream",
     "text": [
      "Not setting metadata\n",
      "606 matching events found\n",
      "No baseline correction applied\n",
      "0 projection items activated\n",
      "Using data from preloaded Raw for 606 events and 1024 original time points ...\n",
      "0 bad epochs dropped\n"
     ]
    },
    {
     "name": "stderr",
     "output_type": "stream",
     "text": [
      "100%|██████████| 606/606 [00:00<00:00, 1216.27it/s]\n"
     ]
    }
   ],
   "source": [
    "import numpy as np\n",
    "from connection_complexity.data.raw_data.EDF.edf_helpers import read_edf\n",
    "from tqdm import tqdm\n",
    "import os\n",
    "from mne import make_fixed_length_epochs\n",
    "\n",
    "\n",
    "file = \"/media/dan/Data/data/iEEG/raw_ieeg/baseline_patients/baseline_edfs/034_Baseline.EDF\"\n",
    "output_path = \"/home/dan/data/connectivity/pyspi_testing/nonoverlappingepochs_data\"\n",
    "# make output path\n",
    "if not os.path.exists(output_path):\n",
    "    os.makedirs(output_path)\n",
    "\n",
    "project_path = \"/home/dan/data/connectivity/pyspi_testing\"\n",
    "\n",
    "\n",
    "raw = read_edf(file, preload=True)\n",
    "\n",
    "# filter\n",
    "sfreq = raw.info[\"sfreq\"]\n",
    "nyq_freq = raw.info[\"sfreq\"] // 2 - 1\n",
    "line_freq = 60\n",
    "l_freq = 0.5\n",
    "h_freq = min(nyq_freq, 300)\n",
    "raw = raw.filter(l_freq=l_freq, h_freq=h_freq)\n",
    "freqs = np.arange(line_freq, max(h_freq, nyq_freq), line_freq)\n",
    "raw = raw.notch_filter(freqs=freqs, method=\"fir\")\n",
    "\n",
    "# average reference\n",
    "raw = raw.set_eeg_reference(ref_channels=\"average\", projection=False, verbose=False)\n",
    "\n",
    "data = raw.get_data()\n",
    "maxidx = data.shape[1]\n",
    "digit_count = len(str(abs(maxidx))) \n",
    "\n",
    "# non overlapping epochs\n",
    "dur_sec = .5\n",
    "overlap_sec = 0\n",
    "epochs = make_fixed_length_epochs(raw, duration=dur_sec,overlap=overlap_sec, preload=True)\n",
    "epochs = epochs.get_data()\n",
    "\n",
    "\n",
    "for i, e in enumerate(tqdm(epochs)): # start 1 minute in only use first 5 seconds\n",
    "    start_idx = int(sfreq * dur_sec) * i\n",
    "    np.save(os.path.join(output_path, f\"034_epoch_{start_idx:0{digit_count}}.npy\"), e)\n",
    "\n",
    "# overlapping epochs with overlap of 1 sample\n",
    "# start = int(sfreq * 60) # start 1 minute in\n",
    "# for i in tqdm(range(start, start+int(sfreq * 1))): # start 1 minute in only use first 5 seconds\n",
    "#     np.save(os.path.join(output_path, f\"034_epoch_{i}.npy\"), data[:,i:i+int(0.5*sfreq)])"
   ]
  },
  {
   "cell_type": "code",
   "execution_count": 9,
   "metadata": {},
   "outputs": [],
   "source": [
    "# define the YAML file location\n",
    "yaml_file = os.path.join(output_path,\"run_config.yaml\")\n",
    "\n",
    "# remove the file if it already exists\n",
    "if os.path.exists(yaml_file):\n",
    "    os.remove(yaml_file)\n",
    "\n",
    "# ps -> rows = processes; columns = time pts.\n",
    "dim_order = \"ps\"\n",
    "\n",
    "for f in sorted(os.listdir(output_path)): # start 1 minute in only use first 5 seconds\n",
    "    # get the epoch number\n",
    "    i = f.split(\"_\")[-1].split(\".\")[0]\n",
    "    # define template string and fill in variables\n",
    "    lbl = f\"034_epoch_{i}\"\n",
    "    path = os.path.join(output_path, lbl)\n",
    "    yaml_string = \"{{file: {file}.npy, name: {key}, dim_order: {dim_order}, labels: [{key}]}}\\n\"\n",
    "    yaml_string_formatted = f\"- {yaml_string.format(file=path, key=lbl, dim_order=dim_order)}\"\n",
    "\n",
    "    # append line to file\n",
    "    with open(yaml_file, \"a\") as f:\n",
    "        f.write(yaml_string_formatted)"
   ]
  },
  {
   "cell_type": "code",
   "execution_count": null,
   "metadata": {},
   "outputs": [],
   "source": [
    "# import yaml\n",
    "# doc = \"/home/dan/data/connectivity/pyspi_testing/nonoverlappingepochs_data/run_config.yaml\"\n",
    "# with open(doc) as d:\n",
    "#     yf = yaml.load(d,Loader=yaml.FullLoader)"
   ]
  }
 ],
 "metadata": {
  "kernelspec": {
   "display_name": "sourcesink",
   "language": "python",
   "name": "python3"
  },
  "language_info": {
   "codemirror_mode": {
    "name": "ipython",
    "version": 3
   },
   "file_extension": ".py",
   "mimetype": "text/x-python",
   "name": "python",
   "nbconvert_exporter": "python",
   "pygments_lexer": "ipython3",
   "version": "3.12.2"
  }
 },
 "nbformat": 4,
 "nbformat_minor": 2
}
