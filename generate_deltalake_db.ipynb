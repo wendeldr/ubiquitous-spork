{
 "cells": [
  {
   "cell_type": "code",
   "execution_count": 1,
   "metadata": {},
   "outputs": [],
   "source": [
    "import pandas as pd\n",
    "import os\n",
    "import sys\n",
    "import shutil\n",
    "import dask.dataframe as dd\n",
    "from tqdm import tqdm\n"
   ]
  },
  {
   "cell_type": "code",
   "execution_count": 2,
   "metadata": {},
   "outputs": [],
   "source": [
    "db_dir = \"/media/dan/Data/databases\"\n",
    "parquet_path = os.path.join(db_dir, \"prediction_table.parquet\")\n",
    "\n",
    "# create a table for the patients\n",
    "if not os.path.exists(os.path.join(db_dir, \"prediction_table.parquet\")):\n",
    "    df =pd.read_csv(os.path.join(db_dir, \"predict_df_4NetMets_20250319.csv\"))\n",
    "    df.to_parquet(parquet_path, compression='snappy')\n",
    "    df = dd.read_parquet(parquet_path)\n",
    "else:\n",
    "    df = dd.read_parquet(parquet_path)"
   ]
  },
  {
   "cell_type": "code",
   "execution_count": null,
   "metadata": {},
   "outputs": [
    {
     "name": "stderr",
     "output_type": "stream",
     "text": [
      " 79%|███████▉  | 15/19 [1:09:00<21:29, 322.28s/it]"
     ]
    }
   ],
   "source": [
    "csvs = os.listdir(db_dir)\n",
    "csvs = [x for x in csvs if \"NETWORKSTATS\" in x]\n",
    "\n",
    "held_cols = ['x', 'y', 'z', 'soz', 'pid', 'time', 'electrode_idx']\n",
    "others = [x for x in df.columns.values if x not in held_cols]\n",
    "metrics = list(set([x.split(\"~\")[0] for x in others]))\n",
    "\n",
    "csvs = [x for x in csvs if x.split(\"~\")[1].split(\".\")[0] not in metrics]\n",
    "\n",
    "for f in tqdm(csvs):\n",
    "    tmp = dd.read_csv(os.path.join(db_dir, f))\n",
    "    merged = df.merge(tmp, on=held_cols, how=\"outer\")\n",
    "    tmp_path = os.path.join(db_dir, \"temp.parquet\")\n",
    "    merged.to_parquet(tmp_path, compression='snappy')\n",
    "    # check if parquet_path is a file or a directory\n",
    "    if os.path.isfile(parquet_path):\n",
    "        os.remove(parquet_path)\n",
    "    elif os.path.isdir(parquet_path):\n",
    "        shutil.rmtree(parquet_path)\n",
    "    os.rename(tmp_path, parquet_path)\n",
    "    del merged, tmp\n",
    "    df = dd.read_parquet(parquet_path)\n"
   ]
  },
  {
   "cell_type": "code",
   "execution_count": null,
   "metadata": {},
   "outputs": [],
   "source": []
  },
  {
   "cell_type": "code",
   "execution_count": null,
   "metadata": {},
   "outputs": [],
   "source": []
  },
  {
   "cell_type": "code",
   "execution_count": null,
   "metadata": {},
   "outputs": [],
   "source": []
  },
  {
   "cell_type": "code",
   "execution_count": null,
   "metadata": {},
   "outputs": [],
   "source": []
  },
  {
   "cell_type": "code",
   "execution_count": null,
   "metadata": {},
   "outputs": [],
   "source": [
    "import pyarrow.parquet as pq\n",
    "\n",
    "# Replace 'your_file.parquet' with the actual path to your Parquet file\n",
    "parquet_file = pq.ParquetFile(path)\n",
    "\n",
    "# Get the schema of the Parquet file\n",
    "schema = parquet_file.schema\n",
    "\n",
    "# Extract column names from the schema\n",
    "column_names = schema.names\n",
    "\n",
    "# Print the list of column names\n",
    "print(column_names)"
   ]
  },
  {
   "cell_type": "code",
   "execution_count": 12,
   "metadata": {},
   "outputs": [],
   "source": [
    "# read only soz pid and x columns\n",
    "p = pq.read_table(path, columns=['soz', 'pid', 'x'])\n"
   ]
  },
  {
   "cell_type": "code",
   "execution_count": null,
   "metadata": {},
   "outputs": [],
   "source": [
    "import numpy as np\n",
    "test = np.arange(len(df))\n",
    "\n",
    "\n",
    "# I want to simulate adding a new column to the parquet file. pretend the parquet file\n",
    "# is too large to read into memory.\n"
   ]
  }
 ],
 "metadata": {
  "kernelspec": {
   "display_name": "networks",
   "language": "python",
   "name": "python3"
  },
  "language_info": {
   "codemirror_mode": {
    "name": "ipython",
    "version": 3
   },
   "file_extension": ".py",
   "mimetype": "text/x-python",
   "name": "python",
   "nbconvert_exporter": "python",
   "pygments_lexer": "ipython3",
   "version": "3.12.9"
  }
 },
 "nbformat": 4,
 "nbformat_minor": 2
}
