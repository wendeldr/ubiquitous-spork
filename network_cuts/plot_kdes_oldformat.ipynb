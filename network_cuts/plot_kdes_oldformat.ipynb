{
 "cells": [
  {
   "cell_type": "code",
   "execution_count": 1,
   "metadata": {},
   "outputs": [],
   "source": [
    "import h5py\n",
    "import seaborn as sns\n",
    "import matplotlib.pyplot as plt\n",
    "import numpy as np\n",
    "import pandas as pd\n",
    "from tqdm import tqdm\n",
    "import os\n",
    "import gc\n"
   ]
  },
  {
   "cell_type": "code",
   "execution_count": 3,
   "metadata": {},
   "outputs": [],
   "source": [
    "groups = ['non_non', 'non_soz', 'soz_non', 'soz_soz']"
   ]
  },
  {
   "cell_type": "code",
   "execution_count": 39,
   "metadata": {},
   "outputs": [],
   "source": [
    "def create_legend_plot(output_path=None, orientation='horizontal'):\n",
    "    \"\"\"\n",
    "    Create a legend plot with specified orientation using patches.\n",
    "    \n",
    "    Parameters:\n",
    "    -----------\n",
    "    output_path : str, optional\n",
    "        Path to save the legend plot. If None, the plot is displayed.\n",
    "    orientation : str, optional\n",
    "        'horizontal' or 'vertical' for the legend layout.\n",
    "    \"\"\"\n",
    "    # Set figure size based on orientation\n",
    "    if orientation == 'horizontal':\n",
    "        plt.figure(figsize=(3, 0.5))\n",
    "        ncol = 3\n",
    "    else:  # vertical\n",
    "        plt.figure(figsize=(1, 1.5))\n",
    "        ncol = 1\n",
    "    \n",
    "    # Create a figure and axis\n",
    "    ax = plt.gca()\n",
    "    \n",
    "    # Create patches for the legend\n",
    "    from matplotlib.patches import Patch\n",
    "    legend_elements = [\n",
    "        Patch(facecolor='black', label='Non-EZ', alpha=0.6),\n",
    "        Patch(facecolor='#D41159', label='EZ', alpha=0.6),\n",
    "        Patch(facecolor='#1A85FF', label='Non->EZ', alpha=0.6)\n",
    "    ]\n",
    "    \n",
    "    # Create legend with patches\n",
    "    ax.legend(handles=legend_elements,\n",
    "             loc='center',\n",
    "             ncol=ncol,\n",
    "             frameon=False)\n",
    "    \n",
    "    # Remove axes and background\n",
    "    plt.axis('off')\n",
    "    \n",
    "    # Adjust layout to show only the legend\n",
    "    plt.tight_layout()\n",
    "    \n",
    "    # Save the plot if output path is provided\n",
    "    if output_path:\n",
    "        # Add orientation to filename if not already present\n",
    "        if not output_path.endswith('.png'):\n",
    "            output_path += '.png'\n",
    "        base_path = output_path.rsplit('.', 1)[0]\n",
    "        output_path = f\"{base_path}_{orientation}.png\"\n",
    "        \n",
    "        plt.savefig(output_path, dpi=300, bbox_inches='tight', pad_inches=0)\n",
    "        plt.close()\n",
    "    else:\n",
    "        plt.show()\n",
    "\n",
    "\n",
    "create_legend_plot('/media/dan/Data/git/ubiquitous-spork/plots_for_seminar/legend.png', orientation='horizontal')\n",
    "create_legend_plot('/media/dan/Data/git/ubiquitous-spork/plots_for_seminar/legend.png', orientation='vertical')"
   ]
  },
  {
   "cell_type": "code",
   "execution_count": 42,
   "metadata": {},
   "outputs": [],
   "source": [
    "def combine_data(data, log=False):\n",
    "    # Combine mixed groups\n",
    "    mix = np.concatenate([data['non_soz'], data['soz_non']])\n",
    "    \n",
    "    # Create arrays for each group\n",
    "    mix_data = mix\n",
    "    non_data = data['non_non']\n",
    "    soz_data = data['soz_soz']\n",
    "    \n",
    "    # Create labels for each group\n",
    "    mix_labels = ['mix'] * len(mix_data)\n",
    "    non_labels = ['non'] * len(non_data)\n",
    "    soz_labels = ['soz'] * len(soz_data)\n",
    "    \n",
    "    # Combine all data and labels\n",
    "    all_data = np.concatenate([mix_data, non_data, soz_data])\n",
    "    all_labels = mix_labels + non_labels + soz_labels\n",
    "    \n",
    "    # Create DataFrame\n",
    "    df = pd.DataFrame({\n",
    "        'Measure Value': all_data,\n",
    "        'group': all_labels\n",
    "    })\n",
    "    df = df.replace([np.inf, -np.inf], np.nan).dropna()\n",
    "    return df\n",
    "\n",
    "# Example usage:\n",
    "# data = {'non_non': array1, 'non_soz': array2, 'soz_non': array3, 'soz_soz': array4}\n",
    "# df = combine_data(data)"
   ]
  },
  {
   "cell_type": "code",
   "execution_count": 36,
   "metadata": {},
   "outputs": [
    {
     "name": "stderr",
     "output_type": "stream",
     "text": [
      "100%|██████████| 50/50 [02:31<00:00,  3.03s/it]\n"
     ]
    }
   ],
   "source": [
    "path = \"/media/dan/Data/data/connectivity/conglomerated/six_run/mean_columns.h5\"\n",
    "\n",
    "# Open the HDF5 file\n",
    "with h5py.File(path, 'r') as f:\n",
    "    keys = list(f.keys())\n",
    "\n",
    "\n",
    "for k in tqdm(keys):\n",
    "    data = {}\n",
    "    try:\n",
    "\n",
    "        with h5py.File(path, 'r') as f:\n",
    "            for g in groups:\n",
    "                data[g] = f[k]['upper'][g][()]\n",
    "        combined = combine_data(data)\n",
    "        # subset = combined.sample(10000)\n",
    "        sns.kdeplot(data=combined, x=\"Measure Value\", hue=\"group\", common_grid=True, common_norm=False, cut=0,\n",
    "                    palette={'non': 'black', 'soz': '#D41159', 'mix': '#1A85FF'}, fill=False, alpha=0.6, legend=False)\n",
    "        plt.title(k, fontsize=10)\n",
    "        output_dir = \"/media/dan/Data/git/ubiquitous-spork/plots_for_seminar/mean_columns\"\n",
    "        plt.savefig(os.path.join(output_dir, f\"{k}~mean.png\"), dpi=300)\n",
    "        plt.close()\n",
    "        del data, combined\n",
    "        gc.collect()\n",
    "    except Exception as e:\n",
    "        print(f\"Error processing {k}: {e}\")\n",
    "        continue\n"
   ]
  },
  {
   "cell_type": "code",
   "execution_count": 43,
   "metadata": {},
   "outputs": [
    {
     "name": "stderr",
     "output_type": "stream",
     "text": [
      "  5%|▌         | 7/136 [00:19<05:02,  2.35s/it]"
     ]
    },
    {
     "name": "stdout",
     "output_type": "stream",
     "text": [
      "Error processing cov-sq_GraphicalLasso: array must not contain infs or NaNs\n"
     ]
    },
    {
     "name": "stderr",
     "output_type": "stream",
     "text": [
      " 29%|██▉       | 40/136 [02:11<05:28,  3.42s/it]/tmp/ipykernel_11629/3481193739.py:17: UserWarning: Ignoring `palette` because no `hue` variable has been assigned.\n",
      "  sns.kdeplot(data=combined, x=\"Measure Value\", hue=\"group\", common_grid=True, common_norm=False, cut=0,\n",
      " 30%|███       | 41/136 [02:11<03:50,  2.43s/it]"
     ]
    },
    {
     "name": "stdout",
     "output_type": "stream",
     "text": [
      "Error processing gd_multitaper_delay_fs-1_fmin-0-000488_fmax-0-00195: `dataset` input should have multiple elements.\n"
     ]
    },
    {
     "name": "stderr",
     "output_type": "stream",
     "text": [
      " 32%|███▏      | 43/136 [02:17<04:26,  2.86s/it]/tmp/ipykernel_11629/3481193739.py:17: UserWarning: Ignoring `palette` because no `hue` variable has been assigned.\n",
      "  sns.kdeplot(data=combined, x=\"Measure Value\", hue=\"group\", common_grid=True, common_norm=False, cut=0,\n",
      " 32%|███▏      | 44/136 [02:18<03:07,  2.04s/it]/tmp/ipykernel_11629/3481193739.py:17: UserWarning: Ignoring `palette` because no `hue` variable has been assigned.\n",
      "  sns.kdeplot(data=combined, x=\"Measure Value\", hue=\"group\", common_grid=True, common_norm=False, cut=0,\n",
      " 33%|███▎      | 45/136 [02:18<02:13,  1.46s/it]"
     ]
    },
    {
     "name": "stdout",
     "output_type": "stream",
     "text": [
      "Error processing gd_multitaper_delay_fs-1_fmin-0-00195_fmax-0-00391: `dataset` input should have multiple elements.\n",
      "Error processing gd_multitaper_delay_fs-1_fmin-0-00391_fmax-0-00586: `dataset` input should have multiple elements.\n"
     ]
    },
    {
     "name": "stderr",
     "output_type": "stream",
     "text": [
      " 79%|███████▉  | 108/136 [05:50<01:37,  3.49s/it]/tmp/ipykernel_11629/3481193739.py:17: UserWarning: Ignoring `palette` because no `hue` variable has been assigned.\n",
      "  sns.kdeplot(data=combined, x=\"Measure Value\", hue=\"group\", common_grid=True, common_norm=False, cut=0,\n",
      " 80%|████████  | 109/136 [05:50<01:06,  2.48s/it]"
     ]
    },
    {
     "name": "stdout",
     "output_type": "stream",
     "text": [
      "Error processing psi_multitaper_mean_fs-1_fmin-0-000488_fmax-0-00195: `dataset` input should have multiple elements.\n"
     ]
    },
    {
     "name": "stderr",
     "output_type": "stream",
     "text": [
      " 82%|████████▏ | 111/136 [05:57<01:14,  2.99s/it]/tmp/ipykernel_11629/3481193739.py:17: UserWarning: Ignoring `palette` because no `hue` variable has been assigned.\n",
      "  sns.kdeplot(data=combined, x=\"Measure Value\", hue=\"group\", common_grid=True, common_norm=False, cut=0,\n",
      " 82%|████████▏ | 112/136 [05:57<00:51,  2.13s/it]/tmp/ipykernel_11629/3481193739.py:17: UserWarning: Ignoring `palette` because no `hue` variable has been assigned.\n",
      "  sns.kdeplot(data=combined, x=\"Measure Value\", hue=\"group\", common_grid=True, common_norm=False, cut=0,\n",
      " 83%|████████▎ | 113/136 [05:57<00:35,  1.52s/it]"
     ]
    },
    {
     "name": "stdout",
     "output_type": "stream",
     "text": [
      "Error processing psi_multitaper_mean_fs-1_fmin-0-00195_fmax-0-00391: `dataset` input should have multiple elements.\n",
      "Error processing psi_multitaper_mean_fs-1_fmin-0-00391_fmax-0-00586: `dataset` input should have multiple elements.\n"
     ]
    },
    {
     "name": "stderr",
     "output_type": "stream",
     "text": [
      "100%|██████████| 136/136 [07:17<00:00,  3.21s/it]\n"
     ]
    }
   ],
   "source": [
    "path = \"/media/dan/Data/data/connectivity/conglomerated/additional/mean_columns.h5\"\n",
    "\n",
    "# Open the HDF5 file\n",
    "with h5py.File(path, 'r') as f:\n",
    "    keys = list(f.keys())\n",
    "\n",
    "\n",
    "for k in tqdm(keys):\n",
    "    data = {}\n",
    "    \n",
    "    with h5py.File(path, 'r') as f:\n",
    "        for g in groups:\n",
    "            data[g] = f[k]['upper'][g][()]\n",
    "    try:\n",
    "        combined = combine_data(data)\n",
    "            # subset = combined.sample(10000)\n",
    "        sns.kdeplot(data=combined, x=\"Measure Value\", hue=\"group\", common_grid=True, common_norm=False, cut=0,\n",
    "                    palette={'non': 'black', 'soz': '#D41159', 'mix': '#1A85FF'}, fill=False, alpha=0.6, legend=False)\n",
    "        plt.title(k, fontsize=10)\n",
    "        output_dir = \"/media/dan/Data/git/ubiquitous-spork/plots_for_seminar/mean_columns\"\n",
    "        plt.savefig(os.path.join(output_dir, f\"{k}~mean.png\"), dpi=300)\n",
    "        plt.close()\n",
    "        del data, combined\n",
    "        gc.collect()\n",
    "    except Exception as e:\n",
    "        print(f\"Error processing {k}: {e}\")\n",
    "        continue\n"
   ]
  },
  {
   "cell_type": "code",
   "execution_count": 48,
   "metadata": {},
   "outputs": [
    {
     "name": "stderr",
     "output_type": "stream",
     "text": [
      "  0%|          | 0/7 [00:00<?, ?it/s]/tmp/ipykernel_11629/3479629196.py:18: UserWarning: Ignoring `palette` because no `hue` variable has been assigned.\n",
      "  sns.kdeplot(data=combined, x=\"Measure Value\", hue=\"group\", common_grid=True, common_norm=False, cut=0,\n"
     ]
    },
    {
     "name": "stdout",
     "output_type": "stream",
     "text": [
      "Error processing gd_multitaper_delay_fs-1_fmin-0-000488_fmax-0-00195: `dataset` input should have multiple elements.\n"
     ]
    },
    {
     "name": "stderr",
     "output_type": "stream",
     "text": [
      "/tmp/ipykernel_11629/3479629196.py:18: UserWarning: Ignoring `palette` because no `hue` variable has been assigned.\n",
      "  sns.kdeplot(data=combined, x=\"Measure Value\", hue=\"group\", common_grid=True, common_norm=False, cut=0,\n",
      "/tmp/ipykernel_11629/3479629196.py:18: UserWarning: Ignoring `palette` because no `hue` variable has been assigned.\n",
      "  sns.kdeplot(data=combined, x=\"Measure Value\", hue=\"group\", common_grid=True, common_norm=False, cut=0,\n"
     ]
    },
    {
     "name": "stdout",
     "output_type": "stream",
     "text": [
      "Error processing gd_multitaper_delay_fs-1_fmin-0-00195_fmax-0-00391: `dataset` input should have multiple elements.\n",
      "Error processing gd_multitaper_delay_fs-1_fmin-0-00391_fmax-0-00586: `dataset` input should have multiple elements.\n"
     ]
    },
    {
     "name": "stderr",
     "output_type": "stream",
     "text": [
      "/tmp/ipykernel_11629/3479629196.py:18: UserWarning: Ignoring `palette` because no `hue` variable has been assigned.\n",
      "  sns.kdeplot(data=combined, x=\"Measure Value\", hue=\"group\", common_grid=True, common_norm=False, cut=0,\n"
     ]
    },
    {
     "name": "stdout",
     "output_type": "stream",
     "text": [
      "Error processing psi_multitaper_mean_fs-1_fmin-0-000488_fmax-0-00195: `dataset` input should have multiple elements.\n"
     ]
    },
    {
     "name": "stderr",
     "output_type": "stream",
     "text": [
      "/tmp/ipykernel_11629/3479629196.py:18: UserWarning: Ignoring `palette` because no `hue` variable has been assigned.\n",
      "  sns.kdeplot(data=combined, x=\"Measure Value\", hue=\"group\", common_grid=True, common_norm=False, cut=0,\n",
      "/tmp/ipykernel_11629/3479629196.py:18: UserWarning: Ignoring `palette` because no `hue` variable has been assigned.\n",
      "  sns.kdeplot(data=combined, x=\"Measure Value\", hue=\"group\", common_grid=True, common_norm=False, cut=0,\n"
     ]
    },
    {
     "name": "stdout",
     "output_type": "stream",
     "text": [
      "Error processing psi_multitaper_mean_fs-1_fmin-0-00195_fmax-0-00391: `dataset` input should have multiple elements.\n",
      "Error processing psi_multitaper_mean_fs-1_fmin-0-00391_fmax-0-00586: `dataset` input should have multiple elements.\n"
     ]
    },
    {
     "name": "stderr",
     "output_type": "stream",
     "text": [
      "100%|██████████| 136/136 [01:35<00:00,  1.43it/s]\n",
      " 14%|█▍        | 1/7 [01:35<09:30, 95.15s/it]"
     ]
    },
    {
     "name": "stdout",
     "output_type": "stream",
     "text": [
      "Error processing cov-sq_GraphicalLasso: array must not contain infs or NaNs\n"
     ]
    },
    {
     "name": "stderr",
     "output_type": "stream",
     "text": [
      "/tmp/ipykernel_11629/3479629196.py:18: UserWarning: Ignoring `palette` because no `hue` variable has been assigned.\n",
      "  sns.kdeplot(data=combined, x=\"Measure Value\", hue=\"group\", common_grid=True, common_norm=False, cut=0,\n"
     ]
    },
    {
     "name": "stdout",
     "output_type": "stream",
     "text": [
      "Error processing gd_multitaper_delay_fs-1_fmin-0-000488_fmax-0-00195: `dataset` input should have multiple elements.\n"
     ]
    },
    {
     "name": "stderr",
     "output_type": "stream",
     "text": [
      "/tmp/ipykernel_11629/3479629196.py:18: UserWarning: Ignoring `palette` because no `hue` variable has been assigned.\n",
      "  sns.kdeplot(data=combined, x=\"Measure Value\", hue=\"group\", common_grid=True, common_norm=False, cut=0,\n",
      "/tmp/ipykernel_11629/3479629196.py:18: UserWarning: Ignoring `palette` because no `hue` variable has been assigned.\n",
      "  sns.kdeplot(data=combined, x=\"Measure Value\", hue=\"group\", common_grid=True, common_norm=False, cut=0,\n"
     ]
    },
    {
     "name": "stdout",
     "output_type": "stream",
     "text": [
      "Error processing gd_multitaper_delay_fs-1_fmin-0-00195_fmax-0-00391: `dataset` input should have multiple elements.\n",
      "Error processing gd_multitaper_delay_fs-1_fmin-0-00391_fmax-0-00586: `dataset` input should have multiple elements.\n"
     ]
    },
    {
     "name": "stderr",
     "output_type": "stream",
     "text": [
      "/tmp/ipykernel_11629/3479629196.py:18: UserWarning: Ignoring `palette` because no `hue` variable has been assigned.\n",
      "  sns.kdeplot(data=combined, x=\"Measure Value\", hue=\"group\", common_grid=True, common_norm=False, cut=0,\n"
     ]
    },
    {
     "name": "stdout",
     "output_type": "stream",
     "text": [
      "Error processing psi_multitaper_mean_fs-1_fmin-0-000488_fmax-0-00195: `dataset` input should have multiple elements.\n"
     ]
    },
    {
     "name": "stderr",
     "output_type": "stream",
     "text": [
      "/tmp/ipykernel_11629/3479629196.py:18: UserWarning: Ignoring `palette` because no `hue` variable has been assigned.\n",
      "  sns.kdeplot(data=combined, x=\"Measure Value\", hue=\"group\", common_grid=True, common_norm=False, cut=0,\n",
      "/tmp/ipykernel_11629/3479629196.py:18: UserWarning: Ignoring `palette` because no `hue` variable has been assigned.\n",
      "  sns.kdeplot(data=combined, x=\"Measure Value\", hue=\"group\", common_grid=True, common_norm=False, cut=0,\n"
     ]
    },
    {
     "name": "stdout",
     "output_type": "stream",
     "text": [
      "Error processing psi_multitaper_mean_fs-1_fmin-0-00195_fmax-0-00391: `dataset` input should have multiple elements.\n",
      "Error processing psi_multitaper_mean_fs-1_fmin-0-00391_fmax-0-00586: `dataset` input should have multiple elements.\n"
     ]
    },
    {
     "name": "stderr",
     "output_type": "stream",
     "text": [
      "100%|██████████| 136/136 [03:12<00:00,  1.41s/it]\n",
      " 29%|██▊       | 2/7 [04:47<12:40, 152.18s/it]/tmp/ipykernel_11629/3479629196.py:18: UserWarning: Ignoring `palette` because no `hue` variable has been assigned.\n",
      "  sns.kdeplot(data=combined, x=\"Measure Value\", hue=\"group\", common_grid=True, common_norm=False, cut=0,\n"
     ]
    },
    {
     "name": "stdout",
     "output_type": "stream",
     "text": [
      "Error processing gd_multitaper_delay_fs-1_fmin-0-000488_fmax-0-00195: `dataset` input should have multiple elements.\n"
     ]
    },
    {
     "name": "stderr",
     "output_type": "stream",
     "text": [
      "/tmp/ipykernel_11629/3479629196.py:18: UserWarning: Ignoring `palette` because no `hue` variable has been assigned.\n",
      "  sns.kdeplot(data=combined, x=\"Measure Value\", hue=\"group\", common_grid=True, common_norm=False, cut=0,\n",
      "/tmp/ipykernel_11629/3479629196.py:18: UserWarning: Ignoring `palette` because no `hue` variable has been assigned.\n",
      "  sns.kdeplot(data=combined, x=\"Measure Value\", hue=\"group\", common_grid=True, common_norm=False, cut=0,\n"
     ]
    },
    {
     "name": "stdout",
     "output_type": "stream",
     "text": [
      "Error processing gd_multitaper_delay_fs-1_fmin-0-00195_fmax-0-00391: `dataset` input should have multiple elements.\n",
      "Error processing gd_multitaper_delay_fs-1_fmin-0-00391_fmax-0-00586: `dataset` input should have multiple elements.\n"
     ]
    },
    {
     "name": "stderr",
     "output_type": "stream",
     "text": [
      "/tmp/ipykernel_11629/3479629196.py:18: UserWarning: Ignoring `palette` because no `hue` variable has been assigned.\n",
      "  sns.kdeplot(data=combined, x=\"Measure Value\", hue=\"group\", common_grid=True, common_norm=False, cut=0,\n"
     ]
    },
    {
     "name": "stdout",
     "output_type": "stream",
     "text": [
      "Error processing psi_multitaper_mean_fs-1_fmin-0-000488_fmax-0-00195: `dataset` input should have multiple elements.\n"
     ]
    },
    {
     "name": "stderr",
     "output_type": "stream",
     "text": [
      "/tmp/ipykernel_11629/3479629196.py:18: UserWarning: Ignoring `palette` because no `hue` variable has been assigned.\n",
      "  sns.kdeplot(data=combined, x=\"Measure Value\", hue=\"group\", common_grid=True, common_norm=False, cut=0,\n",
      "/tmp/ipykernel_11629/3479629196.py:18: UserWarning: Ignoring `palette` because no `hue` variable has been assigned.\n",
      "  sns.kdeplot(data=combined, x=\"Measure Value\", hue=\"group\", common_grid=True, common_norm=False, cut=0,\n"
     ]
    },
    {
     "name": "stdout",
     "output_type": "stream",
     "text": [
      "Error processing psi_multitaper_mean_fs-1_fmin-0-00195_fmax-0-00391: `dataset` input should have multiple elements.\n",
      "Error processing psi_multitaper_mean_fs-1_fmin-0-00391_fmax-0-00586: `dataset` input should have multiple elements.\n"
     ]
    },
    {
     "name": "stderr",
     "output_type": "stream",
     "text": [
      "100%|██████████| 136/136 [01:28<00:00,  1.54it/s]\n",
      " 43%|████▎     | 3/7 [06:15<08:11, 122.94s/it]/tmp/ipykernel_11629/3479629196.py:18: UserWarning: Ignoring `palette` because no `hue` variable has been assigned.\n",
      "  sns.kdeplot(data=combined, x=\"Measure Value\", hue=\"group\", common_grid=True, common_norm=False, cut=0,\n"
     ]
    },
    {
     "name": "stdout",
     "output_type": "stream",
     "text": [
      "Error processing gd_multitaper_delay_fs-1_fmin-0-000488_fmax-0-00195: `dataset` input should have multiple elements.\n"
     ]
    },
    {
     "name": "stderr",
     "output_type": "stream",
     "text": [
      "/tmp/ipykernel_11629/3479629196.py:18: UserWarning: Ignoring `palette` because no `hue` variable has been assigned.\n",
      "  sns.kdeplot(data=combined, x=\"Measure Value\", hue=\"group\", common_grid=True, common_norm=False, cut=0,\n",
      "/tmp/ipykernel_11629/3479629196.py:18: UserWarning: Ignoring `palette` because no `hue` variable has been assigned.\n",
      "  sns.kdeplot(data=combined, x=\"Measure Value\", hue=\"group\", common_grid=True, common_norm=False, cut=0,\n"
     ]
    },
    {
     "name": "stdout",
     "output_type": "stream",
     "text": [
      "Error processing gd_multitaper_delay_fs-1_fmin-0-00195_fmax-0-00391: `dataset` input should have multiple elements.\n",
      "Error processing gd_multitaper_delay_fs-1_fmin-0-00391_fmax-0-00586: `dataset` input should have multiple elements.\n"
     ]
    },
    {
     "name": "stderr",
     "output_type": "stream",
     "text": [
      "/tmp/ipykernel_11629/3479629196.py:18: UserWarning: Ignoring `palette` because no `hue` variable has been assigned.\n",
      "  sns.kdeplot(data=combined, x=\"Measure Value\", hue=\"group\", common_grid=True, common_norm=False, cut=0,\n"
     ]
    },
    {
     "name": "stdout",
     "output_type": "stream",
     "text": [
      "Error processing psi_multitaper_mean_fs-1_fmin-0-000488_fmax-0-00195: `dataset` input should have multiple elements.\n"
     ]
    },
    {
     "name": "stderr",
     "output_type": "stream",
     "text": [
      "/tmp/ipykernel_11629/3479629196.py:18: UserWarning: Ignoring `palette` because no `hue` variable has been assigned.\n",
      "  sns.kdeplot(data=combined, x=\"Measure Value\", hue=\"group\", common_grid=True, common_norm=False, cut=0,\n",
      "/tmp/ipykernel_11629/3479629196.py:18: UserWarning: Ignoring `palette` because no `hue` variable has been assigned.\n",
      "  sns.kdeplot(data=combined, x=\"Measure Value\", hue=\"group\", common_grid=True, common_norm=False, cut=0,\n"
     ]
    },
    {
     "name": "stdout",
     "output_type": "stream",
     "text": [
      "Error processing psi_multitaper_mean_fs-1_fmin-0-00195_fmax-0-00391: `dataset` input should have multiple elements.\n",
      "Error processing psi_multitaper_mean_fs-1_fmin-0-00391_fmax-0-00586: `dataset` input should have multiple elements.\n"
     ]
    },
    {
     "name": "stderr",
     "output_type": "stream",
     "text": [
      "100%|██████████| 136/136 [01:25<00:00,  1.58it/s]\n",
      " 57%|█████▋    | 4/7 [07:41<05:25, 108.35s/it]/tmp/ipykernel_11629/3479629196.py:18: UserWarning: Ignoring `palette` because no `hue` variable has been assigned.\n",
      "  sns.kdeplot(data=combined, x=\"Measure Value\", hue=\"group\", common_grid=True, common_norm=False, cut=0,\n"
     ]
    },
    {
     "name": "stdout",
     "output_type": "stream",
     "text": [
      "Error processing gd_multitaper_delay_fs-1_fmin-0-000488_fmax-0-00195: `dataset` input should have multiple elements.\n"
     ]
    },
    {
     "name": "stderr",
     "output_type": "stream",
     "text": [
      "/tmp/ipykernel_11629/3479629196.py:18: UserWarning: Ignoring `palette` because no `hue` variable has been assigned.\n",
      "  sns.kdeplot(data=combined, x=\"Measure Value\", hue=\"group\", common_grid=True, common_norm=False, cut=0,\n",
      "/tmp/ipykernel_11629/3479629196.py:18: UserWarning: Ignoring `palette` because no `hue` variable has been assigned.\n",
      "  sns.kdeplot(data=combined, x=\"Measure Value\", hue=\"group\", common_grid=True, common_norm=False, cut=0,\n"
     ]
    },
    {
     "name": "stdout",
     "output_type": "stream",
     "text": [
      "Error processing gd_multitaper_delay_fs-1_fmin-0-00195_fmax-0-00391: `dataset` input should have multiple elements.\n",
      "Error processing gd_multitaper_delay_fs-1_fmin-0-00391_fmax-0-00586: `dataset` input should have multiple elements.\n"
     ]
    },
    {
     "name": "stderr",
     "output_type": "stream",
     "text": [
      "/tmp/ipykernel_11629/3479629196.py:18: UserWarning: Ignoring `palette` because no `hue` variable has been assigned.\n",
      "  sns.kdeplot(data=combined, x=\"Measure Value\", hue=\"group\", common_grid=True, common_norm=False, cut=0,\n"
     ]
    },
    {
     "name": "stdout",
     "output_type": "stream",
     "text": [
      "Error processing psi_multitaper_mean_fs-1_fmin-0-000488_fmax-0-00195: `dataset` input should have multiple elements.\n"
     ]
    },
    {
     "name": "stderr",
     "output_type": "stream",
     "text": [
      "/tmp/ipykernel_11629/3479629196.py:18: UserWarning: Ignoring `palette` because no `hue` variable has been assigned.\n",
      "  sns.kdeplot(data=combined, x=\"Measure Value\", hue=\"group\", common_grid=True, common_norm=False, cut=0,\n",
      "/tmp/ipykernel_11629/3479629196.py:18: UserWarning: Ignoring `palette` because no `hue` variable has been assigned.\n",
      "  sns.kdeplot(data=combined, x=\"Measure Value\", hue=\"group\", common_grid=True, common_norm=False, cut=0,\n"
     ]
    },
    {
     "name": "stdout",
     "output_type": "stream",
     "text": [
      "Error processing psi_multitaper_mean_fs-1_fmin-0-00195_fmax-0-00391: `dataset` input should have multiple elements.\n",
      "Error processing psi_multitaper_mean_fs-1_fmin-0-00391_fmax-0-00586: `dataset` input should have multiple elements.\n"
     ]
    },
    {
     "name": "stderr",
     "output_type": "stream",
     "text": [
      "100%|██████████| 136/136 [01:59<00:00,  1.14it/s]\n",
      " 71%|███████▏  | 5/7 [09:40<03:44, 112.27s/it]"
     ]
    },
    {
     "name": "stdout",
     "output_type": "stream",
     "text": [
      "Error processing cov-sq_GraphicalLasso: array must not contain infs or NaNs\n"
     ]
    },
    {
     "name": "stderr",
     "output_type": "stream",
     "text": [
      "/tmp/ipykernel_11629/3479629196.py:18: UserWarning: Ignoring `palette` because no `hue` variable has been assigned.\n",
      "  sns.kdeplot(data=combined, x=\"Measure Value\", hue=\"group\", common_grid=True, common_norm=False, cut=0,\n"
     ]
    },
    {
     "name": "stdout",
     "output_type": "stream",
     "text": [
      "Error processing gd_multitaper_delay_fs-1_fmin-0-000488_fmax-0-00195: `dataset` input should have multiple elements.\n"
     ]
    },
    {
     "name": "stderr",
     "output_type": "stream",
     "text": [
      "/tmp/ipykernel_11629/3479629196.py:18: UserWarning: Ignoring `palette` because no `hue` variable has been assigned.\n",
      "  sns.kdeplot(data=combined, x=\"Measure Value\", hue=\"group\", common_grid=True, common_norm=False, cut=0,\n",
      "/tmp/ipykernel_11629/3479629196.py:18: UserWarning: Ignoring `palette` because no `hue` variable has been assigned.\n",
      "  sns.kdeplot(data=combined, x=\"Measure Value\", hue=\"group\", common_grid=True, common_norm=False, cut=0,\n"
     ]
    },
    {
     "name": "stdout",
     "output_type": "stream",
     "text": [
      "Error processing gd_multitaper_delay_fs-1_fmin-0-00195_fmax-0-00391: `dataset` input should have multiple elements.\n",
      "Error processing gd_multitaper_delay_fs-1_fmin-0-00391_fmax-0-00586: `dataset` input should have multiple elements.\n"
     ]
    },
    {
     "name": "stderr",
     "output_type": "stream",
     "text": [
      "/tmp/ipykernel_11629/3479629196.py:18: UserWarning: Ignoring `palette` because no `hue` variable has been assigned.\n",
      "  sns.kdeplot(data=combined, x=\"Measure Value\", hue=\"group\", common_grid=True, common_norm=False, cut=0,\n"
     ]
    },
    {
     "name": "stdout",
     "output_type": "stream",
     "text": [
      "Error processing psi_multitaper_mean_fs-1_fmin-0-000488_fmax-0-00195: `dataset` input should have multiple elements.\n"
     ]
    },
    {
     "name": "stderr",
     "output_type": "stream",
     "text": [
      "/tmp/ipykernel_11629/3479629196.py:18: UserWarning: Ignoring `palette` because no `hue` variable has been assigned.\n",
      "  sns.kdeplot(data=combined, x=\"Measure Value\", hue=\"group\", common_grid=True, common_norm=False, cut=0,\n",
      "/tmp/ipykernel_11629/3479629196.py:18: UserWarning: Ignoring `palette` because no `hue` variable has been assigned.\n",
      "  sns.kdeplot(data=combined, x=\"Measure Value\", hue=\"group\", common_grid=True, common_norm=False, cut=0,\n"
     ]
    },
    {
     "name": "stdout",
     "output_type": "stream",
     "text": [
      "Error processing psi_multitaper_mean_fs-1_fmin-0-00195_fmax-0-00391: `dataset` input should have multiple elements.\n",
      "Error processing psi_multitaper_mean_fs-1_fmin-0-00391_fmax-0-00586: `dataset` input should have multiple elements.\n"
     ]
    },
    {
     "name": "stderr",
     "output_type": "stream",
     "text": [
      "100%|██████████| 136/136 [03:32<00:00,  1.57s/it]\n",
      " 86%|████████▌ | 6/7 [13:13<02:26, 146.49s/it]/tmp/ipykernel_11629/3479629196.py:18: UserWarning: Ignoring `palette` because no `hue` variable has been assigned.\n",
      "  sns.kdeplot(data=combined, x=\"Measure Value\", hue=\"group\", common_grid=True, common_norm=False, cut=0,\n"
     ]
    },
    {
     "name": "stdout",
     "output_type": "stream",
     "text": [
      "Error processing gd_multitaper_delay_fs-1_fmin-0-000488_fmax-0-00195: `dataset` input should have multiple elements.\n"
     ]
    },
    {
     "name": "stderr",
     "output_type": "stream",
     "text": [
      "/tmp/ipykernel_11629/3479629196.py:18: UserWarning: Ignoring `palette` because no `hue` variable has been assigned.\n",
      "  sns.kdeplot(data=combined, x=\"Measure Value\", hue=\"group\", common_grid=True, common_norm=False, cut=0,\n",
      "/tmp/ipykernel_11629/3479629196.py:18: UserWarning: Ignoring `palette` because no `hue` variable has been assigned.\n",
      "  sns.kdeplot(data=combined, x=\"Measure Value\", hue=\"group\", common_grid=True, common_norm=False, cut=0,\n"
     ]
    },
    {
     "name": "stdout",
     "output_type": "stream",
     "text": [
      "Error processing gd_multitaper_delay_fs-1_fmin-0-00195_fmax-0-00391: `dataset` input should have multiple elements.\n",
      "Error processing gd_multitaper_delay_fs-1_fmin-0-00391_fmax-0-00586: `dataset` input should have multiple elements.\n"
     ]
    },
    {
     "name": "stderr",
     "output_type": "stream",
     "text": [
      "/tmp/ipykernel_11629/3479629196.py:18: UserWarning: Ignoring `palette` because no `hue` variable has been assigned.\n",
      "  sns.kdeplot(data=combined, x=\"Measure Value\", hue=\"group\", common_grid=True, common_norm=False, cut=0,\n"
     ]
    },
    {
     "name": "stdout",
     "output_type": "stream",
     "text": [
      "Error processing psi_multitaper_mean_fs-1_fmin-0-000488_fmax-0-00195: `dataset` input should have multiple elements.\n"
     ]
    },
    {
     "name": "stderr",
     "output_type": "stream",
     "text": [
      "/tmp/ipykernel_11629/3479629196.py:18: UserWarning: Ignoring `palette` because no `hue` variable has been assigned.\n",
      "  sns.kdeplot(data=combined, x=\"Measure Value\", hue=\"group\", common_grid=True, common_norm=False, cut=0,\n",
      "/tmp/ipykernel_11629/3479629196.py:18: UserWarning: Ignoring `palette` because no `hue` variable has been assigned.\n",
      "  sns.kdeplot(data=combined, x=\"Measure Value\", hue=\"group\", common_grid=True, common_norm=False, cut=0,\n"
     ]
    },
    {
     "name": "stdout",
     "output_type": "stream",
     "text": [
      "Error processing psi_multitaper_mean_fs-1_fmin-0-00195_fmax-0-00391: `dataset` input should have multiple elements.\n",
      "Error processing psi_multitaper_mean_fs-1_fmin-0-00391_fmax-0-00586: `dataset` input should have multiple elements.\n"
     ]
    },
    {
     "name": "stderr",
     "output_type": "stream",
     "text": [
      "100%|██████████| 136/136 [03:25<00:00,  1.51s/it]\n",
      "100%|██████████| 7/7 [16:39<00:00, 142.75s/it]\n"
     ]
    }
   ],
   "source": [
    "path = \"/media/dan/Data/data/connectivity/conglomerated/additional/mean_ilae.h5\"\n",
    "\n",
    "# Open the HDF5 file\n",
    "with h5py.File(path, 'r') as f:\n",
    "    ilae_keys = list(f.keys())\n",
    "    keys = list(f[ilae_keys[0]].keys())\n",
    "\n",
    "for ilae_k in tqdm(ilae_keys):\n",
    "    for k in tqdm(keys):\n",
    "        data = {}\n",
    "        \n",
    "        with h5py.File(path, 'r') as f:\n",
    "            for g in groups:\n",
    "                data[g] = f[ilae_k][k]['upper'][g][()]\n",
    "        try:\n",
    "            combined = combine_data(data)\n",
    "                # subset = combined.sample(10000)\n",
    "            sns.kdeplot(data=combined, x=\"Measure Value\", hue=\"group\", common_grid=True, common_norm=False, cut=0,\n",
    "                        palette={'non': 'black', 'soz': '#D41159', 'mix': '#1A85FF'}, fill=False, alpha=0.6, legend=False)\n",
    "            plt.title(k, fontsize=10)\n",
    "            output_dir = \"/media/dan/Data/git/ubiquitous-spork/plots_for_seminar/by_ilae/mean\"\n",
    "            plt.savefig(os.path.join(output_dir, f\"{k}~{ilae_k}~mean.png\"), dpi=300)\n",
    "            plt.close()\n",
    "            del data, combined\n",
    "            gc.collect()\n",
    "        except Exception as e:\n",
    "            print(f\"Error processing {k}: {e}\")\n",
    "            continue\n"
   ]
  },
  {
   "cell_type": "code",
   "execution_count": 49,
   "metadata": {},
   "outputs": [
    {
     "name": "stderr",
     "output_type": "stream",
     "text": [
      "100%|██████████| 50/50 [00:36<00:00,  1.38it/s]\n",
      "100%|██████████| 50/50 [01:08<00:00,  1.38s/it]\n",
      "100%|██████████| 50/50 [00:26<00:00,  1.86it/s]\n",
      "100%|██████████| 50/50 [00:23<00:00,  2.14it/s]\n",
      "100%|██████████| 50/50 [00:33<00:00,  1.48it/s]\n",
      "100%|██████████| 50/50 [00:59<00:00,  1.19s/it]\n",
      "100%|██████████| 50/50 [01:00<00:00,  1.21s/it]\n",
      "100%|██████████| 7/7 [05:09<00:00, 44.17s/it]\n"
     ]
    }
   ],
   "source": [
    "path = \"/media/dan/Data/data/connectivity/conglomerated/six_run/mean_ilae.h5\"\n",
    "\n",
    "# Open the HDF5 file\n",
    "with h5py.File(path, 'r') as f:\n",
    "    ilae_keys = list(f.keys())\n",
    "    keys = list(f[ilae_keys[0]].keys())\n",
    "\n",
    "for ilae_k in tqdm(ilae_keys):\n",
    "    for k in tqdm(keys):\n",
    "        data = {}\n",
    "        \n",
    "        with h5py.File(path, 'r') as f:\n",
    "            for g in groups:\n",
    "                data[g] = f[ilae_k][k]['upper'][g][()]\n",
    "        try:\n",
    "            combined = combine_data(data)\n",
    "                # subset = combined.sample(10000)\n",
    "            sns.kdeplot(data=combined, x=\"Measure Value\", hue=\"group\", common_grid=True, common_norm=False, cut=0,\n",
    "                        palette={'non': 'black', 'soz': '#D41159', 'mix': '#1A85FF'}, fill=False, alpha=0.6, legend=False)\n",
    "            plt.title(k, fontsize=10)\n",
    "            output_dir = \"/media/dan/Data/git/ubiquitous-spork/plots_for_seminar/by_ilae/mean\"\n",
    "            plt.savefig(os.path.join(output_dir, f\"{k}~{ilae_k}~mean.png\"), dpi=300)\n",
    "            plt.close()\n",
    "            del data, combined\n",
    "            gc.collect()\n",
    "        except Exception as e:\n",
    "            print(f\"Error processing {k}: {e}\")\n",
    "            continue\n"
   ]
  },
  {
   "cell_type": "code",
   "execution_count": 8,
   "metadata": {},
   "outputs": [
    {
     "name": "stdout",
     "output_type": "stream",
     "text": [
      "['electrode_data', 'epoch_indices', 'epoch_names', 'ilae', 'pid', 'soz']\n",
      "[0 0 0 0 0 0 0 0 0 0 0 0 0 0 0 0 0 0 0 0 0 0 0 0 0 0 0 0 0 0 0 0 0 0 0 0 0\n",
      " 0 0 0 0 0 0 0 0 0 0 0 0 0 0 0 0 0 0 0 0 0 0 0 0 0 0 0 0 0 0 0 0 0 0 0 0 0\n",
      " 0 0 0 0 0 0 0 0 0 0 0 0 0 0 0 0 1 1 1 0 0 0 0 0 1 1 1 1 0 0 0 0 0 0 0 0 0\n",
      " 0 0 0 0 0 0 0]\n",
      "['electrode_data', 'epoch_indices', 'epoch_names', 'ilae', 'pid', 'soz']\n",
      "[0 0 0 0 0 0 0 0 0 0 0 0 0 0 0 0 1 1 1 1 0 0 0 0 1 1 1 1 0 0 0 0 0 0 0 0 1\n",
      " 1 1 0 0 0 1 1 0 1 1 0 0 0 0 1 1 1 0 0 0 0 0 0 0 0 0 0 0 0 0 0 0 0 0 0 1 1\n",
      " 0 0 0 0 0 0]\n",
      "['electrode_data', 'epoch_indices', 'epoch_names', 'ilae', 'pid', 'soz']\n",
      "[0 0 0 0 0 0 1 1 1 1 0 0 0 1 1 1 0 0 0 0 0 0 0 0 0 0 0 0 0 0 0 0 0 0 0 0 0\n",
      " 0 0 0 0 0 0 0 0 0 0 0 0 0 0 0 0 0 0 0 0 0 0 0 0 0 0 0 0 0 0 0 0 0 0 0 0 0\n",
      " 0 0 0 0 0 0 0 0 0 0]\n",
      "['electrode_data', 'epoch_indices', 'epoch_names', 'ilae', 'pid', 'soz']\n",
      "[1 1 1 1 0 0 0 0 1 1 1 1 1 1 1 1 1 0 0 0 1 1 1 1 1 1 1 1 1 1 1 1 1 0 0 0 0\n",
      " 0 0 0 0 0 1 1 0 0 0 0 1 1 1 1 1 0 1 1 1 1 1 1 1 0 0 0 0 0 0 0 0 0 0]\n",
      "['electrode_data', 'epoch_indices', 'epoch_names', 'ilae', 'pid', 'soz']\n",
      "[0 0 0 0 0 0 0 0 0 0 0 0 0 0 0 1 1 0 0 1 1 1 0 0 0 0 0 0 0 0 0 0 0 0 0 0 1\n",
      " 1 1 0 0 0 0 0 0 0 0 0 0 0 0 0 0 1 0 0 0 0 0 0 0 0 0 0 0 0 0 0 0 0 0 0 0 0\n",
      " 0]\n",
      "['electrode_data', 'epoch_indices', 'epoch_names', 'ilae', 'pid', 'soz']\n",
      "[0 0 0 0 0 0 0 0 0 0 0 0 0 0 1 1 0 0 0 0 0 0 0 1 1 0 0 0 0 0 0 0 0 0 0 0 0\n",
      " 0 0 0 0 0 0 0 0 0 0 0 0 0 0 0 0 0 0 0 0 0 0 0 0 0 0 0 0 0 0 0 0 0 0 0 0 0\n",
      " 0 0 0 0 0 0 0]\n",
      "['electrode_data', 'epoch_indices', 'epoch_names', 'ilae', 'pid', 'soz']\n",
      "[0 0 0 0 0 0 0 0 0 0 0 0 0 0 0 0 0 0 0 0 0 0 0 0 0 0 0 0 0 0 0 0 0 0 0 0 0\n",
      " 0 0 0 0 0 0 0 1 1 0 0 0 0 0 0 0 0 0 0 0 0 0 0 0 0 1 1 1 1 0 0 0 0 0 0 0 0\n",
      " 0 0 0 0 0 0 0 0 0 0 0 0 0 0 0 0 0 1 1 1 0 0 0 0 0 1 1 1 0 0 0 0 0 0 0 0 0\n",
      " 0 0 0 0 0]\n",
      "['electrode_data', 'epoch_indices', 'epoch_names', 'ilae', 'pid', 'soz']\n",
      "[1 1 1 1 0 0 0 0 0 0 0 0 1 1 1 1 0 0 0 0 0 0 0 0 0 0 0 0 0 0 0 0 0 0 0 0 0\n",
      " 0 0 0 1 1 1 0 0 0 0 0 0 0 0 0 0 0 0 0 0 0 1 1 1 1 0 0 0 0 0 0 0 0 0 0 0 0\n",
      " 0 0 0 0 0 0 0 0 0 0 0 0 0 0 0 0 0 0 0 0 0 0 0 0 0 0 0 0 0 0 0 0 0 0 0 0 0]\n",
      "['electrode_data', 'epoch_indices', 'epoch_names', 'ilae', 'pid', 'soz']\n",
      "[1 1 1 1 0 0 0 0 0 0 0 0 1 1 1 0 0 0 0 0 0 0 0 0 0 0 0 0 0 0 0 0 0 0 0 0 0\n",
      " 0 0 0 0 0 0 0 0 0 0 0 0 1 1 1 0 0 0 0 0 0 0 0 0 0 0 0 0 0 0 0 0 0 0 0 0 0\n",
      " 0 0 0 0 0 0 0 0 0 0 0 0 0 0 0 0 0 0 0 0 0 0 0 0]\n",
      "['electrode_data', 'epoch_indices', 'epoch_names', 'ilae', 'pid', 'soz']\n",
      "[0 0 0 0 0 0 0 0 0 0 0 0 0 0 0 0 1 1 1 1 1 1 1 1 0 0 0 0 0 0 0 0 1 1 1 1 1\n",
      " 1 1 0 0 0 0 0 0 0 0 1 1 1 0 0 0 0 0 0 0 0 0 0 0 0 0 0 0 0 0 0 0 0 0 0 0 0\n",
      " 0 0 0 0 0 0 0 0 0 0 0 0 0 1 1 1 1 1 0 0 0 0 0 0 0 1 1 1 0 0 0 0 0 0 0 0 0\n",
      " 0 0 0 0 0 0 0 0 0 0 0]\n",
      "['electrode_data', 'epoch_indices', 'epoch_names', 'ilae', 'pid', 'soz']\n",
      "[0 0 0 0 0 0 0 0 0 0 0 0 0 0 0 0 0 0 0 0 0 0 0 0 0 0 0 0 0 0 0 0 0 0 0 0 0\n",
      " 0 0 0 0 0 0 0 0 0 0 0 0 0 0 0 0 0 0 0 0 0 0 0 0 0 0 0 0 0 0 0 0 0 0 0 0 0\n",
      " 0 0 0 0 0 0 0 0 0 0 0 0 0 0 0 0 0 0 0 0 0 0 0 0 0 0 0 0 0 0 0 0 0 0 0 0 0\n",
      " 0 0 0 0 0 0 0 0 0 0 0 0 0 0 0 0 0 0 0 0 0 0 0 0 0 0 0 0 0 1 1 0 0 0 0 0 0\n",
      " 0 0]\n",
      "['electrode_data', 'epoch_indices', 'epoch_names', 'ilae', 'pid', 'soz']\n",
      "[0 0 0 0 0 0 0 0 0 1 1 1 1 1 0 0 0 0 0 0 0 1 1 1 1 1 1 1 0 0 0 0 0 0 0 0 1\n",
      " 1 1 1 1 1 1 1 1 0 0 0 0 0 0 0 0 0 0 0 0 0 0 0 0 0 0 0 0 0 0 0 0 0 0 0 0 0\n",
      " 0 0 0 0 0 0 0 0 0 0 0 0 0 0 0 0]\n",
      "['electrode_data', 'epoch_indices', 'epoch_names', 'ilae', 'pid', 'soz']\n",
      "[0 0 0 0 0 0 0 0 0 0 0 0 1 1 1 1 1 1 1 1 1 1 1 1 1 0 0 0 0 0 0 0 0 0 0 0 0\n",
      " 0 0 0 0 0 0 0 0 0 0 0 0 0 0 0 0 0 0 0 0 0 0 0 0 0 0 0 0 0 0 0 0 0 0 0 0 0\n",
      " 0 0 0 0 0 0 0 0 0 0 0 0 0 0 0 0 1 1 1 1 1 1 1 0 0 0 0 0 0 0 0 0 0 0 0 0 0\n",
      " 0 0 0 0 0 0 0 0 0 0 0 0 0 0 0 0 0 0 0 0 0 0 0 0 0 0 0 0 0 0 0 0 0 0 0 0 0\n",
      " 0 1 1 1 1 1 1 1]\n",
      "['electrode_data', 'epoch_indices', 'epoch_names', 'ilae', 'pid', 'soz']\n",
      "[0 0 0 0 0 0 0 0 0 0 0 0 0 0 0 0 0 0 0 0 0 0 0 0 0 0 0 0 0 0 0 0 0 0 0 0 0\n",
      " 0 0 0 0 0 0 0 0 0 0 0 0 0 0 0 0 0 0 0 0 0 0 0 0 0 0 0 0 0 0 0 0 0 0 0 0 0\n",
      " 0 0 0 0 0 0 0 0 0 0 0 0 0 0 0 0 0 0 0 0 0 0 0 0 0 1 1 1 1 1 0 0 0 0 0 1 1\n",
      " 1 1 1 1 1 0 0 0 0 0 0 0 0 0 0 0 0 0 0 0 0 0 0 1 1 1 1 0 0 0 0 0 0 0 0 0 0\n",
      " 0 0 0 0 0 0 0 0 0 0 0 0 0 0 0 0 0 0 0 1 1 1 0 0 0 0 0 0 0 0 0 0 0 0 0 0 0\n",
      " 0 0 0]\n",
      "['electrode_data', 'epoch_indices', 'epoch_names', 'ilae', 'pid', 'soz']\n",
      "[0 0 0 0 0 0 0 1 1 1 1 1 0 0 0 0 0 1 1 1 1 1 1 1 0 0 0 0 0 0 0 0 0 0 0 0 0\n",
      " 0 0 0 0 0 0 0 0 0 0 0 0 0 0 0 0 0 0 0 0 0 0 0 0 0 0 0 0 0 0 0 0 0 0 0 0 0\n",
      " 0 0 0 0 0 0 0 0 0 0 0 0 0 0 0 0 0 0 0 0 0 0 0 0 0 0 0 0 0 0 1 1 1 1 1 1 1\n",
      " 1 0 0 0 0 0 0 0 0 0 0 0 0 0 0 0 0 1 1 1 1 0 0 0]\n",
      "['electrode_data', 'epoch_indices', 'epoch_names', 'ilae', 'pid', 'soz']\n",
      "[0 0 0 0 0 0 0 0 0 0 0 0 0 0 0 1 1 1 0 0 0 0 0 0 0 0 0 0 0 0 0 0 0 0 0 0 0\n",
      " 0 0 0 0 0 0 0 0 0 0 0 0 0 0 0 0 0 0 0 0 0 0 0 0 0 0 0 0 0 0 0 0 0 0 0 0 0\n",
      " 0 0 0 0 0 0 0 0 0 0 0 0 0 0 0 0 0 0 0 0 0 0 0 0 0 0 0 0 0 0 0 0 0 0 0 0 0\n",
      " 0 0 0 0 0 0 0 0 0 0 0 0 0 0 0 0 0 0 0 0 0 0 0 0 0 0 0 0 0 0]\n",
      "['electrode_data', 'epoch_indices', 'epoch_names', 'ilae', 'pid', 'soz']\n",
      "[0 0 0 0 0 1 1 1 1 1 1 1 0 0 0 0 0 0 0 0 0 0 0 0 0 0 0 1 1 1 1 1 1 1 1 1 1\n",
      " 1 1 1 1 1 1 1 1 1 0 0 0 0 0 0 0 0 0 0 0 0 0 1 1 1 1 0 0 1 1 1 1 0 0 0 0 0\n",
      " 0 0 0 0 0 0 0 0 0 0 1 1 1 0 0 0 0 1 1 1 1 1 1 1 1 0 1 1 1 1 1 1 1 0 0 0 0\n",
      " 0 0 0 0 0 0]\n",
      "['electrode_data', 'epoch_indices', 'epoch_names', 'ilae', 'pid', 'soz']\n",
      "[0 0 0 0 0 0 0 0 0 0 0 0 0 0 0 0 0 0 0 0 0 0 0 0 0 0 0 0 0 0 0 0 0 0 0 0 0\n",
      " 0 0 0 0 0 0 1 1 1 1 1 1 0 0 0 0 0 0 0 0 0 0 0 0 0 0 0 0 0 0 0 0 0 0 0 0 0\n",
      " 0 0 0 0 0 0 0 0 0 0 0 0 0 0 0 0 0 0 0 0 0 0 0 0 1 1 0 0 0 0 0 0 0 0 0 0 0\n",
      " 0 0 0 0 0 0 0 0 0 0 0 0 0 0 0 0 0 0 0 0 0 0 0 0 0 0 0 0 0 0 0 0 0 0 0 0 0\n",
      " 0 0 0 0 0 0 0 0 0 0 0 0 0 0 0 0 0 0 0 0 0 0 0 0 0 0 0 0 0 0 0 0 0 0 0 0 0\n",
      " 0 0 0 0 0 0 0 0 0 0 0 0 0 0 0 0 0 0 0 0 0 0 0 0 0 0 0 0 0 0 0 0 0 0 0 0 0\n",
      " 0 0 0 0 0 0 0 0 0 0 0 0]\n",
      "['electrode_data', 'epoch_indices', 'epoch_names', 'ilae', 'pid', 'soz']\n",
      "[0 0 0 0 0 0 0 0 0 0 1 0 0 0 0 0 0 0 0 0 0 0 0 0 0 0 0 0 0 0 0 0 0 1 1 0 0\n",
      " 0 0 0 0 0 0 0 0 0 0 0 0 0 0 0 0 0 0 0 0 0 0 0 0 0 0 0 0 0 0 0 0 0 0 0 0 0\n",
      " 0 0 0 0 0 0 0 0 0 0 0 0 0 0 0 0 0 0 0]\n",
      "['electrode_data', 'epoch_indices', 'epoch_names', 'ilae', 'pid', 'soz']\n",
      "[1 1 1 0 0 0 0 0 0 0 0 0 1 1 1 1 1 0 0 1 1 1 1 1 1 1 1 0 0 0 0 1 1 1 1 1 1\n",
      " 1 0 0 0 0 0 0 0 0 0 0 0 0 0 0 0 0 0 0 0 0 0 0 0 0 0 0 0 0 0 0 0 0 0 0 0 0\n",
      " 0 0 0 0 0 0 0 0 0 0 0 0 0 0 0 0 0 0 0 0 0 0 0 0 0 0 0 0 0 0 0 0 0 0 0 0 0\n",
      " 0 0 0 0 0 0 0 0 0 0 0 0 0 0 0 0 0 0 0 0 0 0 0 0]\n",
      "['electrode_data', 'epoch_indices', 'epoch_names', 'ilae', 'pid', 'soz']\n",
      "[0 0 0 0 0 0 0 0 0 0 0 0 0 0 0 0 0 0 0 0 0 0 0 0 0 0 0 0 0 0 0 0 0 0 0 0 0\n",
      " 0 0 0 0 0 0 0 0 0 0 0 0 0 0 0 0 0 0 0 0 0 0 0 0 0 0 0 0 0 0 0 0 0 0 0 0 0\n",
      " 0 0 0 0 0 0 0 0 0 1 1 1 1 1 1 0 0 0 0 0 0 0 0 0 0 0 0 0 0 0 0 0 0 0 0 0 0\n",
      " 0 0 0 0 0 0 0 0 0 0 0 0 0 0 0 0 0 0 0 0 0 0 0 0 0 0 0 0 0 0 0 0 0 0 0 0 0]\n",
      "['electrode_data', 'epoch_indices', 'epoch_names', 'ilae', 'pid', 'soz']\n",
      "[0 0 0 0 1 1 1 1 1 0 0 0 0 0 0 0 0 0 0 0 0 0 0 0 0 0 0 0 0 0 0 0 0 0 0 0 0\n",
      " 0 0 0 0 0 0 0 0 0 0 0 0 0 0 0 0 0 0 0 0 0 0 0 0 1 1 1 1 1 1 1 1 1 1 1 1 1\n",
      " 1 1 1 0 0 1 1 1 1 1 1 0 0 0 0 0 1 1 1 1 1 1 1]\n",
      "['electrode_data', 'epoch_indices', 'epoch_names', 'ilae', 'pid', 'soz']\n",
      "[0 0 0 0 0 0 0 0 0 0 0 0 0 0 0 0 0 0 0 0 0 0 0 0 0 0 0 0 0 0 0 0 0 0 0 0 0\n",
      " 0 0 0 0 0 0 0 0 0 0 0 0 0 0 0 0 0 0 0 0 0 0 0 0 0 0 0 0 0 0 0 0 0 0 0 0 0\n",
      " 0 0 0 0 0 0 0 0 0 0 0 0 0 0 0 0 0 0 0 0 0 0 0 0 0 0 0 0 0 0 0 0 0 0 0 0 0\n",
      " 0 0 1 1 1 1 1 1 0 0 0 0 0 0 0 0]\n",
      "['electrode_data', 'epoch_indices', 'epoch_names', 'ilae', 'pid', 'soz']\n",
      "[0 0 0 0 0 0 0 0 0 0 0 0 0 0 0 0 0 0 0 0 0 0 0 0 0 0 0 0 0 0 0 0 0 0 0 0 0\n",
      " 0 0 0 0 0 0 0 0 0 0 0 0 0 0 0 0 0 0 0 0 0 0 0 1 1 1 1 1 1 1 1 1 1 1 0 0 0\n",
      " 0 0 0 0 0 0 0 0 0 0 0 0 0 0 0 0 0 0 0 0 0 0 0 0 0 0 0 0 0 0 0 0 0 0 0 0 0\n",
      " 0 0 0 0 0 0 0 0 0 0 0]\n",
      "['electrode_data', 'epoch_indices', 'epoch_names', 'ilae', 'pid', 'soz']\n",
      "[0 0 0 0 0 0 0 0 0 1 1 1 1 1 1 0 0 0 0 0 0 0 0 0 0 0 0 0 0 0 0 0 0 0 0 0 0\n",
      " 0 0 0 0 0 0 0 0 0 0 0 0 0 0 0 0 0 0 0 0 0 0 0 0 0 0 0 0 0 0 0 0 0 0 0 0 0\n",
      " 0 0 0 0 0 0 0 0 1 0 0 0 0 0 0 0 0 0 0 0]\n",
      "['electrode_data', 'epoch_indices', 'epoch_names', 'ilae', 'pid', 'soz']\n",
      "[0 0 0 0 0 0 0 0 0 0 0 0 0 0 0 0 0 0 1 1 1 1 1 0 0 0 0 0 0 0 0 0 0 0 0 0 0\n",
      " 0 0 0 0 0 0 0 0 0 0 0 0 0 0 0 0 0 0 0 0 0 0 0 0 0 0 0 0 0 0 0 0 0 0 0 0 0\n",
      " 0 0 0 0 0 1 1 1 1 1 1 0 0 0 0 0 0 0 0 0 0 0 0 0 0 0 0 0 0 0 0 0 0 0 0 0 0\n",
      " 0 0 0 0 0 0 0 0 0 0]\n",
      "['electrode_data', 'epoch_indices', 'epoch_names', 'ilae', 'pid', 'soz']\n",
      "[0 0 0 0 0 0 0 0 0 0 0 0 0 0 0 0 0 0 0 0 0 0 0 0 0 0 0 0 0 0 0 0 0 0 0 0 0\n",
      " 0 0 0 0 0 0 0 1 1 1 1 1 1 1 1 0 0 0 0 0 0 0 1 1 1 1 0 0 1 1 1 1 1 1 1 1 1\n",
      " 0 0 0 0 0 0 0 0 0 0 0 0 0 0 0 0 0 0 0 0 0 0 0 0 0 0 0 0 0 0 0 0 0 0 0 0 0\n",
      " 0 0 0 0 0 0 0 0 0 0 0 1 1 1 0 0 0 0 0 0 0 0 0 0 0 0 0 0 0 0 0 0]\n"
     ]
    },
    {
     "ename": "KeyError",
     "evalue": "'Unable to synchronously open object (component not found)'",
     "output_type": "error",
     "traceback": [
      "\u001b[31m---------------------------------------------------------------------------\u001b[39m",
      "\u001b[31mKeyError\u001b[39m                                  Traceback (most recent call last)",
      "\u001b[36mCell\u001b[39m\u001b[36m \u001b[39m\u001b[32mIn[8]\u001b[39m\u001b[32m, line 9\u001b[39m\n\u001b[32m      7\u001b[39m \u001b[38;5;66;03m# Open the HDF5 file\u001b[39;00m\n\u001b[32m      8\u001b[39m \u001b[38;5;28;01mwith\u001b[39;00m h5py.File(in_path, \u001b[33m'\u001b[39m\u001b[33mr\u001b[39m\u001b[33m'\u001b[39m) \u001b[38;5;28;01mas\u001b[39;00m f:\n\u001b[32m----> \u001b[39m\u001b[32m9\u001b[39m     keys = \u001b[38;5;28mlist\u001b[39m(\u001b[43mf\u001b[49m\u001b[43m[\u001b[49m\u001b[33;43m'\u001b[39;49m\u001b[33;43mmetadata/patient_info\u001b[39;49m\u001b[33;43m'\u001b[39;49m\u001b[43m]\u001b[49m.keys())\n\u001b[32m     10\u001b[39m     soz = f[\u001b[33m'\u001b[39m\u001b[33mmetadata/patient_info/soz\u001b[39m\u001b[33m'\u001b[39m][()]\n\u001b[32m     11\u001b[39m     \u001b[38;5;28;01mif\u001b[39;00m \u001b[38;5;28msum\u001b[39m(soz) == \u001b[32m0\u001b[39m:\n",
      "\u001b[36mFile \u001b[39m\u001b[32mh5py/_objects.pyx:54\u001b[39m, in \u001b[36mh5py._objects.with_phil.wrapper\u001b[39m\u001b[34m()\u001b[39m\n",
      "\u001b[36mFile \u001b[39m\u001b[32mh5py/_objects.pyx:55\u001b[39m, in \u001b[36mh5py._objects.with_phil.wrapper\u001b[39m\u001b[34m()\u001b[39m\n",
      "\u001b[36mFile \u001b[39m\u001b[32m~/anaconda3/envs/networks/lib/python3.12/site-packages/h5py/_hl/group.py:360\u001b[39m, in \u001b[36mGroup.__getitem__\u001b[39m\u001b[34m(self, name)\u001b[39m\n\u001b[32m    358\u001b[39m         \u001b[38;5;28;01mraise\u001b[39;00m \u001b[38;5;167;01mValueError\u001b[39;00m(\u001b[33m\"\u001b[39m\u001b[33mInvalid HDF5 object reference\u001b[39m\u001b[33m\"\u001b[39m)\n\u001b[32m    359\u001b[39m \u001b[38;5;28;01melif\u001b[39;00m \u001b[38;5;28misinstance\u001b[39m(name, (\u001b[38;5;28mbytes\u001b[39m, \u001b[38;5;28mstr\u001b[39m)):\n\u001b[32m--> \u001b[39m\u001b[32m360\u001b[39m     oid = \u001b[43mh5o\u001b[49m\u001b[43m.\u001b[49m\u001b[43mopen\u001b[49m\u001b[43m(\u001b[49m\u001b[38;5;28;43mself\u001b[39;49m\u001b[43m.\u001b[49m\u001b[43mid\u001b[49m\u001b[43m,\u001b[49m\u001b[43m \u001b[49m\u001b[38;5;28;43mself\u001b[39;49m\u001b[43m.\u001b[49m\u001b[43m_e\u001b[49m\u001b[43m(\u001b[49m\u001b[43mname\u001b[49m\u001b[43m)\u001b[49m\u001b[43m,\u001b[49m\u001b[43m \u001b[49m\u001b[43mlapl\u001b[49m\u001b[43m=\u001b[49m\u001b[38;5;28;43mself\u001b[39;49m\u001b[43m.\u001b[49m\u001b[43m_lapl\u001b[49m\u001b[43m)\u001b[49m\n\u001b[32m    361\u001b[39m \u001b[38;5;28;01melse\u001b[39;00m:\n\u001b[32m    362\u001b[39m     \u001b[38;5;28;01mraise\u001b[39;00m \u001b[38;5;167;01mTypeError\u001b[39;00m(\u001b[33m\"\u001b[39m\u001b[33mAccessing a group is done with bytes or str, \u001b[39m\u001b[33m\"\u001b[39m\n\u001b[32m    363\u001b[39m                     \u001b[33m\"\u001b[39m\u001b[33mnot \u001b[39m\u001b[38;5;132;01m{}\u001b[39;00m\u001b[33m\"\u001b[39m.format(\u001b[38;5;28mtype\u001b[39m(name)))\n",
      "\u001b[36mFile \u001b[39m\u001b[32mh5py/_objects.pyx:54\u001b[39m, in \u001b[36mh5py._objects.with_phil.wrapper\u001b[39m\u001b[34m()\u001b[39m\n",
      "\u001b[36mFile \u001b[39m\u001b[32mh5py/_objects.pyx:55\u001b[39m, in \u001b[36mh5py._objects.with_phil.wrapper\u001b[39m\u001b[34m()\u001b[39m\n",
      "\u001b[36mFile \u001b[39m\u001b[32mh5py/h5o.pyx:257\u001b[39m, in \u001b[36mh5py.h5o.open\u001b[39m\u001b[34m()\u001b[39m\n",
      "\u001b[31mKeyError\u001b[39m: 'Unable to synchronously open object (component not found)'"
     ]
    }
   ],
   "source": [
    "path = \"/media/dan/Data/outputs/ubiquitous-spork/pyspi_combined_patient_hdf5s\"\n",
    "\n",
    "for patient in list(sorted(os.listdir(path))):\n",
    "    if not patient.endswith('.h5'):\n",
    "        continue\n",
    "    in_path = os.path.join(path, patient)\n",
    "    # Open the HDF5 file\n",
    "    with h5py.File(in_path, 'r') as f:\n",
    "        keys = list(f['metadata/patient_info'].keys())\n",
    "        soz = f['metadata/patient_info/soz'][()]\n",
    "        if sum(soz) == 0:\n",
    "            continue\n",
    "        print(keys)\n",
    "        print(soz)\n",
    "\n"
   ]
  },
  {
   "cell_type": "code",
   "execution_count": null,
   "metadata": {},
   "outputs": [],
   "source": []
  }
 ],
 "metadata": {
  "kernelspec": {
   "display_name": "networks",
   "language": "python",
   "name": "python3"
  },
  "language_info": {
   "codemirror_mode": {
    "name": "ipython",
    "version": 3
   },
   "file_extension": ".py",
   "mimetype": "text/x-python",
   "name": "python",
   "nbconvert_exporter": "python",
   "pygments_lexer": "ipython3",
   "version": "3.12.9"
  }
 },
 "nbformat": 4,
 "nbformat_minor": 2
}
