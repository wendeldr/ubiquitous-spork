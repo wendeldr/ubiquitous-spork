{
 "cells": [
  {
   "cell_type": "code",
   "execution_count": 9,
   "metadata": {},
   "outputs": [
    {
     "ename": "KeyboardInterrupt",
     "evalue": "",
     "output_type": "error",
     "traceback": [
      "\u001b[0;31m---------------------------------------------------------------------------\u001b[0m",
      "\u001b[0;31mKeyboardInterrupt\u001b[0m                         Traceback (most recent call last)",
      "Cell \u001b[0;32mIn[9], line 31\u001b[0m\n\u001b[1;32m     29\u001b[0m \u001b[38;5;66;03m# Load both arrays\u001b[39;00m\n\u001b[1;32m     30\u001b[0m a_array \u001b[38;5;241m=\u001b[39m np\u001b[38;5;241m.\u001b[39mload(file_a_path)\n\u001b[0;32m---> 31\u001b[0m b_array \u001b[38;5;241m=\u001b[39m \u001b[43mnp\u001b[49m\u001b[38;5;241;43m.\u001b[39;49m\u001b[43mload\u001b[49m\u001b[43m(\u001b[49m\u001b[43mfile_b_path\u001b[49m\u001b[43m)\u001b[49m\n\u001b[1;32m     33\u001b[0m \u001b[38;5;66;03m# Replace NaNs with 0\u001b[39;00m\n\u001b[1;32m     34\u001b[0m a_array \u001b[38;5;241m=\u001b[39m np\u001b[38;5;241m.\u001b[39mnan_to_num(a_array, nan\u001b[38;5;241m=\u001b[39m\u001b[38;5;241m0\u001b[39m)\n",
      "File \u001b[0;32m~/miniconda3/envs/pyspicalc/lib/python3.12/site-packages/numpy/lib/_npyio_impl.py:484\u001b[0m, in \u001b[0;36mload\u001b[0;34m(file, mmap_mode, allow_pickle, fix_imports, encoding, max_header_size)\u001b[0m\n\u001b[1;32m    481\u001b[0m         \u001b[38;5;28;01mreturn\u001b[39;00m \u001b[38;5;28mformat\u001b[39m\u001b[38;5;241m.\u001b[39mopen_memmap(file, mode\u001b[38;5;241m=\u001b[39mmmap_mode,\n\u001b[1;32m    482\u001b[0m                                   max_header_size\u001b[38;5;241m=\u001b[39mmax_header_size)\n\u001b[1;32m    483\u001b[0m     \u001b[38;5;28;01melse\u001b[39;00m:\n\u001b[0;32m--> 484\u001b[0m         \u001b[38;5;28;01mreturn\u001b[39;00m \u001b[38;5;28;43mformat\u001b[39;49m\u001b[38;5;241;43m.\u001b[39;49m\u001b[43mread_array\u001b[49m\u001b[43m(\u001b[49m\u001b[43mfid\u001b[49m\u001b[43m,\u001b[49m\u001b[43m \u001b[49m\u001b[43mallow_pickle\u001b[49m\u001b[38;5;241;43m=\u001b[39;49m\u001b[43mallow_pickle\u001b[49m\u001b[43m,\u001b[49m\n\u001b[1;32m    485\u001b[0m \u001b[43m                                 \u001b[49m\u001b[43mpickle_kwargs\u001b[49m\u001b[38;5;241;43m=\u001b[39;49m\u001b[43mpickle_kwargs\u001b[49m\u001b[43m,\u001b[49m\n\u001b[1;32m    486\u001b[0m \u001b[43m                                 \u001b[49m\u001b[43mmax_header_size\u001b[49m\u001b[38;5;241;43m=\u001b[39;49m\u001b[43mmax_header_size\u001b[49m\u001b[43m)\u001b[49m\n\u001b[1;32m    487\u001b[0m \u001b[38;5;28;01melse\u001b[39;00m:\n\u001b[1;32m    488\u001b[0m     \u001b[38;5;66;03m# Try a pickle\u001b[39;00m\n\u001b[1;32m    489\u001b[0m     \u001b[38;5;28;01mif\u001b[39;00m \u001b[38;5;129;01mnot\u001b[39;00m allow_pickle:\n",
      "File \u001b[0;32m~/miniconda3/envs/pyspicalc/lib/python3.12/site-packages/numpy/lib/format.py:834\u001b[0m, in \u001b[0;36mread_array\u001b[0;34m(fp, allow_pickle, pickle_kwargs, max_header_size)\u001b[0m\n\u001b[1;32m    831\u001b[0m \u001b[38;5;28;01melse\u001b[39;00m:\n\u001b[1;32m    832\u001b[0m     \u001b[38;5;28;01mif\u001b[39;00m isfileobj(fp):\n\u001b[1;32m    833\u001b[0m         \u001b[38;5;66;03m# We can use the fast fromfile() function.\u001b[39;00m\n\u001b[0;32m--> 834\u001b[0m         array \u001b[38;5;241m=\u001b[39m \u001b[43mnumpy\u001b[49m\u001b[38;5;241;43m.\u001b[39;49m\u001b[43mfromfile\u001b[49m\u001b[43m(\u001b[49m\u001b[43mfp\u001b[49m\u001b[43m,\u001b[49m\u001b[43m \u001b[49m\u001b[43mdtype\u001b[49m\u001b[38;5;241;43m=\u001b[39;49m\u001b[43mdtype\u001b[49m\u001b[43m,\u001b[49m\u001b[43m \u001b[49m\u001b[43mcount\u001b[49m\u001b[38;5;241;43m=\u001b[39;49m\u001b[43mcount\u001b[49m\u001b[43m)\u001b[49m\n\u001b[1;32m    835\u001b[0m     \u001b[38;5;28;01melse\u001b[39;00m:\n\u001b[1;32m    836\u001b[0m         \u001b[38;5;66;03m# This is not a real file. We have to read it the\u001b[39;00m\n\u001b[1;32m    837\u001b[0m         \u001b[38;5;66;03m# memory-intensive way.\u001b[39;00m\n\u001b[0;32m   (...)\u001b[0m\n\u001b[1;32m    845\u001b[0m         \u001b[38;5;66;03m# not correctly instantiate zero-width string dtypes; see\u001b[39;00m\n\u001b[1;32m    846\u001b[0m         \u001b[38;5;66;03m# https://github.com/numpy/numpy/pull/6430\u001b[39;00m\n\u001b[1;32m    847\u001b[0m         array \u001b[38;5;241m=\u001b[39m numpy\u001b[38;5;241m.\u001b[39mndarray(count, dtype\u001b[38;5;241m=\u001b[39mdtype)\n",
      "\u001b[0;31mKeyboardInterrupt\u001b[0m: "
     ]
    }
   ],
   "source": [
    "import os\n",
    "import numpy as np\n",
    "\n",
    "# Define the two base directories\n",
    "a_dir = \"/media/dan/Data2/calculations/connectivity/additional_calcs/thresholded_mats\"\n",
    "b_dir = \"/media/dan/Data2/calculations/connectivity/additional_calcs/julia_thresholded_mats\"\n",
    "\n",
    "# Lists to track mismatches and missing files\n",
    "missing_in_b = []\n",
    "diff_files = []\n",
    "checked_files = []\n",
    "\n",
    "# Walk through all subdirectories/files in a_dir\n",
    "for root, dirs, files in os.walk(a_dir):\n",
    "    for file in files:\n",
    "        checked_files.append(file)\n",
    "        if file.endswith('.npy'):\n",
    "            # Get full path for the file in a_dir\n",
    "            file_a_path = os.path.join(root, file)\n",
    "            # Determine its relative path from a_dir\n",
    "            rel_path = os.path.relpath(file_a_path, a_dir)\n",
    "            # Build the corresponding file path in b_dir\n",
    "            file_b_path = os.path.join(b_dir, rel_path)\n",
    "            # Check if the corresponding file exists in b\n",
    "            if not os.path.exists(file_b_path):\n",
    "                missing_in_b.append(rel_path)\n",
    "                continue\n",
    "\n",
    "            # Load both arrays\n",
    "            a_array = np.load(file_a_path)\n",
    "            b_array = np.load(file_b_path)\n",
    "\n",
    "            # Replace NaNs with 0\n",
    "            a_array = np.nan_to_num(a_array, nan=0)\n",
    "            b_array = np.nan_to_num(b_array, nan=0)\n",
    "\n",
    "            # Compare arrays\n",
    "            if not np.array_equal(a_array, b_array):\n",
    "                diff_files.append(rel_path)\n",
    "            \n"
   ]
  },
  {
   "cell_type": "code",
   "execution_count": 10,
   "metadata": {},
   "outputs": [
    {
     "name": "stdout",
     "output_type": "stream",
     "text": [
      "All files from a have corresponding files in b.\n",
      "\n",
      "All corresponding files are identical after replacing NaNs with 0.\n"
     ]
    }
   ],
   "source": [
    "\n",
    "# Print the results\n",
    "if missing_in_b:\n",
    "    print(\"Files in a but not in b:\")\n",
    "    print(len(missing_in_b))\n",
    "else:\n",
    "    print(\"All files from a have corresponding files in b.\")\n",
    "\n",
    "if diff_files:\n",
    "    print(\"\\nFiles that differ:\")\n",
    "    print(len(diff_files))\n",
    "else:\n",
    "    print(\"\\nAll corresponding files are identical after replacing NaNs with 0.\")\n",
    "\n",
    "print(len(checked_files))"
   ]
  }
 ],
 "metadata": {
  "kernelspec": {
   "display_name": "pyspicalc",
   "language": "python",
   "name": "python3"
  },
  "language_info": {
   "codemirror_mode": {
    "name": "ipython",
    "version": 3
   },
   "file_extension": ".py",
   "mimetype": "text/x-python",
   "name": "python",
   "nbconvert_exporter": "python",
   "pygments_lexer": "ipython3",
   "version": "3.12.2"
  }
 },
 "nbformat": 4,
 "nbformat_minor": 2
}
