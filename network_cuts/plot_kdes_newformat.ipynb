{
 "cells": [
  {
   "cell_type": "code",
   "execution_count": 1,
   "metadata": {},
   "outputs": [],
   "source": [
    "import h5py\n",
    "import seaborn as sns\n",
    "import matplotlib.pyplot as plt\n",
    "import numpy as np\n",
    "import pandas as pd\n",
    "from tqdm.notebook import tqdm\n",
    "import os\n",
    "import gc\n"
   ]
  },
  {
   "cell_type": "code",
   "execution_count": 21,
   "metadata": {},
   "outputs": [
    {
     "data": {
      "text/plain": [
       "(array([0, 0, 0, 0, 1, 1, 1, 2, 2, 3]), array([1, 2, 3, 4, 2, 3, 4, 3, 4, 4]))"
      ]
     },
     "execution_count": 21,
     "metadata": {},
     "output_type": "execute_result"
    }
   ],
   "source": [
    "upper_tri_indices = np.triu_indices(5, k=1)\n",
    "upper_tri_indices"
   ]
  },
  {
   "cell_type": "code",
   "execution_count": 22,
   "metadata": {},
   "outputs": [
    {
     "name": "stdout",
     "output_type": "stream",
     "text": [
      "1 2\n",
      "1 3\n",
      "1 4\n",
      "1 5\n",
      "2 3\n",
      "2 4\n",
      "2 5\n",
      "3 4\n",
      "3 5\n",
      "4 5\n"
     ]
    }
   ],
   "source": [
    "for x,y in zip(upper_tri_indices[0], upper_tri_indices[1]):\n",
    "    print(x+1,y+1)\n"
   ]
  },
  {
   "cell_type": "code",
   "execution_count": 2,
   "metadata": {},
   "outputs": [],
   "source": [
    "# new format check\n",
    "import dill as pickle\n",
    "first_epoch = \"/media/dan/Data/data/connectivity/six_run/011_epoch_0000000000-0000001024/calc.pkl\"\n",
    "with open(first_epoch, 'rb') as f:\n",
    "    tmp = pickle.load(f)\n",
    "    tmp = tmp['pdist_euclidean'].values\n"
   ]
  },
  {
   "cell_type": "code",
   "execution_count": 3,
   "metadata": {},
   "outputs": [
    {
     "data": {
      "text/plain": [
       "array([[        nan, 26.59590548, 36.04899322, 31.85905297, 31.71056188],\n",
       "       [26.59590548,         nan, 34.50576593, 34.14190158, 35.79508584],\n",
       "       [36.04899322, 34.50576593,         nan, 21.13273723, 29.81815887],\n",
       "       [31.85905297, 34.14190158, 21.13273723,         nan, 16.61480794],\n",
       "       [31.71056188, 35.79508584, 29.81815887, 16.61480794,         nan]])"
      ]
     },
     "execution_count": 3,
     "metadata": {},
     "output_type": "execute_result"
    }
   ],
   "source": [
    "tmp[:5, :5]"
   ]
  },
  {
   "cell_type": "code",
   "execution_count": 18,
   "metadata": {},
   "outputs": [],
   "source": [
    "with h5py.File(\"/media/dan/Data/outputs/ubiquitous-spork/pyspi_combined_patient_hdf5s/011_20250414.h5\", 'r') as f:\n",
    "    test = f['metadata/adjacency_matrices']['pdist_euclidean'][()]\n",
    "    soz = f['metadata/patient_info/soz'][()]\n",
    "    ilae = f['metadata/patient_info/ilae'][()]"
   ]
  },
  {
   "cell_type": "code",
   "execution_count": 19,
   "metadata": {},
   "outputs": [
    {
     "data": {
      "text/plain": [
       "1"
      ]
     },
     "execution_count": 19,
     "metadata": {},
     "output_type": "execute_result"
    }
   ],
   "source": [
    "ilae"
   ]
  },
  {
   "cell_type": "code",
   "execution_count": 5,
   "metadata": {},
   "outputs": [
    {
     "data": {
      "text/plain": [
       "array([[        nan, 26.59590548, 36.04899322, 31.85905297, 31.71056188],\n",
       "       [26.59590548,         nan, 34.50576593, 34.14190158, 35.79508584],\n",
       "       [36.04899322, 34.50576593,         nan, 21.13273723, 29.81815887],\n",
       "       [31.85905297, 34.14190158, 21.13273723,         nan, 16.61480794],\n",
       "       [31.71056188, 35.79508584, 29.81815887, 16.61480794,         nan]])"
      ]
     },
     "execution_count": 5,
     "metadata": {},
     "output_type": "execute_result"
    }
   ],
   "source": [
    "test[:5, :5, 0]"
   ]
  },
  {
   "cell_type": "code",
   "execution_count": 6,
   "metadata": {},
   "outputs": [
    {
     "data": {
      "text/plain": [
       "array([0, 0, 0, 0, 0, 0, 0, 0, 0, 0, 0, 0, 0, 0, 1, 1, 0, 0, 0, 0, 0, 0,\n",
       "       0, 1, 1, 0, 0, 0, 0, 0, 0, 0, 0, 0, 0, 0, 0, 0, 0, 0, 0, 0, 0, 0,\n",
       "       0, 0, 0, 0, 0, 0, 0, 0, 0, 0, 0, 0, 0, 0, 0, 0, 0, 0, 0, 0, 0, 0,\n",
       "       0, 0, 0, 0, 0, 0, 0, 0, 0, 0, 0, 0, 0, 0, 0], dtype=uint8)"
      ]
     },
     "execution_count": 6,
     "metadata": {},
     "output_type": "execute_result"
    }
   ],
   "source": [
    "soz"
   ]
  },
  {
   "cell_type": "code",
   "execution_count": 7,
   "metadata": {},
   "outputs": [],
   "source": [
    "groups = ['non_non', 'non_soz', 'soz_non', 'soz_soz']"
   ]
  },
  {
   "cell_type": "code",
   "execution_count": 8,
   "metadata": {},
   "outputs": [],
   "source": [
    "def create_legend_plot(output_path=None, orientation='horizontal'):\n",
    "    \"\"\"\n",
    "    Create a legend plot with specified orientation using patches.\n",
    "    \n",
    "    Parameters:\n",
    "    -----------\n",
    "    output_path : str, optional\n",
    "        Path to save the legend plot. If None, the plot is displayed.\n",
    "    orientation : str, optional\n",
    "        'horizontal' or 'vertical' for the legend layout.\n",
    "    \"\"\"\n",
    "    # Set figure size based on orientation\n",
    "    if orientation == 'horizontal':\n",
    "        plt.figure(figsize=(3, 0.5))\n",
    "        ncol = 3\n",
    "    else:  # vertical\n",
    "        plt.figure(figsize=(1, 1.5))\n",
    "        ncol = 1\n",
    "    \n",
    "    # Create a figure and axis\n",
    "    ax = plt.gca()\n",
    "    \n",
    "    # Create patches for the legend\n",
    "    from matplotlib.patches import Patch\n",
    "    legend_elements = [\n",
    "        Patch(facecolor='black', label='Non-EZ', alpha=0.6),\n",
    "        Patch(facecolor='#D41159', label='EZ', alpha=0.6),\n",
    "        Patch(facecolor='#1A85FF', label='Non->EZ', alpha=0.6)\n",
    "    ]\n",
    "    \n",
    "    # Create legend with patches\n",
    "    ax.legend(handles=legend_elements,\n",
    "             loc='center',\n",
    "             ncol=ncol,\n",
    "             frameon=False)\n",
    "    \n",
    "    # Remove axes and background\n",
    "    plt.axis('off')\n",
    "    \n",
    "    # Adjust layout to show only the legend\n",
    "    plt.tight_layout()\n",
    "    \n",
    "    # Save the plot if output path is provided\n",
    "    if output_path:\n",
    "        # Add orientation to filename if not already present\n",
    "        if not output_path.endswith('.png'):\n",
    "            output_path += '.png'\n",
    "        base_path = output_path.rsplit('.', 1)[0]\n",
    "        output_path = f\"{base_path}_{orientation}.png\"\n",
    "        \n",
    "        plt.savefig(output_path, dpi=300, bbox_inches='tight', pad_inches=0)\n",
    "        plt.close()\n",
    "    else:\n",
    "        plt.show()\n",
    "\n",
    "\n",
    "create_legend_plot('/media/dan/Data/git/ubiquitous-spork/plots_for_seminar/legend.png', orientation='horizontal')\n",
    "create_legend_plot('/media/dan/Data/git/ubiquitous-spork/plots_for_seminar/legend.png', orientation='vertical')"
   ]
  },
  {
   "cell_type": "code",
   "execution_count": 9,
   "metadata": {},
   "outputs": [],
   "source": [
    "def combine_data(mix_data, non_data, soz_data):\n",
    "    # Create labels for each group\n",
    "    mix_labels = ['mix'] * len(mix_data)\n",
    "    non_labels = ['non'] * len(non_data)\n",
    "    soz_labels = ['soz'] * len(soz_data)\n",
    "    \n",
    "    # Combine all data and labels\n",
    "    all_data = np.concatenate([mix_data, non_data, soz_data])\n",
    "    all_labels = mix_labels + non_labels + soz_labels\n",
    "    \n",
    "    # Create DataFrame\n",
    "    df = pd.DataFrame({\n",
    "        'Measure Value': all_data,\n",
    "        'group': all_labels\n",
    "    })\n",
    "    df = df.replace([np.inf, -np.inf], np.nan).dropna()\n",
    "    return df\n",
    "\n",
    "# Example usage:\n",
    "# data = {'non_non': array1, 'non_soz': array2, 'soz_non': array3, 'soz_soz': array4}\n",
    "# df = combine_data(data)\n",
    "\n",
    "\n",
    "def extract_class_connections(adjacency_matrices, soz):\n",
    "    \"\"\"\n",
    "    Extract connections from upper triangle of adjacency matrices based on SOZ mask classes.\n",
    "    \n",
    "    Parameters:\n",
    "    -----------\n",
    "    adjacency_matrices : np.ndarray\n",
    "        Shape (n, n, time) array of adjacency matrices over time\n",
    "    soz : np.ndarray\n",
    "        Binary array indicating SOZ channels\n",
    "        \n",
    "    Returns:\n",
    "    --------\n",
    "    non_connections : np.ndarray\n",
    "        Flattened array of non-SOZ to non-SOZ connections over time\n",
    "    mix_connections : np.ndarray\n",
    "        Flattened array of mixed (SOZ to non-SOZ) connections over time\n",
    "    soz_connections : np.ndarray\n",
    "        Flattened array of SOZ to SOZ connections over time\n",
    "    \"\"\"\n",
    "    # Create mask (0: non-non, 1: mix, 2: soz-soz)\n",
    "    mask = soz.reshape(1, -1) + soz.reshape(-1, 1)\n",
    "    \n",
    "    # Get upper triangle indices\n",
    "    upper_tri_indices = np.triu_indices(mask.shape[0], k=1)\n",
    "    \n",
    "    # Get the mask values for upper triangle\n",
    "    mask_values = mask[upper_tri_indices]\n",
    "    \n",
    "    # Extract values over time for upper triangle\n",
    "    connections = adjacency_matrices[upper_tri_indices[0], upper_tri_indices[1], :]\n",
    "    \n",
    "    # Separate based on mask classes\n",
    "    non_connections = connections[mask_values == 0].flatten()\n",
    "    mix_connections = connections[mask_values == 1].flatten()\n",
    "    soz_connections = connections[mask_values == 2].flatten()\n",
    "    \n",
    "    return non_connections, mix_connections, soz_connections"
   ]
  },
  {
   "cell_type": "code",
   "execution_count": 12,
   "metadata": {},
   "outputs": [
    {
     "data": {
      "text/plain": [
       "(6903,)"
      ]
     },
     "execution_count": 12,
     "metadata": {},
     "output_type": "execute_result"
    }
   ],
   "source": [
    "upper_tri_indices = np.triu_indices(118, k=1)\n",
    "upper_tri_indices[0].shape"
   ]
  },
  {
   "cell_type": "code",
   "execution_count": 13,
   "metadata": {},
   "outputs": [
    {
     "data": {
      "text/plain": [
       "13924"
      ]
     },
     "execution_count": 13,
     "metadata": {},
     "output_type": "execute_result"
    }
   ],
   "source": [
    "118**2"
   ]
  },
  {
   "cell_type": "code",
   "execution_count": 14,
   "metadata": {},
   "outputs": [
    {
     "data": {
      "application/vnd.jupyter.widget-view+json": {
       "model_id": "be52470032f5465b9fdc7c8894578e9f",
       "version_major": 2,
       "version_minor": 0
      },
      "text/plain": [
       "  0%|          | 0/69 [00:00<?, ?it/s]"
      ]
     },
     "metadata": {},
     "output_type": "display_data"
    }
   ],
   "source": [
    "path = \"/media/dan/Data/outputs/ubiquitous-spork/pyspi_combined_patient_hdf5s\"\n",
    "\n",
    "full_metrics = []\n",
    "files_to_process = []\n",
    "for patient in list(sorted(os.listdir(path))):\n",
    "    if not patient.endswith('.h5'):\n",
    "        continue\n",
    "    in_path = os.path.join(path, patient)\n",
    "    # Open the HDF5 file\n",
    "    skip = False\n",
    "    with h5py.File(in_path, 'r') as f:\n",
    "        keys = list(f['metadata/adjacency_matrices'].keys())\n",
    "        soz = f['metadata/patient_info/soz'][()]\n",
    "        if sum(soz) == 0:\n",
    "            skip = True\n",
    "    if skip:\n",
    "        continue\n",
    "    files_to_process.append(in_path)\n",
    "    full_metrics.extend(keys)\n",
    "full_metrics = list(set(full_metrics))\n",
    "\n",
    "\n",
    "for metric in full_metrics:\n",
    "    soz_nums = np.array([])\n",
    "    mix_nums = np.array([])\n",
    "    non_nums = np.array([])\n",
    "    if metric != \"bary-sq_euclidean_max\":\n",
    "        continue\n",
    "\n",
    "    for in_path in tqdm(files_to_process):\n",
    "        if in_path != \"/media/dan/Data/outputs/ubiquitous-spork/pyspi_combined_patient_hdf5s/001_20250414.h5\":\n",
    "            continue\n",
    "        with h5py.File(in_path, 'r') as f:\n",
    "            data = f['metadata/adjacency_matrices'][metric][()]\n",
    "            soz = f['metadata/patient_info/soz'][()]\n",
    "        out = extract_class_connections(data, soz)\n",
    "        break\n",
    "        non_nums = np.concatenate([non_nums, out[0]])\n",
    "        mix_nums = np.concatenate([mix_nums, out[1]])\n",
    "        soz_nums = np.concatenate([soz_nums, out[2]])\n",
    "\n",
    "    # remove nans and infs\n",
    "    non_nums = non_nums[~np.isnan(non_nums)]\n",
    "    mix_nums = mix_nums[~np.isnan(mix_nums)]\n",
    "    soz_nums = soz_nums[~np.isnan(soz_nums)]\n",
    "    non_nums = non_nums[non_nums != np.inf]\n",
    "    mix_nums = mix_nums[mix_nums != np.inf]\n",
    "    soz_nums = soz_nums[soz_nums != np.inf]\n",
    "    break\n",
    "\n",
    "\n"
   ]
  },
  {
   "cell_type": "code",
   "execution_count": 17,
   "metadata": {},
   "outputs": [
    {
     "data": {
      "text/plain": [
       "(473193,)"
      ]
     },
     "execution_count": 17,
     "metadata": {},
     "output_type": "execute_result"
    }
   ],
   "source": [
    "out[1].shape"
   ]
  },
  {
   "cell_type": "code",
   "execution_count": null,
   "metadata": {},
   "outputs": [],
   "source": [
    "combined = combine_data(mix_data=mix_nums, non_data=non_nums, soz_data=soz_nums)\n",
    "# subset = combined.sample(10000)\n",
    "sns.kdeplot(data=combined, x=\"Measure Value\", hue=\"group\", common_grid=True, common_norm=False, cut=0,\n",
    "            palette={'non': 'black', 'soz': '#D41159', 'mix': '#1A85FF'}, fill=False, alpha=0.6, legend=False)\n",
    "plt.title(metric, fontsize=10)\n",
    "output_dir = \"/media/dan/Data/git/ubiquitous-spork/plots_for_seminar/mean_columns\"\n",
    "plt.savefig(os.path.join(output_dir, f\"{metric}.png\"), dpi=300)\n",
    "plt.close()"
   ]
  }
 ],
 "metadata": {
  "kernelspec": {
   "display_name": "networks",
   "language": "python",
   "name": "python3"
  },
  "language_info": {
   "codemirror_mode": {
    "name": "ipython",
    "version": 3
   },
   "file_extension": ".py",
   "mimetype": "text/x-python",
   "name": "python",
   "nbconvert_exporter": "python",
   "pygments_lexer": "ipython3",
   "version": "3.12.9"
  }
 },
 "nbformat": 4,
 "nbformat_minor": 2
}
