{
 "cells": [
  {
   "cell_type": "code",
   "execution_count": 1,
   "metadata": {},
   "outputs": [],
   "source": [
    "import os\n",
    "import matplotlib.pyplot as plt\n",
    "import scipy\n",
    "import numpy as np\n",
    "import networkx as nx"
   ]
  },
  {
   "cell_type": "code",
   "execution_count": 7,
   "metadata": {},
   "outputs": [
    {
     "name": "stderr",
     "output_type": "stream",
     "text": [
      " 67%|██████▋   | 48/72 [00:13<00:04,  5.19it/s]"
     ]
    },
    {
     "name": "stdout",
     "output_type": "stream",
     "text": [
      "/media/dan/Big/manuiscript_0001_hfo_rates/data/hfo_counts/037_hfocounts.pkl has no higherband_hfos_standardref\n",
      "/media/dan/Big/manuiscript_0001_hfo_rates/data/hfo_counts/038_hfocounts.pkl has no higherband_hfos_standardref\n"
     ]
    },
    {
     "name": "stderr",
     "output_type": "stream",
     "text": [
      " 71%|███████   | 51/72 [00:13<00:04,  4.26it/s]"
     ]
    },
    {
     "name": "stdout",
     "output_type": "stream",
     "text": [
      "/media/dan/Big/manuiscript_0001_hfo_rates/data/hfo_counts/041_hfocounts.pkl has no higherband_hfos_standardref\n"
     ]
    },
    {
     "name": "stderr",
     "output_type": "stream",
     "text": [
      "100%|██████████| 72/72 [00:20<00:00,  3.51it/s]\n"
     ]
    }
   ],
   "source": [
    "import pickle\n",
    "import glob\n",
    "import pandas as pd\n",
    "import numpy as np\n",
    "from tqdm import tqdm\n",
    "files = glob.glob(\"/media/dan/Big/manuiscript_0001_hfo_rates/data/hfo_counts/*.pkl\")\n",
    "\n",
    "lowdfs = []\n",
    "highdfs = []\n",
    "for file in tqdm(files):\n",
    "    with open(file, \"rb\") as f:\n",
    "        data = pickle.load(f)\n",
    "    try:\n",
    "        lowdfs.append(data['lowerband_hfos_standardref'].hfo_df)\n",
    "    except:\n",
    "        print(f\"{file} has no lowerband_hfos_standardref\")\n",
    "        continue\n",
    "    try:\n",
    "        highdfs.append(data['higherband_hfos_standardref'].hfo_df)\n",
    "    except:\n",
    "        print(f\"{file} has no higherband_hfos_standardref\")\n",
    "        continue\n",
    "\n",
    "lowdfs = pd.concat(lowdfs)\n",
    "highdfs = pd.concat(highdfs)"
   ]
  },
  {
   "cell_type": "code",
   "execution_count": null,
   "metadata": {},
   "outputs": [],
   "source": [
    "print(len(lowdfs))\n",
    "print(len(highdfs))"
   ]
  },
  {
   "cell_type": "code",
   "execution_count": 4,
   "metadata": {},
   "outputs": [
    {
     "data": {
      "text/plain": [
       "array(['pid', 'age_days_at_recording', 'age_years_at_recording',\n",
       "       'seizureFree', 'electrode', 'soz', 'electrode_hemisphere',\n",
       "       'white_matter', 'recording_length_min', 'aal', 'id_aal',\n",
       "       'aal_flat', 'id_aal_flat', 'aal_label', 'id_aal_label', 'hlevel_0',\n",
       "       'id_hlevel_0', 'aryaG1', 'id_aryaG1', 'aryaG2', 'id_aryaG2',\n",
       "       'aryaG3', 'id_aryaG3', 'electrodegroup', 'id_electrodegroup',\n",
       "       'Lb_hfo_count', 'log_Lb_hfo_count',\n",
       "       'zlog_Lb_hfo_count~wholepatient', 'zlog_Lb_hfo_count~aal',\n",
       "       'zlog_Lb_hfo_count~aal_flat', 'zlog_Lb_hfo_count~hlevel_0',\n",
       "       'zlog_Lb_hfo_count~aryaG1', 'zlog_Lb_hfo_count~aryaG2',\n",
       "       'zlog_Lb_hfo_count~aryaG3', 'Hb_hfo_count', 'log_Hb_hfo_count',\n",
       "       'zlog_Hb_hfo_count~wholepatient', 'zlog_Hb_hfo_count~aal',\n",
       "       'zlog_Hb_hfo_count~aal_flat', 'zlog_Hb_hfo_count~hlevel_0',\n",
       "       'zlog_Hb_hfo_count~aryaG1', 'zlog_Hb_hfo_count~aryaG2',\n",
       "       'zlog_Hb_hfo_count~aryaG3', 'full_hfo_count', 'log_full_hfo_count',\n",
       "       'zlog_full_hfo_count~wholepatient', 'zlog_full_hfo_count~aal',\n",
       "       'zlog_full_hfo_count~aal_flat', 'zlog_full_hfo_count~hlevel_0',\n",
       "       'zlog_full_hfo_count~aryaG1', 'zlog_full_hfo_count~aryaG2',\n",
       "       'zlog_full_hfo_count~aryaG3', 'Lb_hfo_ratepermin',\n",
       "       'Hb_hfo_ratepermin', 'full_hfo_ratepermin', 'x', 'y', 'z',\n",
       "       'aal_flat_nowmdesignation', 'electrodeA', 'electrodeB'],\n",
       "      dtype=object)"
      ]
     },
     "execution_count": 4,
     "metadata": {},
     "output_type": "execute_result"
    }
   ],
   "source": [
    "df = pd.read_csv(\"/media/dan/Big/manuiscript_0001_hfo_rates/data/hfo_results_patientnorm_df.csv\")\n",
    "df.columns.values"
   ]
  },
  {
   "cell_type": "code",
   "execution_count": 9,
   "metadata": {},
   "outputs": [
    {
     "name": "stdout",
     "output_type": "stream",
     "text": [
      "True\n",
      "False\n"
     ]
    }
   ],
   "source": [
    "z = df.groupby(['pid','electrodegroup',], group_keys=False)['Hb_hfo_ratepermin'].apply(lambda x: (x-x.mean())/x.std())\n",
    "\n",
    "# check if any are nan\n",
    "print(z.isna().any())\n",
    "\n",
    "# check if any are inf\n",
    "print(z.isin([np.inf, -np.inf]).any())\n",
    "\n",
    "\n"
   ]
  },
  {
   "cell_type": "code",
   "execution_count": 2,
   "metadata": {},
   "outputs": [],
   "source": [
    "path = \"/media/dan/Data2/calculations/connectivity/additional_calcs/mats\"\n",
    "folders = os.listdir(path)"
   ]
  },
  {
   "cell_type": "code",
   "execution_count": 1,
   "metadata": {},
   "outputs": [],
   "source": [
    "undirected_subfolders = {'bary-sq_euclidean_max': 'lowest',\n",
    "'bary-sq_euclidean_mean': 'lowest',\n",
    "'bary_euclidean_max': 'lowest',\n",
    "'ce_gaussian': 'highest',\n",
    "'cohmag_multitaper_mean_fs-1_fmin-0-000488_fmax-0-00195': 'lowest',\n",
    "'cohmag_multitaper_mean_fs-1_fmin-0-000488_fmax-0-0342': 'lowest',\n",
    "'cohmag_multitaper_mean_fs-1_fmin-0-000488_fmax-0-122': 'lowest',\n",
    "'cohmag_multitaper_mean_fs-1_fmin-0-00195_fmax-0-00391': 'lowest',\n",
    "'cohmag_multitaper_mean_fs-1_fmin-0-00391_fmax-0-00586': 'lowest',\n",
    "'cohmag_multitaper_mean_fs-1_fmin-0-00586_fmax-0-0146': 'lowest',\n",
    "'cohmag_multitaper_mean_fs-1_fmin-0-0146_fmax-0-0342': 'lowest',\n",
    "'cohmag_multitaper_mean_fs-1_fmin-0-0342_fmax-0-0732': 'lowest',\n",
    "'cohmag_multitaper_mean_fs-1_fmin-0-0342_fmax-0-122': 'lowest',\n",
    "'cohmag_multitaper_mean_fs-1_fmin-0-0732_fmax-0-122': 'lowest',\n",
    "'cohmag_multitaper_mean_fs-1_fmin-0_fmax-0-5': 'lowest',\n",
    "'cov-sq_EmpiricalCovariance': 'lowest',\n",
    "'cov-sq_GraphicalLassoCV': 'lowest',\n",
    "'cov-sq_LedoitWolf': 'lowest',\n",
    "'cov-sq_MinCovDet': 'lowest',\n",
    "'cov-sq_OAS': 'lowest',\n",
    "'cov-sq_ShrunkCovariance': 'lowest',\n",
    "'cov_EmpiricalCovariance': 'lowest',\n",
    "'cov_GraphicalLassoCV': 'lowest',\n",
    "'cov_LedoitWolf': 'lowest',\n",
    "'cov_MinCovDet': 'lowest',\n",
    "'cov_OAS': 'lowest',\n",
    "'cov_ShrunkCovariance': 'lowest',\n",
    "'dspli_multitaper_mean_fs-1_fmin-0-000488_fmax-0-00195': 'lowest',\n",
    "'dspli_multitaper_mean_fs-1_fmin-0-000488_fmax-0-0342': 'lowest',\n",
    "'dspli_multitaper_mean_fs-1_fmin-0-000488_fmax-0-122': 'lowest',\n",
    "'dspli_multitaper_mean_fs-1_fmin-0-00195_fmax-0-00391': 'lowest',\n",
    "'dspli_multitaper_mean_fs-1_fmin-0-00391_fmax-0-00586': 'lowest',\n",
    "'dspli_multitaper_mean_fs-1_fmin-0-00586_fmax-0-0146': 'lowest',\n",
    "'dspli_multitaper_mean_fs-1_fmin-0-0146_fmax-0-0342': 'lowest',\n",
    "'dspli_multitaper_mean_fs-1_fmin-0-0342_fmax-0-122': 'lowest',\n",
    "'dspli_multitaper_mean_fs-1_fmin-0-0732_fmax-0-122': 'lowest',\n",
    "'dspli_multitaper_mean_fs-1_fmin-0_fmax-0-5': 'lowest',\n",
    "'dswpli_multitaper_mean_fs-1_fmin-0-000488_fmax-0-00195': 'lowest',\n",
    "'dswpli_multitaper_mean_fs-1_fmin-0-000488_fmax-0-0342': 'lowest',\n",
    "'dswpli_multitaper_mean_fs-1_fmin-0-000488_fmax-0-122': 'lowest',\n",
    "'dswpli_multitaper_mean_fs-1_fmin-0-00195_fmax-0-00391': 'lowest',\n",
    "'dswpli_multitaper_mean_fs-1_fmin-0-00391_fmax-0-00586': 'lowest',\n",
    "'dswpli_multitaper_mean_fs-1_fmin-0-00586_fmax-0-0146': 'lowest',\n",
    "'dswpli_multitaper_mean_fs-1_fmin-0-0146_fmax-0-0342': 'lowest',\n",
    "'dswpli_multitaper_mean_fs-1_fmin-0-0342_fmax-0-122': 'lowest',\n",
    "'dswpli_multitaper_mean_fs-1_fmin-0-0732_fmax-0-122': 'lowest',\n",
    "'dswpli_multitaper_mean_fs-1_fmin-0_fmax-0-5': 'lowest',\n",
    "'mi_gaussian': 'lowest',\n",
    "'pdist_braycurtis': 'highest',\n",
    "'pdist_canberra': 'highest',\n",
    "'pdist_chebyshev': 'highest',\n",
    "'pdist_cityblock': 'highest',\n",
    "'pdist_cosine': 'highest',\n",
    "'pdist_euclidean': 'highest',\n",
    "'pec': 'lowest',\n",
    "'pec_log': 'lowest',\n",
    "'pec_orth_abs': 'lowest',\n",
    "'pec_orth_log': 'lowest',\n",
    "'pec_orth_log_abs': 'lowest',\n",
    "'dspli_multitaper_mean_fs-1_fmin-0-0342_fmax-0-0732': 'lowest',\n",
    "'dswpli_multitaper_mean_fs-1_fmin-0-0342_fmax-0-0732': 'lowest',\n",
    "'kendalltau-sq': 'lowest',\n",
    "'pec_orth': 'lowest',\n",
    "'ppc_multitaper_mean_fs-1_fmin-0-000488_fmax-0-00195': 'lowest',\n",
    "'prec_OAS': 'highest',\n",
    "'prec-sq_GraphicalLasso': 'lowest',\n",
    "'prec-sq_GraphicalLassoCV': 'lowest',\n",
    "'prec-sq_LedoitWolf': 'lowest',\n",
    "'prec-sq_OAS': 'lowest',\n",
    "'prec-sq_ShrunkCovariance': 'lowest',\n",
    "'prec_GraphicalLasso': 'highest',\n",
    "'prec_GraphicalLassoCV': 'highest',\n",
    "'prec_LedoitWolf': 'highest',\n",
    "'prec_ShrunkCovariance': 'highest',\n",
    "'spearmanr': 'lowest',\n",
    "'spearmanr-sq': 'lowest',\n",
    "'xcorr-sq_max_sig-False': 'lowest',\n",
    "'xcorr-sq_mean_sig-False': 'lowest',\n",
    "'xcorr_max_sig-False': 'lowest',\n",
    "'xcorr_mean_sig-False': 'lowest',\n",
    "'je_gaussian': 'highest',\n",
    "'ppc_multitaper_mean_fs-1_fmin-0-000488_fmax-0-0342': 'lowest',\n",
    "'ppc_multitaper_mean_fs-1_fmin-0-000488_fmax-0-122': 'lowest',\n",
    "'ppc_multitaper_mean_fs-1_fmin-0-00195_fmax-0-00391': 'lowest',\n",
    "'ppc_multitaper_mean_fs-1_fmin-0-00391_fmax-0-00586': 'lowest',\n",
    "'ppc_multitaper_mean_fs-1_fmin-0-00586_fmax-0-0146': 'lowest',\n",
    "'ppc_multitaper_mean_fs-1_fmin-0-0146_fmax-0-0342': 'lowest',\n",
    "'ppc_multitaper_mean_fs-1_fmin-0-0342_fmax-0-0732': 'lowest',\n",
    "'ppc_multitaper_mean_fs-1_fmin-0-0342_fmax-0-122': 'lowest',\n",
    "'ppc_multitaper_mean_fs-1_fmin-0-0732_fmax-0-122': 'lowest',\n",
    "'ppc_multitaper_mean_fs-1_fmin-0_fmax-0-5': 'lowest',\n",
    "}"
   ]
  },
  {
   "cell_type": "code",
   "execution_count": 98,
   "metadata": {},
   "outputs": [],
   "source": [
    "\n",
    "def find_disconnect_threshold(adj_matrix, removal_order=\"highest\"):\n",
    "    n = adj_matrix.shape[0]\n",
    "    # Use only the upper triangular portion (assuming symmetry)\n",
    "    adj = adj_matrix.copy()\n",
    "    adj[np.tril_indices(n, k=-1)] = np.nan\n",
    "\n",
    "    # Build the edge list from the upper triangle\n",
    "    edges = []\n",
    "    for i in range(n):\n",
    "        for j in range(i, n):\n",
    "            if not np.isnan(adj[i, j]):\n",
    "                edges.append((i, j, adj[i, j]))\n",
    "\n",
    "    # Sort edges by weight\n",
    "    reverse = True if removal_order == \"highest\" else False\n",
    "    sorted_edges = sorted(edges, key=lambda x: x[2], reverse=reverse)\n",
    "\n",
    "    # Binary search boundaries\n",
    "    low, high = 0, len(sorted_edges)\n",
    "    threshold_index = len(sorted_edges)  # default if graph never disconnects\n",
    "\n",
    "    # Helper: Union-Find structure\n",
    "    parent = list(range(n))\n",
    "    def find(x):\n",
    "        while parent[x] != x:\n",
    "            parent[x] = parent[parent[x]]\n",
    "            x = parent[x]\n",
    "        return x\n",
    "\n",
    "    def union(x, y):\n",
    "        root_x = find(x)\n",
    "        root_y = find(y)\n",
    "        if root_x != root_y:\n",
    "            parent[root_y] = root_x\n",
    "\n",
    "    # Binary search for the minimal index that disconnects the graph\n",
    "    # cnt = 0\n",
    "    while low < high:\n",
    "        # cnt += 1\n",
    "        mid = (low + high) // 2\n",
    "        # Reset union-find for this iteration\n",
    "        parent = list(range(n))\n",
    "        # Add edges from sorted_edges[mid:] (i.e. the ones not yet removed)\n",
    "        for i in range(mid, len(sorted_edges)):\n",
    "            u, v, _ = sorted_edges[i]\n",
    "            union(u, v)\n",
    "\n",
    "        # Check if the graph is connected\n",
    "        rep = find(0)\n",
    "        connected = all(find(i) == rep for i in range(n))\n",
    "\n",
    "        if connected:\n",
    "            # Still connected: need to remove more edges.\n",
    "            low = mid + 1\n",
    "        else:\n",
    "            # Disconnected: record mid as a candidate and try a smaller removal.\n",
    "            threshold_index = mid - 1\n",
    "            high = mid\n",
    "\n",
    "    # build the symmetric thresholded adjacency matrix\n",
    "    adj_hat = np.empty_like(adj_matrix)\n",
    "    adj_hat[:] = np.nan\n",
    "    for i in range(threshold_index, len(sorted_edges)):\n",
    "        u, v, w = sorted_edges[i]\n",
    "        adj_hat[u, v] = w\n",
    "        adj_hat[v, u] = w\n",
    "    \n",
    "    # print(cnt)\n",
    "\n",
    "    # threshold_index is the minimal number of removals needed\n",
    "    return  adj_hat, threshold_index\n",
    "\n",
    "def undirected_edge_addition(adj_matrix, removal_order=\"highest\"):\n",
    "    \"\"\"\n",
    "    Edge addition on an undirected graph.\n",
    "    Starts with 0 edges (only nodes) and adds edges until the graph is weakly connected.\n",
    "\n",
    "    Parameters:\n",
    "        adj_matrix (2D array): symmetric matrix of edge weights.\n",
    "        removal_order (str): \"highest\" or \"lowest\" which corresponds to the removal ordering.\n",
    "                             For \"highest\", removal removes high-weight edges first so the kept\n",
    "                             edges are low-weight ones. Thus, for addition we add low-weight edges first.\n",
    "                             Conversely for \"lowest\".\n",
    "                             \n",
    "    Returns:\n",
    "        added_edges (NxN array): symmetric adjacency matrix after adding edges until weak connectivity.\n",
    "        addition_step (int): number of edges added when weak connectivity is first achieved.\n",
    "    \"\"\"\n",
    "\n",
    "    n = adj_matrix.shape[0]\n",
    "    # Create an empty directed graph with all nodes.\n",
    "    G = nx.DiGraph()\n",
    "    G.add_nodes_from(range(n))\n",
    "\n",
    "    # Restrict to the upper triangular portion.\n",
    "    adj = adj_matrix.copy()\n",
    "    adj[np.tril_indices(n, k=-1)] = np.nan\n",
    "\n",
    "    # Extract edges from the upper triangle.\n",
    "    edges = []\n",
    "    for i in range(n):\n",
    "        for j in range(n):\n",
    "            if not np.isnan(adj[i, j]):\n",
    "                edges.append((i, j, adj[i, j]))\n",
    "\n",
    "    # Sort edges in the same order as the removal function.\n",
    "    # For removal_order==\"highest\", removal sorted descending (highest first)\n",
    "    # so for addition we add in the opposite order (ascending).\n",
    "    reverse = True if removal_order == \"highest\" else False\n",
    "    sorted_edges = sorted(edges, key=lambda x: x[2], reverse=reverse)\n",
    "    addition_order = sorted_edges[::-1]\n",
    "\n",
    "    addition_step = 0\n",
    "    # Add edges until the graph is weakly connected.\n",
    "    for u, v, w in addition_order:\n",
    "        G.add_edge(u, v, weight=w)\n",
    "        addition_step += 1\n",
    "        if nx.is_weakly_connected(G):\n",
    "            # Once connected, build a symmetric adjacency matrix.\n",
    "            adj_result = nx.to_numpy_array(G, nonedge=float('nan'))\n",
    "            # Reconstruct the symmetric matrix from the upper triangle.\n",
    "            adj_result = np.triu(adj_result)\n",
    "            adj_result = adj_result + adj_result.T\n",
    "            return adj_result, addition_step\n",
    "\n",
    "    # If connectivity was never reached, return the full graph.\n",
    "    adj_result = nx.to_numpy_array(G, nonedge=float('nan'))\n",
    "    adj_result = np.triu(adj_result)\n",
    "    adj_result = adj_result + adj_result.T\n",
    "    return adj_result, addition_step\n"
   ]
  },
  {
   "cell_type": "code",
   "execution_count": 95,
   "metadata": {},
   "outputs": [],
   "source": [
    "\n",
    "def org_undirected_edge_removal(adj_matrix, removal_order=\"highest\"):\n",
    "    \"\"\"\n",
    "    Edge removal on an undirected graph.\n",
    "    Removal stops when any node becomes isolated (degree==0).\n",
    "\n",
    "    Parameters:\n",
    "        adj_matrix (2D array): symmetric matrix of edge weights.\n",
    "        removal_order (str): \"highest\" or \"lowest\" to determine removal order.\n",
    "\n",
    "    Returns:\n",
    "        removed_edges (NxN array): adjacency matrix after edges have been removed.\n",
    "        removal_step (int): number of edges removed when break occurred.\n",
    "    \"\"\"\n",
    "    # make adj_matrix only upper triangular\n",
    "    adj = adj_matrix.copy()\n",
    "    adj[np.tril_indices(adj.shape[0], k=-1)] = np.nan\n",
    "    G = nx.DiGraph()\n",
    "    n = adj.shape[0]\n",
    "    for i in range(n):\n",
    "        for j in range(n):\n",
    "            if not np.isnan(adj[i, j]):\n",
    "                G.add_edge(i, j, weight=adj[i, j])\n",
    "\n",
    "    # Get edges with weights\n",
    "    edges = [(u, v, data[\"weight\"]) for u, v, data in G.edges(data=True)]\n",
    "\n",
    "    # Sort edges based on weight\n",
    "    reverse = True if removal_order == \"highest\" else False\n",
    "    sorted_edges = sorted(edges, key=lambda x: x[2], reverse=reverse)\n",
    "    \n",
    "    removal_step = 0\n",
    "    for u, v, w in sorted_edges:\n",
    "        G.remove_edge(u, v)\n",
    "\n",
    "        # Check if any node is isolated\n",
    "        if not nx.is_weakly_connected(G):\n",
    "            G.add_edge(u, v, weight=w)\n",
    "            adj = nx.to_numpy_array(G, nonedge=float('nan'))\n",
    "            # make adj_matrix symmetric\n",
    "            adj = np.triu(adj)\n",
    "            adj = adj + adj.T\n",
    "            return adj, removal_step\n",
    "\n",
    "        removal_step += 1\n",
    "    \n",
    "    adj = nx.to_numpy_array(G, nonedge=float('nan'))\n",
    "    # make adj_matrix symmetric\n",
    "    adj = np.triu(adj)\n",
    "    adj = adj + adj.T\n",
    "    return adj, removal_step"
   ]
  },
  {
   "cell_type": "code",
   "execution_count": 92,
   "metadata": {},
   "outputs": [
    {
     "name": "stdout",
     "output_type": "stream",
     "text": [
      "bary-sq_euclidean_max\n",
      "bary-sq_euclidean_max~001.mat\n"
     ]
    }
   ],
   "source": [
    "folderpath = \"/media/dan/Data2/calculations/connectivity/additional_calcs/mats\"\n",
    "for subfolder, removal_order in undirected_subfolders.items():\n",
    "    measure_path = os.path.join(folderpath, subfolder)\n",
    "    measure_files = os.listdir(measure_path)\n",
    "    print(subfolder)\n",
    "    for measure_file in measure_files:\n",
    "        # Remove .mat from filename\n",
    "        print(measure_file)\n",
    "        base_name = os.path.basename(measure_file).replace(\".mat\", \"\")\n",
    "        mat = scipy.io.loadmat(os.path.join(measure_path, measure_file))\n",
    "        undirected_adj = mat[\"measure\"]\n",
    "        n = undirected_adj.shape[0]\n",
    "        break\n",
    "    break"
   ]
  },
  {
   "cell_type": "code",
   "execution_count": 97,
   "metadata": {},
   "outputs": [
    {
     "name": "stdout",
     "output_type": "stream",
     "text": [
      "13\n",
      "True\n",
      "True\n",
      "True\n"
     ]
    }
   ],
   "source": [
    "i = 0\n",
    "measure= 'bary-sq_euclidean_max'\n",
    "\n",
    "adj = undirected_adj[i, ...]\n",
    "\n",
    "adj_hat, threshold = undirected_edge_addition(adj, removal_order= undirected_subfolders[measure])\n",
    "\n",
    "b, bthresh = find_disconnect_threshold(adj, removal_order= undirected_subfolders[measure])\n",
    "\n",
    "org, orgthresh = org_undirected_edge_removal(adj, removal_order= undirected_subfolders[measure])\n",
    "\n",
    "org[np.isnan(org)] = 0\n",
    "adj_hat[np.isnan(adj_hat)] = 0\n",
    "b[np.isnan(b)] = 0\n",
    "print(np.allclose(org, adj_hat))\n",
    "\n",
    "print(np.allclose(b, adj_hat))\n",
    "\n",
    "print(np.allclose(org, b))\n"
   ]
  },
  {
   "cell_type": "code",
   "execution_count": 102,
   "metadata": {},
   "outputs": [],
   "source": [
    "def a():\n",
    "    org_undirected_edge_removal(adj, removal_order= undirected_subfolders[measure])\n",
    "def b():\n",
    "    find_disconnect_threshold(adj, removal_order= undirected_subfolders[measure])\n",
    "def c():\n",
    "    undirected_edge_addition(adj, removal_order= undirected_subfolders[measure])\n"
   ]
  },
  {
   "cell_type": "code",
   "execution_count": 103,
   "metadata": {},
   "outputs": [
    {
     "name": "stdout",
     "output_type": "stream",
     "text": [
      "16.94140652695205 1.433353170985356 7.792177585011814\n"
     ]
    }
   ],
   "source": [
    "import timeit\n",
    "\n",
    "a_time = timeit.timeit(a, number=100)\n",
    "b_time = timeit.timeit(b, number=100)\n",
    "c_time = timeit.timeit(c, number=100)\n",
    "\n",
    "print(a_time, b_time, c_time)\n",
    "\n"
   ]
  },
  {
   "cell_type": "code",
   "execution_count": 106,
   "metadata": {},
   "outputs": [
    {
     "data": {
      "text/plain": [
       "True"
      ]
     },
     "execution_count": 106,
     "metadata": {},
     "output_type": "execute_result"
    }
   ],
   "source": [
    "julia = np.load('/media/dan/Data2/calculations/connectivity/additional_calcs/test/bary-sq_euclidean_max/bary-sq_euclidean_max~001~000000~threshadj~lowest~5587.npy')\n",
    "julia[np.isnan(julia)] = 0\n",
    "\n",
    "np.allclose(julia, org)\n",
    "\n",
    "\n",
    "\n"
   ]
  },
  {
   "cell_type": "code",
   "execution_count": null,
   "metadata": {},
   "outputs": [],
   "source": []
  },
  {
   "cell_type": "code",
   "execution_count": 94,
   "metadata": {},
   "outputs": [
    {
     "data": {
      "text/plain": [
       "<matplotlib.image.AxesImage at 0x77e99e76c9e0>"
      ]
     },
     "execution_count": 94,
     "metadata": {},
     "output_type": "execute_result"
    },
    {
     "data": {
      "image/png": "[encoded data removed]",
      "text/plain": [
       "<Figure size 640x480 with 2 Axes>"
      ]
     },
     "metadata": {},
     "output_type": "display_data"
    }
   ],
   "source": [
    "fig, ax = plt.subplots(1, 2)\n",
    "ax[0].imshow(adj_hat)\n",
    "ax[1].imshow(b)"
   ]
  },
  {
   "cell_type": "code",
   "execution_count": 80,
   "metadata": {},
   "outputs": [
    {
     "name": "stdout",
     "output_type": "stream",
     "text": [
      "1316\n",
      "5587\n"
     ]
    }
   ],
   "source": [
    "print(threshold)\n",
    "print(bthresh)"
   ]
  },
  {
   "cell_type": "code",
   "execution_count": 81,
   "metadata": {},
   "outputs": [
    {
     "name": "stdout",
     "output_type": "stream",
     "text": [
      "bary-sq_euclidean_max~001~000000~threshadj~lowest~5587.npy\n"
     ]
    }
   ],
   "source": [
    "path = \"/media/dan/Data2/calculations/connectivity/additional_calcs/thresholded_mats/bary-sq_euclidean_max\"\n",
    "files = sorted(os.listdir(path))\n",
    "\n",
    "data = {}\n",
    "for z, file in enumerate(files):\n",
    "    if file.endswith(\".npy\"):\n",
    "        # file format: base_name + ~{pid}~{i:06}~threshadj~{removal_order}~{step}.npy \n",
    "        # example bary-sq_euclidean_max~001~000000~threshadj~lowest~5587.npy\n",
    "        # extract pid,  i, step\n",
    "        pid = int(file.split(\"~\")[1])\n",
    "        if pid != 1:\n",
    "            continue\n",
    "        if z == 0:\n",
    "            print(file)\n",
    "        i = int(file.split(\"~\")[2])\n",
    "        step = int(file.split(\"~\")[5].split(\".\")[0])\n",
    "        if pid not in data:\n",
    "            data[pid] = {'net': [], 'steps': []}\n",
    "        with open(os.path.join(path, file), \"rb\") as f:\n",
    "            net = np.load(f)\n",
    "        data[pid]['net'].append(net)\n",
    "        data[pid]['steps'].append(step)\n",
    "\n"
   ]
  },
  {
   "cell_type": "code",
   "execution_count": 82,
   "metadata": {},
   "outputs": [
    {
     "data": {
      "text/plain": [
       "<matplotlib.image.AxesImage at 0x77e9f1d8aff0>"
      ]
     },
     "execution_count": 82,
     "metadata": {},
     "output_type": "execute_result"
    },
    {
     "data": {
      "image/png": "[encoded data removed]",
      "text/plain": [
       "<Figure size 640x480 with 2 Axes>"
      ]
     },
     "metadata": {},
     "output_type": "display_data"
    }
   ],
   "source": [
    "a = data[1]['net'][0]\n",
    "\n",
    "fig, ax = plt.subplots(1, 2)\n",
    "ax[0].imshow(a)\n",
    "ax[1].imshow(adj_hat)\n",
    "\n",
    "\n",
    "\n",
    "\n"
   ]
  },
  {
   "cell_type": "code",
   "execution_count": 83,
   "metadata": {},
   "outputs": [],
   "source": [
    "# set nan to 0\n",
    "a[np.isnan(a)] = 0\n",
    "adj_hat[np.isnan(adj_hat)] = 0\n"
   ]
  },
  {
   "cell_type": "code",
   "execution_count": 84,
   "metadata": {},
   "outputs": [
    {
     "data": {
      "text/plain": [
       "True"
      ]
     },
     "execution_count": 84,
     "metadata": {},
     "output_type": "execute_result"
    }
   ],
   "source": [
    "np.allclose(a, adj_hat)"
   ]
  },
  {
   "cell_type": "code",
   "execution_count": 85,
   "metadata": {},
   "outputs": [],
   "source": [
    "\n",
    "output_folder = \"/media/dan/Data2/calculations/connectivity/additional_calcs/thresholded_mats\"\n",
    "\n",
    "undirected_subfolders = {'bary-sq_euclidean_max': 'lowest',\n",
    "'bary-sq_euclidean_mean': 'lowest',\n",
    "'bary_euclidean_max': 'lowest',\n",
    "'ce_gaussian': 'highest',\n",
    "'cohmag_multitaper_mean_fs-1_fmin-0-000488_fmax-0-00195': 'lowest',\n",
    "'cohmag_multitaper_mean_fs-1_fmin-0-000488_fmax-0-0342': 'lowest',\n",
    "'cohmag_multitaper_mean_fs-1_fmin-0-000488_fmax-0-122': 'lowest',\n",
    "'cohmag_multitaper_mean_fs-1_fmin-0-00195_fmax-0-00391': 'lowest',\n",
    "'cohmag_multitaper_mean_fs-1_fmin-0-00391_fmax-0-00586': 'lowest',\n",
    "'cohmag_multitaper_mean_fs-1_fmin-0-00586_fmax-0-0146': 'lowest',\n",
    "'cohmag_multitaper_mean_fs-1_fmin-0-0146_fmax-0-0342': 'lowest',\n",
    "'cohmag_multitaper_mean_fs-1_fmin-0-0342_fmax-0-0732': 'lowest',\n",
    "'cohmag_multitaper_mean_fs-1_fmin-0-0342_fmax-0-122': 'lowest',\n",
    "'cohmag_multitaper_mean_fs-1_fmin-0-0732_fmax-0-122': 'lowest',\n",
    "'cohmag_multitaper_mean_fs-1_fmin-0_fmax-0-5': 'lowest',\n",
    "'cov-sq_EmpiricalCovariance': 'lowest',\n",
    "'cov-sq_GraphicalLassoCV': 'lowest',\n",
    "'cov-sq_LedoitWolf': 'lowest',\n",
    "'cov-sq_MinCovDet': 'lowest',\n",
    "'cov-sq_OAS': 'lowest',\n",
    "'cov-sq_ShrunkCovariance': 'lowest',\n",
    "'cov_EmpiricalCovariance': 'lowest',\n",
    "'cov_GraphicalLassoCV': 'lowest',\n",
    "'cov_LedoitWolf': 'lowest',\n",
    "'cov_MinCovDet': 'lowest',\n",
    "'cov_OAS': 'lowest',\n",
    "'cov_ShrunkCovariance': 'lowest',\n",
    "'dspli_multitaper_mean_fs-1_fmin-0-000488_fmax-0-00195': 'lowest',\n",
    "'dspli_multitaper_mean_fs-1_fmin-0-000488_fmax-0-0342': 'lowest',\n",
    "'dspli_multitaper_mean_fs-1_fmin-0-000488_fmax-0-122': 'lowest',\n",
    "'dspli_multitaper_mean_fs-1_fmin-0-00195_fmax-0-00391': 'lowest',\n",
    "'dspli_multitaper_mean_fs-1_fmin-0-00391_fmax-0-00586': 'lowest',\n",
    "'dspli_multitaper_mean_fs-1_fmin-0-00586_fmax-0-0146': 'lowest',\n",
    "'dspli_multitaper_mean_fs-1_fmin-0-0146_fmax-0-0342': 'lowest',\n",
    "'dspli_multitaper_mean_fs-1_fmin-0-0342_fmax-0-122': 'lowest',\n",
    "'dspli_multitaper_mean_fs-1_fmin-0-0732_fmax-0-122': 'lowest',\n",
    "'dspli_multitaper_mean_fs-1_fmin-0_fmax-0-5': 'lowest',\n",
    "'dswpli_multitaper_mean_fs-1_fmin-0-000488_fmax-0-00195': 'lowest',\n",
    "'dswpli_multitaper_mean_fs-1_fmin-0-000488_fmax-0-0342': 'lowest',\n",
    "'dswpli_multitaper_mean_fs-1_fmin-0-000488_fmax-0-122': 'lowest',\n",
    "'dswpli_multitaper_mean_fs-1_fmin-0-00195_fmax-0-00391': 'lowest',\n",
    "'dswpli_multitaper_mean_fs-1_fmin-0-00391_fmax-0-00586': 'lowest',\n",
    "'dswpli_multitaper_mean_fs-1_fmin-0-00586_fmax-0-0146': 'lowest',\n",
    "'dswpli_multitaper_mean_fs-1_fmin-0-0146_fmax-0-0342': 'lowest',\n",
    "'dswpli_multitaper_mean_fs-1_fmin-0-0342_fmax-0-122': 'lowest',\n",
    "'dswpli_multitaper_mean_fs-1_fmin-0-0732_fmax-0-122': 'lowest',\n",
    "'dswpli_multitaper_mean_fs-1_fmin-0_fmax-0-5': 'lowest',\n",
    "'mi_gaussian': 'lowest',\n",
    "'pdist_braycurtis': 'highest',\n",
    "'pdist_canberra': 'highest',\n",
    "'pdist_chebyshev': 'highest',\n",
    "'pdist_cityblock': 'highest',\n",
    "'pdist_cosine': 'highest',\n",
    "'pdist_euclidean': 'highest',\n",
    "'pec': 'lowest',\n",
    "'pec_log': 'lowest',\n",
    "'pec_orth_abs': 'lowest',\n",
    "'pec_orth_log': 'lowest',\n",
    "'pec_orth_log_abs': 'lowest',\n",
    "'dspli_multitaper_mean_fs-1_fmin-0-0342_fmax-0-0732': 'lowest',\n",
    "'dswpli_multitaper_mean_fs-1_fmin-0-0342_fmax-0-0732': 'lowest',\n",
    "'kendalltau-sq': 'lowest',\n",
    "'pec_orth': 'lowest',\n",
    "'ppc_multitaper_mean_fs-1_fmin-0-000488_fmax-0-00195': 'lowest',\n",
    "'prec_OAS': 'highest',\n",
    "'prec-sq_GraphicalLasso': 'lowest',\n",
    "'prec-sq_GraphicalLassoCV': 'lowest',\n",
    "'prec-sq_LedoitWolf': 'lowest',\n",
    "'prec-sq_OAS': 'lowest',\n",
    "'prec-sq_ShrunkCovariance': 'lowest',\n",
    "'prec_GraphicalLasso': 'highest',\n",
    "'prec_GraphicalLassoCV': 'highest',\n",
    "'prec_LedoitWolf': 'highest',\n",
    "'prec_ShrunkCovariance': 'highest',\n",
    "'spearmanr': 'lowest',\n",
    "'spearmanr-sq': 'lowest',\n",
    "'xcorr-sq_max_sig-False': 'lowest',\n",
    "'xcorr-sq_mean_sig-False': 'lowest',\n",
    "'xcorr_max_sig-False': 'lowest',\n",
    "'xcorr_mean_sig-False': 'lowest',\n",
    "'je_gaussian': 'highest',\n",
    "'ppc_multitaper_mean_fs-1_fmin-0-000488_fmax-0-0342': 'lowest',\n",
    "'ppc_multitaper_mean_fs-1_fmin-0-000488_fmax-0-122': 'lowest',\n",
    "'ppc_multitaper_mean_fs-1_fmin-0-00195_fmax-0-00391': 'lowest',\n",
    "'ppc_multitaper_mean_fs-1_fmin-0-00391_fmax-0-00586': 'lowest',\n",
    "'ppc_multitaper_mean_fs-1_fmin-0-00586_fmax-0-0146': 'lowest',\n",
    "'ppc_multitaper_mean_fs-1_fmin-0-0146_fmax-0-0342': 'lowest',\n",
    "'ppc_multitaper_mean_fs-1_fmin-0-0342_fmax-0-0732': 'lowest',\n",
    "'ppc_multitaper_mean_fs-1_fmin-0-0342_fmax-0-122': 'lowest',\n",
    "'ppc_multitaper_mean_fs-1_fmin-0-0732_fmax-0-122': 'lowest',\n",
    "'ppc_multitaper_mean_fs-1_fmin-0_fmax-0-5': 'lowest',\n",
    "}\n",
    "\n"
   ]
  }
 ],
 "metadata": {
  "kernelspec": {
   "display_name": "pyspicalc",
   "language": "python",
   "name": "python3"
  },
  "language_info": {
   "codemirror_mode": {
    "name": "ipython",
    "version": 3
   },
   "file_extension": ".py",
   "mimetype": "text/x-python",
   "name": "python",
   "nbconvert_exporter": "python",
   "pygments_lexer": "ipython3",
   "version": "3.12.2"
  }
 },
 "nbformat": 4,
 "nbformat_minor": 2
}
