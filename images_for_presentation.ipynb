{
 "cells": [
  {
   "cell_type": "code",
   "execution_count": 30,
   "metadata": {},
   "outputs": [],
   "source": [
    "import mne\n",
    "import pandas as pd\n",
    "from connection_complexity.data.raw_data.EDF.edf_helpers import read_edf\n",
    "import numpy as np"
   ]
  },
  {
   "cell_type": "code",
   "execution_count": 5,
   "metadata": {},
   "outputs": [],
   "source": [
    "raw = read_edf(\"/media/dan/Data/data/baseline_patients/baseline_edfs/014_Baseline.EDF\")"
   ]
  },
  {
   "cell_type": "code",
   "execution_count": null,
   "metadata": {},
   "outputs": [],
   "source": [
    "df = pd.read_csv(\"/media/dan/Data/data/FULL_composite_patient_info.csv\")\n",
    "df = df[df[\"pid\"] == 14]\n",
    "df = df[[\"electrode\",\"soz\"]]"
   ]
  },
  {
   "cell_type": "code",
   "execution_count": 16,
   "metadata": {},
   "outputs": [],
   "source": [
    "soz = df[df[\"soz\"] == 1][\"electrode\"].sample(2).values\n",
    "non = df[df[\"soz\"] == 0][\"electrode\"].sample(3).values"
   ]
  },
  {
   "cell_type": "code",
   "execution_count": 31,
   "metadata": {},
   "outputs": [],
   "source": [
    "lst = soz.tolist() + non.tolist()\n",
    "\n",
    "# shuffle the list\n",
    "lst = np.random.permutation(lst)\n"
   ]
  },
  {
   "cell_type": "code",
   "execution_count": 33,
   "metadata": {},
   "outputs": [
    {
     "name": "stdout",
     "output_type": "stream",
     "text": [
      "NOTE: pick_channels() is a legacy function. New code should use inst.pick(...).\n"
     ]
    }
   ],
   "source": [
    "chunk = raw.pick_channels(lst)\n"
   ]
  },
  {
   "cell_type": "code",
   "execution_count": 34,
   "metadata": {},
   "outputs": [],
   "source": [
    "data = chunk.get_data()\n",
    "\n",
    "# reorder the rows flip row 0 and 3\n",
    "tmp = data[0, :].copy()"
   ]
  },
  {
   "cell_type": "code",
   "execution_count": 35,
   "metadata": {},
   "outputs": [],
   "source": [
    "sampling_rate = chunk.info[\"sfreq\"]"
   ]
  },
  {
   "cell_type": "code",
   "execution_count": 73,
   "metadata": {},
   "outputs": [
    {
     "name": "stdout",
     "output_type": "stream",
     "text": [
      "95143 105383\n"
     ]
    }
   ],
   "source": [
    "import numpy as np\n",
    "import matplotlib.pyplot as plt\n",
    "\n",
    "# Calculate number of samples for 10 seconds\n",
    "n_samples = int(5 * sampling_rate)\n",
    "\n",
    "# Generate random start point\n",
    "start_idx = np.random.randint(0, data.shape[1] - n_samples)\n",
    "start_idx = int(91047 + (2*sampling_rate))\n",
    "end_idx = start_idx + n_samples\n",
    "\n",
    "print(start_idx, end_idx)\n",
    "\n",
    "# Create time array for x-axis\n",
    "time = np.linspace(0, 5, n_samples)\n",
    "\n",
    "# Create figure with subplots\n",
    "fig, axes = plt.subplots(data.shape[0], 1, figsize=(15, 10), sharex=True)\n",
    "\n",
    "# Plot each channel\n",
    "for i, (ax, channel_data) in enumerate(zip(axes, data)):\n",
    "    # Determine color based on whether it's SOZ or non-SOZ\n",
    "    color = 'red' if chunk.ch_names[i] in soz else 'black'\n",
    "    \n",
    "    # Plot the data\n",
    "    ax.plot(time, channel_data[start_idx:end_idx], color=color)\n",
    "    ax.set_ylabel(\"Voltage\")\n",
    "    ax.grid(True)\n",
    "\n",
    "# Set common x-axis label\n",
    "axes[-1].set_xlabel('Time (seconds)')\n",
    "\n",
    "# Adjust layout and show plot\n",
    "plt.tight_layout()\n",
    "\n",
    "plt.savefig(\"raw_example_colored.png\", dpi=300)"
   ]
  },
  {
   "cell_type": "code",
   "execution_count": 74,
   "metadata": {},
   "outputs": [
    {
     "name": "stdout",
     "output_type": "stream",
     "text": [
      "95143 105383\n"
     ]
    }
   ],
   "source": [
    "import numpy as np\n",
    "import matplotlib.pyplot as plt\n",
    "\n",
    "# Calculate number of samples for 10 seconds\n",
    "n_samples = int(5 * sampling_rate)\n",
    "\n",
    "# Generate random start point\n",
    "start_idx = np.random.randint(0, data.shape[1] - n_samples)\n",
    "start_idx = int(91047 + (2*sampling_rate))\n",
    "end_idx = start_idx + n_samples\n",
    "\n",
    "print(start_idx, end_idx)\n",
    "\n",
    "# Create time array for x-axis\n",
    "time = np.linspace(0, 5, n_samples)\n",
    "\n",
    "# Create figure with subplots\n",
    "fig, axes = plt.subplots(3, 1, figsize=(15, 10), sharex=True)\n",
    "\n",
    "# Plot each channel\n",
    "for i, (ax, channel_data) in enumerate(zip(axes, data)):\n",
    "    # Determine color based on whether it's SOZ or non-SOZ\n",
    "    # color = 'red' if chunk.ch_names[i] in soz else 'black'\n",
    "    color = 'black'\n",
    "    \n",
    "    # Plot the data\n",
    "    ax.plot(time, channel_data[start_idx:end_idx], color=color)\n",
    "    ax.set_ylabel(\"Voltage\")\n",
    "    ax.grid(True)\n",
    "\n",
    "    if i > 3:\n",
    "        break\n",
    "\n",
    "# Set common x-axis label\n",
    "axes[-1].set_xlabel('Time (seconds)')\n",
    "\n",
    "# Adjust layout and show plot\n",
    "plt.tight_layout()\n",
    "\n",
    "plt.savefig(\"raw_example_3.png\", dpi=300)"
   ]
  },
  {
   "cell_type": "code",
   "execution_count": null,
   "metadata": {},
   "outputs": [],
   "source": []
  }
 ],
 "metadata": {
  "kernelspec": {
   "display_name": "networks",
   "language": "python",
   "name": "python3"
  },
  "language_info": {
   "codemirror_mode": {
    "name": "ipython",
    "version": 3
   },
   "file_extension": ".py",
   "mimetype": "text/x-python",
   "name": "python",
   "nbconvert_exporter": "python",
   "pygments_lexer": "ipython3",
   "version": "3.12.9"
  }
 },
 "nbformat": 4,
 "nbformat_minor": 2
}
