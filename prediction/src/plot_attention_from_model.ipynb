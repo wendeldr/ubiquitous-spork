{
 "cells": [
  {
   "cell_type": "code",
   "execution_count": 66,
   "metadata": {},
   "outputs": [],
   "source": [
    "from data_generation import attention_fakedata\n",
    "import matplotlib.pyplot as plt\n",
    "\n",
    "import torch\n",
    "import numpy as np\n",
    "import matplotlib.pyplot as plt\n",
    "import seaborn as sns\n",
    "from trainAttn_fakedata import SelfAttentionLightning\n",
    "from data_generation import prepare_data\n",
    "\n",
    "import os"
   ]
  },
  {
   "cell_type": "code",
   "execution_count": null,
   "metadata": {},
   "outputs": [],
   "source": []
  },
  {
   "cell_type": "code",
   "execution_count": 65,
   "metadata": {},
   "outputs": [
    {
     "name": "stdout",
     "output_type": "stream",
     "text": [
      "(100000, 6)\n"
     ]
    }
   ],
   "source": [
    "df = attention_fakedata(5)\n",
    "mask0 = df['label'] == 0\n",
    "mask1 = df['label'] == 1"
   ]
  },
  {
   "cell_type": "code",
   "execution_count": 67,
   "metadata": {},
   "outputs": [
    {
     "data": {
      "text/html": [
       "<div>\n",
       "<style scoped>\n",
       "    .dataframe tbody tr th:only-of-type {\n",
       "        vertical-align: middle;\n",
       "    }\n",
       "\n",
       "    .dataframe tbody tr th {\n",
       "        vertical-align: top;\n",
       "    }\n",
       "\n",
       "    .dataframe thead th {\n",
       "        text-align: right;\n",
       "    }\n",
       "</style>\n",
       "<table border=\"1\" class=\"dataframe\">\n",
       "  <thead>\n",
       "    <tr style=\"text-align: right;\">\n",
       "      <th></th>\n",
       "      <th>label</th>\n",
       "      <th>f0</th>\n",
       "      <th>f1</th>\n",
       "      <th>f2</th>\n",
       "      <th>f3</th>\n",
       "      <th>f4</th>\n",
       "    </tr>\n",
       "  </thead>\n",
       "  <tbody>\n",
       "    <tr>\n",
       "      <th>0</th>\n",
       "      <td>0.0</td>\n",
       "      <td>0.593162</td>\n",
       "      <td>0.091680</td>\n",
       "      <td>0.554308</td>\n",
       "      <td>0.938422</td>\n",
       "      <td>0.168033</td>\n",
       "    </tr>\n",
       "    <tr>\n",
       "      <th>1</th>\n",
       "      <td>0.0</td>\n",
       "      <td>-1.848946</td>\n",
       "      <td>0.240158</td>\n",
       "      <td>0.679579</td>\n",
       "      <td>0.161083</td>\n",
       "      <td>0.046975</td>\n",
       "    </tr>\n",
       "    <tr>\n",
       "      <th>2</th>\n",
       "      <td>0.0</td>\n",
       "      <td>0.764247</td>\n",
       "      <td>0.498487</td>\n",
       "      <td>0.496122</td>\n",
       "      <td>0.317818</td>\n",
       "      <td>0.699608</td>\n",
       "    </tr>\n",
       "    <tr>\n",
       "      <th>3</th>\n",
       "      <td>0.0</td>\n",
       "      <td>-1.515110</td>\n",
       "      <td>0.898559</td>\n",
       "      <td>0.488243</td>\n",
       "      <td>0.266235</td>\n",
       "      <td>0.139516</td>\n",
       "    </tr>\n",
       "    <tr>\n",
       "      <th>4</th>\n",
       "      <td>1.0</td>\n",
       "      <td>100.295370</td>\n",
       "      <td>0.110525</td>\n",
       "      <td>0.931582</td>\n",
       "      <td>0.219879</td>\n",
       "      <td>0.382056</td>\n",
       "    </tr>\n",
       "  </tbody>\n",
       "</table>\n",
       "</div>"
      ],
      "text/plain": [
       "   label          f0        f1        f2        f3        f4\n",
       "0    0.0    0.593162  0.091680  0.554308  0.938422  0.168033\n",
       "1    0.0   -1.848946  0.240158  0.679579  0.161083  0.046975\n",
       "2    0.0    0.764247  0.498487  0.496122  0.317818  0.699608\n",
       "3    0.0   -1.515110  0.898559  0.488243  0.266235  0.139516\n",
       "4    1.0  100.295370  0.110525  0.931582  0.219879  0.382056"
      ]
     },
     "execution_count": 67,
     "metadata": {},
     "output_type": "execute_result"
    }
   ],
   "source": [
    "df.h"
   ]
  },
  {
   "cell_type": "code",
   "execution_count": 69,
   "metadata": {},
   "outputs": [
    {
     "data": {
      "image/png": "[encoded data removed]",
      "text/plain": [
       "<Figure size 640x480 with 1 Axes>"
      ]
     },
     "metadata": {},
     "output_type": "display_data"
    }
   ],
   "source": [
    "i = 1\n",
    "f_a = df.loc[mask0, f'f{i}']\n",
    "f_b = df.loc[mask1, f'f{i}']\n",
    "\n",
    "plt.hist(f_a, bins=100, alpha=0.5)\n",
    "plt.hist(f_b, bins=100, alpha=0.5);"
   ]
  },
  {
   "cell_type": "code",
   "execution_count": 5,
   "metadata": {},
   "outputs": [
    {
     "name": "stdout",
     "output_type": "stream",
     "text": [
      "(100000, 3)\n",
      "(100000, 4)\n",
      "(100000, 5)\n",
      "(100000, 6)\n"
     ]
    }
   ],
   "source": [
    "# Load the data\n",
    "data = {}\n",
    "for f in range(2,6):\n",
    "    train_dataset, val_dataset, n_features = prepare_data(f)\n",
    "\n",
    "    # Get features and labels\n",
    "    train_features = train_dataset.tensors[0]\n",
    "    train_labels = train_dataset.tensors[1]\n",
    "\n",
    "    data[f] = (train_features,train_labels)"
   ]
  },
  {
   "cell_type": "code",
   "execution_count": 6,
   "metadata": {},
   "outputs": [],
   "source": [
    "# # Load your trained model - replace with your actual model path\n",
    "basepath = \"/media/dan/Data/outputs/ubiquitous-spork/attention_prediction/varying_feature_counts/models\"\n",
    "models = {}\n",
    "for f in range(2,6):\n",
    "    temp = []\n",
    "    for i in range(10):\n",
    "        model_name = f\"{f}_features\"\n",
    "        model_path = os.path.join(basepath, str(f),  f\"{model_name}~{i}\" ,f\"{model_name}~{model_name}~{i}~final_model.ckpt\")\n",
    "        model = SelfAttentionLightning.load_from_checkpoint(model_path)\n",
    "        model.eval()\n",
    "        temp.append(model)\n",
    "    models[f] = temp\n"
   ]
  },
  {
   "cell_type": "code",
   "execution_count": 60,
   "metadata": {},
   "outputs": [],
   "source": [
    "model = models[2][0]\n",
    "train_features, train_labels = data[2]\n",
    "\n",
    "\n",
    "def plot_attention_weights(model, train_features, train_labels, output_path):\n",
    "    train_labels = train_labels.squeeze() \n",
    "    with torch.no_grad():\n",
    "        _, attention_weights = model(train_features)\n",
    "\n",
    "    # Convert attention weights to numpy for easier manipulation\n",
    "    attention_weights = attention_weights.numpy()\n",
    "\n",
    "    # Calculate mean attention patterns\n",
    "    mean_all = attention_weights.mean(axis=0).squeeze()\n",
    "    mean_0 = attention_weights[train_labels == 0].mean(axis=0).squeeze()\n",
    "    mean_1 = attention_weights[train_labels == 1].mean(axis=0).squeeze()\n",
    "\n",
    "\n",
    "    # Create figure with subplots\n",
    "    n_features = attention_weights.shape[1]  # Should be the size of your attention matrix\n",
    "    fig = plt.figure(figsize=(7, 7))\n",
    "\n",
    "    # First row - heatmaps (1x3)\n",
    "    gs = fig.add_gridspec(2, 3, height_ratios=[1, 2]) \n",
    "\n",
    "    # Plot heatmaps in first row\n",
    "    ax1 = fig.add_subplot(gs[0, 0])\n",
    "    ax2 = fig.add_subplot(gs[0, 1])\n",
    "    ax3 = fig.add_subplot(gs[0, 2])\n",
    "\n",
    "    sns.heatmap(mean_all, annot=True, cbar=True, square=True, fmt='.2f', ax=ax1, cmap='hot', vmin=0, vmax=1,annot_kws={\"size\": 10 / np.sqrt(n_features)},)\n",
    "    sns.heatmap(mean_0, annot=True, cbar=True, square=True, fmt='.2f', ax=ax2, cmap='hot', vmin=0, vmax=1,annot_kws={\"size\": 10 / np.sqrt(n_features)},)\n",
    "    sns.heatmap(mean_1, annot=True, cbar=True, square=True, fmt='.2f', ax=ax3, cmap='hot', vmin=0, vmax=1,annot_kws={\"size\": 10 / np.sqrt(n_features)},)\n",
    "\n",
    "    ax1.set_title('All Samples')\n",
    "    ax2.set_title('Non-SOZ (label=0)')\n",
    "    ax3.set_title('SOZ (label=1)')\n",
    "    \n",
    "\n",
    "    # Second row - grid of histograms\n",
    "    gs2 = gs[1, :].subgridspec(n_features, n_features)\n",
    "    for i in range(n_features):\n",
    "        for j in range(n_features):\n",
    "            ax = fig.add_subplot(gs2[i, j])\n",
    "            # Get weights for this position\n",
    "            weights_0 = attention_weights[train_labels == 0, i, j]\n",
    "            weights_1 = attention_weights[train_labels == 1, i, j]\n",
    "            ax.hist(weights_0, bins=25, alpha=0.5, color='b', label='0')\n",
    "            ax.hist(weights_1, bins=25, alpha=0.8, color='r', label='1')\n",
    "            ax.set_title(f'[{i},{j}]',fontsize=8/np.sqrt(n_features))\n",
    "            if i == 0 and j == 0:  # Only show legend for first plot\n",
    "                ax.legend(fontsize=8/np.sqrt(n_features))\n",
    "            # Remove axis labels to make plot cleaner\n",
    "            ax.grid(True)\n",
    "            ax.set_xlim(0, 1)\n",
    "            ax.set_xticks(np.linspace(0, 1, 11))\n",
    "            ax.set_yticks([])\n",
    "            ax.tick_params(axis='both', labelsize=6/np.sqrt(n_features),rotation=-45)\n",
    "\n",
    "    plt.suptitle(os.path.basename(output_path).split(\".\")[0])\n",
    "    plt.tight_layout()\n",
    "    plt.subplots_adjust(hspace=0.3)  # Add additional spacing\n",
    "\n",
    "    plt.savefig(output_path, dpi=300)\n",
    "    plt.close()\n"
   ]
  },
  {
   "cell_type": "code",
   "execution_count": 61,
   "metadata": {},
   "outputs": [],
   "source": [
    "output_path_base = \"/media/dan/Data/outputs/ubiquitous-spork/attention_prediction/varying_feature_counts/plots\"\n",
    "for f in range(2,6):\n",
    "    for i in range(10):\n",
    "        output_path = os.path.join(output_path_base, f\"{f}_features~{i}.png\")\n",
    "        plot_attention_weights(models[f][i], data[f][0], data[f][1], output_path)\n"
   ]
  },
  {
   "cell_type": "code",
   "execution_count": 75,
   "metadata": {},
   "outputs": [],
   "source": [
    "model = models[5][4]\n",
    "train_features, train_labels = data[2]\n",
    "\n",
    "# train_labels = train_labels.squeeze() \n",
    "# with torch.no_grad():\n",
    "#     _, attention_weights = model(train_features)"
   ]
  },
  {
   "cell_type": "code",
   "execution_count": 78,
   "metadata": {},
   "outputs": [
    {
     "data": {
      "text/plain": [
       "tensor([[-0.0417]])"
      ]
     },
     "execution_count": 78,
     "metadata": {},
     "output_type": "execute_result"
    }
   ],
   "source": [
    "model.attn.out_proj.weight.data"
   ]
  },
  {
   "cell_type": "code",
   "execution_count": 79,
   "metadata": {},
   "outputs": [
    {
     "data": {
      "text/plain": [
       "tensor([2.0145, 1.1424, 0.8870, 1.6815, 1.3850])"
      ]
     },
     "execution_count": 79,
     "metadata": {},
     "output_type": "execute_result"
    }
   ],
   "source": [
    "model.ln.weight.data"
   ]
  },
  {
   "cell_type": "code",
   "execution_count": 77,
   "metadata": {},
   "outputs": [
    {
     "data": {
      "text/plain": [
       "tensor([[-0.7307,  1.0165,  0.1907,  0.6665,  0.8570]])"
      ]
     },
     "execution_count": 77,
     "metadata": {},
     "output_type": "execute_result"
    }
   ],
   "source": [
    "model.fc1.weight.data"
   ]
  },
  {
   "cell_type": "code",
   "execution_count": 62,
   "metadata": {},
   "outputs": [],
   "source": [
    "import tensorboard as tb"
   ]
  },
  {
   "cell_type": "code",
   "execution_count": 63,
   "metadata": {},
   "outputs": [
    {
     "ename": "AttributeError",
     "evalue": "module 'tensorboard' has no attribute 'data'",
     "output_type": "error",
     "traceback": [
      "\u001b[31m---------------------------------------------------------------------------\u001b[39m",
      "\u001b[31mAttributeError\u001b[39m                            Traceback (most recent call last)",
      "\u001b[36mCell\u001b[39m\u001b[36m \u001b[39m\u001b[32mIn[63]\u001b[39m\u001b[32m, line 2\u001b[39m\n\u001b[32m      1\u001b[39m experiment_id = \u001b[33m\"\u001b[39m\u001b[33mc1KCv3X3QvGwaXfgX1c4tg\u001b[39m\u001b[33m\"\u001b[39m\n\u001b[32m----> \u001b[39m\u001b[32m2\u001b[39m experiment = \u001b[43mtb\u001b[49m\u001b[43m.\u001b[49m\u001b[43mdata\u001b[49m.experimental.ExperimentFromDev(experiment_id)\n\u001b[32m      3\u001b[39m df = experiment.get_scalars()\n",
      "\u001b[31mAttributeError\u001b[39m: module 'tensorboard' has no attribute 'data'"
     ]
    }
   ],
   "source": [
    "experiment_id = \"c1KCv3X3QvGwaXfgX1c4tg\"\n",
    "experiment = tb.data.experimental.ExperimentFromDev(experiment_id)\n",
    "df = experiment.get_scalars()"
   ]
  }
 ],
 "metadata": {
  "kernelspec": {
   "display_name": "networks",
   "language": "python",
   "name": "python3"
  },
  "language_info": {
   "codemirror_mode": {
    "name": "ipython",
    "version": 3
   },
   "file_extension": ".py",
   "mimetype": "text/x-python",
   "name": "python",
   "nbconvert_exporter": "python",
   "pygments_lexer": "ipython3",
   "version": "3.12.9"
  }
 },
 "nbformat": 4,
 "nbformat_minor": 2
}
