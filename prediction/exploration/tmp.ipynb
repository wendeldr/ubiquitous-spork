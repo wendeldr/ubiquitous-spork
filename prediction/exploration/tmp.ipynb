{
 "cells": [
  {
   "cell_type": "code",
   "execution_count": 20,
   "metadata": {},
   "outputs": [],
   "source": [
    "import pandas as pd\n",
    "import os\n",
    "import seaborn as sns\n",
    "import matplotlib.pyplot as plt\n",
    "from tqdm import tqdm"
   ]
  },
  {
   "cell_type": "code",
   "execution_count": 2,
   "metadata": {},
   "outputs": [
    {
     "data": {
      "text/plain": [
       "'predict_df_4NetMets_20250319.csv'"
      ]
     },
     "execution_count": 2,
     "metadata": {},
     "output_type": "execute_result"
    }
   ],
   "source": [
    "path = \"/media/dan/Data/databases\"\n",
    "\n",
    "csvs = os.listdir(path)\n",
    "csvs = [x for x in csvs if x.endswith(\".csv\")]\n",
    "csvs.pop(csvs.index(\"predict_df_4NetMets_20250319.csv\"))"
   ]
  },
  {
   "cell_type": "code",
   "execution_count": 4,
   "metadata": {},
   "outputs": [],
   "source": [
    "output = \"/media/dan/Data/outputs/ubiquitous-spork/feature_hists\""
   ]
  },
  {
   "cell_type": "code",
   "execution_count": 11,
   "metadata": {},
   "outputs": [],
   "source": [
    "ilae = pd.read_csv(\"/media/dan/Data/data/data_master1.csv\")"
   ]
  },
  {
   "cell_type": "code",
   "execution_count": 24,
   "metadata": {},
   "outputs": [
    {
     "name": "stderr",
     "output_type": "stream",
     "text": [
      "Processing csvs...:   0%|          | 0/68 [00:00<?, ?it/s]"
     ]
    }
   ],
   "source": [
    "skip = ['x', 'y', 'z', 'soz', 'pid', 'time', 'electrode_idx']\n",
    "for f in tqdm(csvs, desc=\"Processing csvs...\"):\n",
    "    metric = f.split(\"~\")[1].split(\".\")[0]\n",
    "    output_dir = os.path.join(output, metric)\n",
    "    os.makedirs(output_dir, exist_ok=True)\n",
    "    df = pd.read_csv(os.path.join(path, f))\n",
    "    cols = [x for x in df.columns if x not in skip]\n",
    "    for c in tqdm(cols, desc=\"Processing features...\"):\n",
    "        sns.kdeplot(data=df, x=c, hue=\"soz\")\n",
    "        plt.title(f\"{c}\")\n",
    "        plt.savefig(os.path.join(output_dir, f\"{c}.png\"))\n",
    "        plt.close()"
   ]
  },
  {
   "cell_type": "code",
   "execution_count": null,
   "metadata": {},
   "outputs": [],
   "source": []
  }
 ],
 "metadata": {
  "kernelspec": {
   "display_name": "networks",
   "language": "python",
   "name": "python3"
  },
  "language_info": {
   "codemirror_mode": {
    "name": "ipython",
    "version": 3
   },
   "file_extension": ".py",
   "mimetype": "text/x-python",
   "name": "python",
   "nbconvert_exporter": "python",
   "pygments_lexer": "ipython3",
   "version": "3.12.9"
  }
 },
 "nbformat": 4,
 "nbformat_minor": 2
}
