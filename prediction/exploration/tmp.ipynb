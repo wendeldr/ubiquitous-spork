{
 "cells": [
  {
   "cell_type": "code",
   "execution_count": 12,
   "metadata": {},
   "outputs": [],
   "source": [
    "import pandas as pd\n",
    "import os"
   ]
  },
  {
   "cell_type": "code",
   "execution_count": 25,
   "metadata": {},
   "outputs": [
    {
     "data": {
      "text/plain": [
       "(5568204, 147)"
      ]
     },
     "execution_count": 25,
     "metadata": {},
     "output_type": "execute_result"
    }
   ],
   "source": [
    "path = \"/media/dan/Data/git/ubiquitous-spork/prediction/exploration/predict_df_4NetMets_20250319.csv\"\n",
    "df = pd.read_csv(path)\n",
    "df.shape\n"
   ]
  },
  {
   "cell_type": "code",
   "execution_count": 14,
   "metadata": {},
   "outputs": [],
   "source": [
    "electrodes_path = \"/media/dan/Data/data/electrodes_used\"\n",
    "\n",
    "electrodes = {}\n",
    "for file in os.listdir(electrodes_path):\n",
    "    if file.endswith(\".csv\"):\n",
    "        patient_id = int(file.split(\"_\")[0])\n",
    "        tmp = pd.read_csv(os.path.join(electrodes_path, file))\n",
    "        electrodes[patient_id] = tmp['0'].values\n",
    "\n",
    "\n"
   ]
  },
  {
   "cell_type": "code",
   "execution_count": 19,
   "metadata": {},
   "outputs": [],
   "source": [
    "for pid in df['pid'].unique():\n",
    "    if pid in electrodes:\n",
    "        e = df[df['pid'] == pid]['electrode'].values\n",
    "        if set(e) != set(electrodes[pid]):\n",
    "            if len(e) < len(electrodes[pid]):\n",
    "                print(f'Patient {pid} has more electrodes in the csv:')\n",
    "                print(f\"e in csv: {len(e)}\")\n",
    "                print(f\"e used: {len(electrodes[pid])}\")\n",
    "            else:\n",
    "                pass\n",
    "                # print(f'Patient {pid} has less electrodes in the csv:')\n",
    "                # print(f\"e in csv: {len(e)}\")\n",
    "                # print(f\"e used: {len(electrodes[pid])}\")\n",
    "\n",
    "    else:\n",
    "        print(\"no electrodes for patient\", pid)"
   ]
  },
  {
   "cell_type": "code",
   "execution_count": null,
   "metadata": {},
   "outputs": [],
   "source": []
  }
 ],
 "metadata": {
  "kernelspec": {
   "display_name": "networks",
   "language": "python",
   "name": "python3"
  },
  "language_info": {
   "codemirror_mode": {
    "name": "ipython",
    "version": 3
   },
   "file_extension": ".py",
   "mimetype": "text/x-python",
   "name": "python",
   "nbconvert_exporter": "python",
   "pygments_lexer": "ipython3",
   "version": "3.12.9"
  }
 },
 "nbformat": 4,
 "nbformat_minor": 2
}
