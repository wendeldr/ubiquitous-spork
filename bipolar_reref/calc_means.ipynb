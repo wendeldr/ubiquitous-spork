{
 "cells": [
  {
   "cell_type": "code",
   "execution_count": 55,
   "metadata": {},
   "outputs": [],
   "source": [
    "import dill\n",
    "import glob\n",
    "import os\n",
    "import numpy as np\n",
    "import pandas as pd\n",
    "\n",
    "import matplotlib.pyplot as plt\n",
    "import seaborn as sns"
   ]
  },
  {
   "cell_type": "code",
   "execution_count": 49,
   "metadata": {},
   "outputs": [],
   "source": [
    "path = \"/media/dan/Data/git/ubiquitous-spork/bipolar_reref/random_three_pid/run_data/outputs\"\n",
    "\n",
    "files = list(sorted(glob.glob(os.path.join(path, \"*.pkl\"))))"
   ]
  },
  {
   "cell_type": "code",
   "execution_count": 50,
   "metadata": {},
   "outputs": [
    {
     "name": "stderr",
     "output_type": "stream",
     "text": [
      "/tmp/ipykernel_90896/7713227.py:21: RuntimeWarning: Mean of empty slice\n",
      "  results[int(pid)][col] = np.nanmean(data[col], axis=0)\n",
      "/tmp/ipykernel_90896/7713227.py:21: RuntimeWarning: Mean of empty slice\n",
      "  results[int(pid)][col] = np.nanmean(data[col], axis=0)\n",
      "/tmp/ipykernel_90896/7713227.py:21: RuntimeWarning: Mean of empty slice\n",
      "  results[int(pid)][col] = np.nanmean(data[col], axis=0)\n"
     ]
    }
   ],
   "source": [
    "pids = set([os.path.basename(f).split(\"_\")[0] for f in files])\n",
    "results = {}\n",
    "for pid in pids:\n",
    "    if int(pid) not in results:\n",
    "        results[int(pid)] = {}\n",
    "    pid_files = [f for f in files if os.path.basename(f).startswith(pid)]\n",
    "    pid_files = list(sorted(pid_files))\n",
    "    \n",
    "    data = {}\n",
    "    for f in pid_files:\n",
    "        with open(f, \"rb\") as fid:\n",
    "            tmp = dill.load(fid)\n",
    "\n",
    "            # multilevel df\n",
    "            for col in set(tmp.columns.get_level_values(0)):\n",
    "                if col not in data:\n",
    "                    data[col] = []\n",
    "                data[col].append(tmp[col].values)\n",
    "    for col in data:\n",
    "        data[col] = np.array(data[col])\n",
    "        results[int(pid)][col] = np.nanmean(data[col], axis=0)"
   ]
  },
  {
   "cell_type": "code",
   "execution_count": 51,
   "metadata": {},
   "outputs": [
    {
     "data": {
      "text/plain": [
       "soz_label\n",
       "00    350\n",
       "11     66\n",
       "10      8\n",
       "01      3\n",
       "Name: count, dtype: int64"
      ]
     },
     "execution_count": 51,
     "metadata": {},
     "output_type": "execute_result"
    }
   ],
   "source": [
    "used_electrodes = []\n",
    "path = \"/media/dan/Data/git/ubiquitous-spork/bipolar_reref/random_three_pid/run_data/contacts_used\"\n",
    "for pid in pids:\n",
    "    df = pd.read_csv(os.path.join(path, f\"{pid}_contacts_used.csv\"))\n",
    "    pairs = df.contact.str.split(\"-\", expand=True)\n",
    "    pairs.columns = ['contact1', 'contact2']\n",
    "    pairs['contact'] = df['contact']\n",
    "    pairs['pid'] = int(pid)\n",
    "    used_electrodes.append(pairs)\n",
    "used_electrodes = pd.concat(used_electrodes)\n",
    "used_electrodes['soz1'] = False\n",
    "used_electrodes['soz2'] = False\n",
    "\n",
    "\n",
    "ec_df = pd.read_csv('/media/dan/Data/git/ubiquitous-spork/bipolar_reref/FULL_composite_patient_info.csv')\n",
    "ec_df = ec_df[ec_df.pid.isin([int(i) for i in pids])]\n",
    "# label electrode with soz designations\n",
    "for pid,group in ec_df.groupby('pid'):\n",
    "    used_electrodes_for_pid = used_electrodes[used_electrodes.pid == pid]\n",
    "    for i,row in group.iterrows():\n",
    "        used_electrodes.loc[(used_electrodes.pid == pid) & (used_electrodes.contact1 == row['electrode']), 'soz1'] = row['soz']\n",
    "        used_electrodes.loc[(used_electrodes.pid == pid) & (used_electrodes.contact2 == row['electrode']), 'soz2'] = row['soz']\n",
    "# convert binary soz1 and soz2 to label (00, 01, 10, 11)\n",
    "used_electrodes['soz_label'] = used_electrodes.soz1.astype(int).astype(str) + used_electrodes.soz2.astype(int).astype(str)\n",
    "used_electrodes.soz_label.value_counts()\n"
   ]
  },
  {
   "cell_type": "code",
   "execution_count": 62,
   "metadata": {},
   "outputs": [],
   "source": [
    "pid_labels = {}\n",
    "for pid, group in used_electrodes.groupby('pid'):\n",
    "    soz_label = group.soz_label.values\n",
    "    lbls = soz_label.reshape(1, -1) + soz_label.reshape(-1, 1)\n",
    "    \n",
    "    # Create mapping dictionary for categorical labels\n",
    "    label_map = {\n",
    "        '0000': 0, '0001': 1, '0010': 2, '0011': 3,\n",
    "        '0100': 4, '0101': 5, '0110': 6, '0111': 7,\n",
    "        '1000': 8, '1001': 9, '1010': 10, '1011': 11,\n",
    "        '1100': 12, '1101': 13, '1110': 14, '1111': 15\n",
    "    }\n",
    "    \n",
    "    # Convert string labels to categorical numbers\n",
    "    categorical_lbls = np.zeros_like(lbls, dtype=int)\n",
    "    for i in range(lbls.shape[0]):\n",
    "        for j in range(lbls.shape[1]):\n",
    "            categorical_lbls[i,j] = label_map[lbls[i,j]]\n",
    "    \n",
    "    binary_lbls = np.where(categorical_lbls == 0, 0, 1)\n",
    "\n",
    "    if pid not in results:\n",
    "        results[pid] = {}\n",
    "    results[pid]['lbl_binary'] = binary_lbls\n",
    "    results[pid]['lbl_categorical'] = categorical_lbls\n",
    "    results[pid]['lbl_raw'] = lbls\n"
   ]
  },
  {
   "cell_type": "code",
   "execution_count": 64,
   "metadata": {},
   "outputs": [],
   "source": [
    "for pid, pid_data in results.items():\n",
    "    measures = list(pid_data.keys())\n",
    "    for measure in measures:\n",
    "        if measure == 'lbl_binary':\n",
    "            continue\n",
    "        if measure == 'lbl_categorical':\n",
    "            continue\n",
    "        if measure == 'lbl_raw':\n",
    "            continue\n",
    "        tmp = pid_data[measure]\n",
    "        mean_ = np.nanmean(tmp,)\n",
    "        sns.heatmap(tmp, cmap='tab20')\n",
    "        break"
   ]
  },
  {
   "cell_type": "code",
   "execution_count": null,
   "metadata": {},
   "outputs": [],
   "source": []
  }
 ],
 "metadata": {
  "kernelspec": {
   "display_name": "networks",
   "language": "python",
   "name": "python3"
  },
  "language_info": {
   "codemirror_mode": {
    "name": "ipython",
    "version": 3
   },
   "file_extension": ".py",
   "mimetype": "text/x-python",
   "name": "python",
   "nbconvert_exporter": "python",
   "pygments_lexer": "ipython3",
   "version": "3.12.9"
  }
 },
 "nbformat": 4,
 "nbformat_minor": 2
}
