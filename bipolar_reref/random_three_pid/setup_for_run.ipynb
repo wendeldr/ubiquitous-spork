{
 "cells": [
  {
   "cell_type": "code",
   "execution_count": 2,
   "metadata": {},
   "outputs": [],
   "source": [
    "import os\n",
    "from connection_complexity.data.raw_data.EDF.edf_helpers import read_edf\n",
    "import connection_complexity.data.rereference_helpers as reref_helpers\n",
    "from tqdm import tqdm\n",
    "\n",
    "from mne import make_fixed_length_epochs\n",
    "import pandas as pd\n",
    "import numpy as np"
   ]
  },
  {
   "cell_type": "code",
   "execution_count": null,
   "metadata": {},
   "outputs": [
    {
     "ename": "NameError",
     "evalue": "name 'reref_helpers' is not defined",
     "output_type": "error",
     "traceback": [
      "\u001b[31m---------------------------------------------------------------------------\u001b[39m",
      "\u001b[31mNameError\u001b[39m                                 Traceback (most recent call last)",
      "\u001b[36mCell\u001b[39m\u001b[36m \u001b[39m\u001b[32mIn[1]\u001b[39m\u001b[32m, line 1\u001b[39m\n\u001b[32m----> \u001b[39m\u001b[32m1\u001b[39m \u001b[43mreref_helpers\u001b[49m.rereference()\n",
      "\u001b[31mNameError\u001b[39m: name 'reref_helpers' is not defined"
     ]
    }
   ],
   "source": [
    "reref_helpers.rereference()"
   ]
  },
  {
   "cell_type": "code",
   "execution_count": null,
   "metadata": {},
   "outputs": [],
   "source": [
    "project_path = \"/home/dan/data/connectivity/pyspi_testing\""
   ]
  },
  {
   "cell_type": "code",
   "execution_count": 14,
   "metadata": {},
   "outputs": [
    {
     "name": "stdout",
     "output_type": "stream",
     "text": [
      "/media/dan/Data/data/baseline_patients/baseline_edfs/106_Baseline.EDF\n"
     ]
    },
    {
     "name": "stderr",
     "output_type": "stream",
     "text": [
      "100%|██████████| 601/601 [00:00<00:00, 1166.34it/s]\n"
     ]
    },
    {
     "name": "stdout",
     "output_type": "stream",
     "text": [
      "/media/dan/Data/data/baseline_patients/baseline_edfs/095_Baseline.EDF\n"
     ]
    },
    {
     "name": "stderr",
     "output_type": "stream",
     "text": [
      "100%|██████████| 603/603 [00:00<00:00, 1220.85it/s]\n"
     ]
    },
    {
     "name": "stdout",
     "output_type": "stream",
     "text": [
      "/media/dan/Data/data/baseline_patients/baseline_edfs/039_Baseline.EDF\n"
     ]
    },
    {
     "name": "stderr",
     "output_type": "stream",
     "text": [
      "100%|██████████| 605/605 [00:00<00:00, 1276.17it/s]\n"
     ]
    }
   ],
   "source": [
    "pids = [106,95,39] # all 2048 hz pts\n",
    "npy_output_path = f\"/media/dan/Data/git/ubiquitous-spork/bipolar_reref/random_three_pid/run_data/npy\"\n",
    "contacts_used_output_path = f\"/media/dan/Data/git/ubiquitous-spork/bipolar_reref/random_three_pid/run_data/contacts_used\"\n",
    "# make output paths\n",
    "if not os.path.exists(npy_output_path):\n",
    "    os.makedirs(npy_output_path)\n",
    "\n",
    "if not os.path.exists(contacts_used_output_path):\n",
    "    os.makedirs(contacts_used_output_path)\n",
    "\n",
    "for pid in pids:\n",
    "    file = f\"/media/dan/Data/data/baseline_patients/baseline_edfs/{pid:03}_Baseline.EDF\"\n",
    "    print(file)\n",
    "    raw = read_edf(file, preload=True)\n",
    "\n",
    "    # filter\n",
    "    sfreq = raw.info[\"sfreq\"]\n",
    "    nyq_freq = raw.info[\"sfreq\"] // 2 - 1\n",
    "    line_freq = 60\n",
    "    l_freq = 0.5\n",
    "    h_freq = min(nyq_freq, 300)\n",
    "    raw = raw.filter(l_freq=l_freq, h_freq=h_freq)\n",
    "    freqs = np.arange(line_freq, max(h_freq, nyq_freq), line_freq)\n",
    "    raw = raw.notch_filter(freqs=freqs, method=\"fir\")\n",
    "\n",
    "    # bipolar reference\n",
    "    raw = reref_helpers.rereference(raw, rereference_scheme=\"standard\")\n",
    "\n",
    "    contacts_used = raw.ch_names\n",
    "    # save csv of contacts used\n",
    "    pd.DataFrame(contacts_used, columns=[\"contact\"]).to_csv(os.path.join(contacts_used_output_path, f\"{pid:03}_contacts_used.csv\"), index=False)\n",
    "    \n",
    "    # non overlapping epochs\n",
    "    dur_sec = .5\n",
    "    overlap_sec = 0\n",
    "    epochs = make_fixed_length_epochs(raw, duration=dur_sec,overlap=overlap_sec, preload=True)\n",
    "    epochs = epochs.get_data()\n",
    "\n",
    "\n",
    "    for i, e in enumerate(tqdm(epochs)): \n",
    "        start_idx = int(sfreq * dur_sec) * i\n",
    "        end_idx = start_idx + int(sfreq * dur_sec)\n",
    "        np.save(os.path.join(npy_output_path, f\"{pid:03}_epoch_{start_idx:010d}-{end_idx:010d}.npy\"), e)\n"
   ]
  },
  {
   "cell_type": "code",
   "execution_count": 15,
   "metadata": {},
   "outputs": [],
   "source": [
    "# define the YAML file location\n",
    "yaml_file = os.path.join(npy_output_path,\"run_config.yaml\")\n",
    "\n",
    "# remove the file if it already exists\n",
    "if os.path.exists(yaml_file):\n",
    "    os.remove(yaml_file)\n",
    "\n",
    "# ps -> rows = processes; columns = time pts.\n",
    "dim_order = \"ps\"\n",
    "\n",
    "\n",
    "import glob\n",
    "files = list(sorted(list(glob.glob(os.path.join(npy_output_path, \"*.npy\")))))\n",
    "\n",
    "for f in sorted(files): # start 1 minute in only use first 5 seconds\n",
    "    # get the epoch number\n",
    "    i = os.path.basename(f).split(\"_\")[-1].split(\".\")[0]\n",
    "\n",
    "    pid = os.path.basename(f).split(\"_\")[0]\n",
    "    # define template string and fill in variables\n",
    "    \n",
    "    lbl = f\"{pid}_epoch_{i}\"\n",
    "    path = os.path.join(npy_output_path, lbl)\n",
    "    yaml_string = \"{{file: {file}.npy, name: {key}, dim_order: {dim_order}, labels: [{key}]}}\\n\"\n",
    "    yaml_string_formatted = f\"- {yaml_string.format(file=path, key=lbl, dim_order=dim_order)}\"\n",
    "\n",
    "    # append line to file\n",
    "    with open(yaml_file, \"a\") as f:\n",
    "        f.write(yaml_string_formatted)"
   ]
  },
  {
   "cell_type": "markdown",
   "metadata": {},
   "source": [
    "# make sure yaml loads"
   ]
  },
  {
   "cell_type": "code",
   "execution_count": 18,
   "metadata": {},
   "outputs": [],
   "source": [
    "import yaml\n",
    "with open(yaml_file) as d:\n",
    "    yf = yaml.load(d,Loader=yaml.FullLoader)"
   ]
  },
  {
   "cell_type": "code",
   "execution_count": null,
   "metadata": {},
   "outputs": [],
   "source": []
  }
 ],
 "metadata": {
  "kernelspec": {
   "display_name": "networks",
   "language": "python",
   "name": "python3"
  },
  "language_info": {
   "codemirror_mode": {
    "name": "ipython",
    "version": 3
   },
   "file_extension": ".py",
   "mimetype": "text/x-python",
   "name": "python",
   "nbconvert_exporter": "python",
   "pygments_lexer": "ipython3",
   "version": "3.12.9"
  }
 },
 "nbformat": 4,
 "nbformat_minor": 2
}
